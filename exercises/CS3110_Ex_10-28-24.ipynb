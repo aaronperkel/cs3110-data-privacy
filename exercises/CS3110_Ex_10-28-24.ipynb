{
 "cells": [
  {
   "cell_type": "markdown",
   "metadata": {},
   "source": [
    "# CS 3110/5110: Data Privacy\n",
    "## In-Class Exercise, week of 10/28/2024"
   ]
  },
  {
   "cell_type": "code",
   "execution_count": 57,
   "metadata": {},
   "outputs": [],
   "source": [
    "# Load the data and libraries\n",
    "import pandas as pd\n",
    "import numpy as np\n",
    "from scipy import stats\n",
    "import matplotlib.pyplot as plt\n",
    "\n",
    "def laplace_mech(v, sensitivity, epsilon):\n",
    "    return v + np.random.laplace(loc=0, scale=sensitivity / epsilon)\n",
    "\n",
    "def gaussian_mech(v, sensitivity, epsilon, delta):\n",
    "    return v + np.random.normal(loc=0, scale=sensitivity * np.sqrt(2*np.log(1.25/delta)) / epsilon)\n",
    "\n",
    "def gaussian_mech_vec(vec, sensitivity, epsilon, delta):\n",
    "    return [v + np.random.normal(loc=0, scale=sensitivity * np.sqrt(2*np.log(1.25/delta)) / epsilon)\n",
    "            for v in vec]\n",
    "\n",
    "def pct_error(orig, priv):\n",
    "    return np.abs(orig - priv)/orig * 100.0\n",
    "\n",
    "# adult = pd.read_csv('https://github.com/jnear/cs211-data-privacy/raw/master/homework/adult_with_pii.csv')"
   ]
  },
  {
   "cell_type": "code",
   "execution_count": 58,
   "metadata": {},
   "outputs": [],
   "source": [
    "# Load data files\n",
    "import numpy as np\n",
    "import urllib.request\n",
    "import io\n",
    "\n",
    "url_x = 'https://github.com/jnear/cs211-data-privacy/raw/master/slides/adult_processed_x.npy'\n",
    "url_y = 'https://github.com/jnear/cs211-data-privacy/raw/master/slides/adult_processed_y.npy'\n",
    "\n",
    "with urllib.request.urlopen(url_x) as url:\n",
    "    f = io.BytesIO(url.read())\n",
    "X = np.load(f)\n",
    "\n",
    "with urllib.request.urlopen(url_y) as url:\n",
    "    f = io.BytesIO(url.read())\n",
    "y = np.load(f)"
   ]
  },
  {
   "cell_type": "code",
   "execution_count": 59,
   "metadata": {},
   "outputs": [
    {
     "name": "stdout",
     "output_type": "stream",
     "text": [
      "Train and test set sizes: 36176 9044\n"
     ]
    }
   ],
   "source": [
    "# Split data into training and test sets\n",
    "training_size = int(X.shape[0] * 0.8)\n",
    "\n",
    "X_train = X[:training_size]\n",
    "X_test = X[training_size:]\n",
    "\n",
    "y_train = y[:training_size]\n",
    "y_test = y[training_size:]\n",
    "\n",
    "print('Train and test set sizes:', len(y_train), len(y_test))"
   ]
  },
  {
   "cell_type": "markdown",
   "metadata": {},
   "source": [
    "## Question 1\n",
    "\n",
    "Using scikit-learn, train a logistic regression model on the training data loaded above."
   ]
  },
  {
   "cell_type": "code",
   "execution_count": 60,
   "metadata": {},
   "outputs": [],
   "source": [
    "from sklearn.linear_model import LogisticRegression"
   ]
  },
  {
   "cell_type": "code",
   "execution_count": 61,
   "metadata": {
    "deletable": false,
    "nbgrader": {
     "cell_type": "code",
     "checksum": "6eeb7ec9241a2a7c54c5594dc4d77c69",
     "grade": true,
     "grade_id": "cell-32c8bf5cd1ba5719",
     "locked": false,
     "points": 10,
     "schema_version": 3,
     "solution": true,
     "task": false
    }
   },
   "outputs": [
    {
     "name": "stdout",
     "output_type": "stream",
     "text": [
      "Model coefficients: [ 4.78327308e-01 -1.79806028e-01 -3.39637532e-02  6.86128365e-02\n",
      " -5.90903592e-01 -3.66078081e-01 -1.06091721e+00 -6.69647736e-01\n",
      " -6.36797526e-01 -4.60550239e-01 -5.10404525e-01 -3.97748916e-01\n",
      " -7.57623491e-01 -7.81058902e-01  6.35961618e-02  1.18095574e-01\n",
      "  5.10802728e-01  1.00300755e+00 -1.12204317e-01  7.38182516e-01\n",
      " -1.18480223e+00  1.28199853e+00  1.10426298e-01 -8.97809166e-01\n",
      "  1.50211124e+00  1.25219604e+00 -5.83417398e-01 -1.31365464e+00\n",
      " -8.89699764e-01 -7.54454833e-01 -5.67112384e-02  5.14967749e-02\n",
      " -7.26307020e-04  7.21919618e-01 -8.96583904e-01 -6.94331444e-01\n",
      " -3.23904746e-01 -9.41122244e-01 -1.09675692e+00  4.72945528e-01\n",
      "  4.76971382e-01  2.21660397e-01  5.09693212e-01 -1.29278625e-01\n",
      " -3.74347246e-01  1.91420884e-03 -7.74112146e-01 -1.05078670e+00\n",
      " -1.90500912e-01  7.03104276e-01 -5.02404187e-01 -4.49306974e-02\n",
      " -4.87959500e-01 -4.17916902e-01 -2.31517233e-01 -1.17503594e+00\n",
      " -5.09692581e-01  8.94653030e-01  6.12652401e-01 -2.84243265e-01\n",
      " -1.27128729e+00  1.14028887e-01 -4.79541739e-01 -2.56477971e-01\n",
      " -1.84733871e-01  6.39905943e-01  8.82896664e-01  1.59819723e-02\n",
      "  4.91283837e-02  5.38907650e-02  4.10307885e-01 -1.65067136e-02\n",
      "  7.53837087e-02 -2.71897512e-01  5.79665044e-01  1.70343181e-02\n",
      "  2.56123503e-01  7.50927705e-01  7.69580622e-01  2.66346119e-01\n",
      " -8.56107969e-02 -7.44020852e-01 -5.85324517e-01 -3.65786611e-01\n",
      " -3.50624588e-01 -5.70968722e-01  2.68347403e-01  3.61523832e-02\n",
      "  3.74305197e-01 -2.17850592e-01 -9.50932075e-01 -6.53234962e-01\n",
      " -1.22520117e-01 -6.43386793e-01 -4.87978060e-01  3.02756056e-01\n",
      " -9.45899130e-01  4.34029669e-01  2.26095679e+00  1.02640835e+00\n",
      "  1.99470008e+00  1.86499248e+01  2.57227080e+00  2.74290944e+00]\n",
      "Model accuracy: 0.8447589562140646\n"
     ]
    },
    {
     "name": "stderr",
     "output_type": "stream",
     "text": [
      "/Library/Frameworks/Python.framework/Versions/3.10/lib/python3.10/site-packages/sklearn/linear_model/_logistic.py:460: ConvergenceWarning: lbfgs failed to converge (status=1):\n",
      "STOP: TOTAL NO. of ITERATIONS REACHED LIMIT.\n",
      "\n",
      "Increase the number of iterations (max_iter) or scale the data as shown in:\n",
      "    https://scikit-learn.org/stable/modules/preprocessing.html\n",
      "Please also refer to the documentation for alternative solver options:\n",
      "    https://scikit-learn.org/stable/modules/linear_model.html#logistic-regression\n",
      "  n_iter_i = _check_optimize_result(\n"
     ]
    }
   ],
   "source": [
    "def train_model():\n",
    "    model = LogisticRegression()\n",
    "    model.fit(X_train, y_train)\n",
    "    return model\n",
    "\n",
    "model = train_model()\n",
    "print('Model coefficients:', model.coef_[0])\n",
    "print('Model accuracy:', np.sum(model.predict(X_test) == y_test)/X_test.shape[0])"
   ]
  },
  {
   "cell_type": "markdown",
   "metadata": {},
   "source": [
    "## Question 2\n",
    "\n",
    "Implement the *average gradient* of the loss below."
   ]
  },
  {
   "cell_type": "code",
   "execution_count": 62,
   "metadata": {},
   "outputs": [
    {
     "data": {
      "text/plain": [
       "(104,)"
      ]
     },
     "execution_count": 62,
     "metadata": {},
     "output_type": "execute_result"
    }
   ],
   "source": [
    "theta = [0 for _ in range(104)]\n",
    "i=1\n",
    "gradient(theta, X_train[i], y_train[i]).shape"
   ]
  },
  {
   "cell_type": "code",
   "execution_count": 63,
   "metadata": {},
   "outputs": [],
   "source": [
    "# The loss function measures how good our model is. The training goal is to minimize the loss.\n",
    "# This is the logistic loss function.\n",
    "def loss(theta, xi, yi):\n",
    "    exponent = - yi * (xi.dot(theta))\n",
    "    return np.log(1 + np.exp(exponent))\n",
    "\n",
    "# This is the gradient of the logistic loss\n",
    "# The gradient is a vector that indicates the rate of change of the loss in each direction\n",
    "def gradient(theta, xi, yi):\n",
    "    exponent = yi * (xi.dot(theta))\n",
    "    return - (yi*xi) / (1+np.exp(exponent))"
   ]
  },
  {
   "cell_type": "code",
   "execution_count": 64,
   "metadata": {
    "deletable": false,
    "nbgrader": {
     "cell_type": "code",
     "checksum": "ab7d67d24660b6cbf040bc661971aaa0",
     "grade": true,
     "grade_id": "cell-ace29743234ed3f6",
     "locked": false,
     "points": 10,
     "schema_version": 3,
     "solution": true,
     "task": false
    }
   },
   "outputs": [],
   "source": [
    "def avg_grad(theta, X, y):\n",
    "    #list of vectors, each vector has length of 104\n",
    "    all_grads = [gradient(theta, X[i], y[i]) for i in range(len(X))]\n",
    "    avg_grad = np.mean(all_grads, axis=0)\n",
    "    return avg_grad"
   ]
  },
  {
   "cell_type": "code",
   "execution_count": 65,
   "metadata": {},
   "outputs": [
    {
     "data": {
      "text/plain": [
       "(104,)"
      ]
     },
     "execution_count": 65,
     "metadata": {},
     "output_type": "execute_result"
    }
   ],
   "source": [
    "avg_grad(theta, X_train, y_train).shape"
   ]
  },
  {
   "cell_type": "markdown",
   "metadata": {},
   "source": [
    "## Question 3\n",
    "\n",
    "Use the average gradient from above to implement a gradient descent algorithm."
   ]
  },
  {
   "cell_type": "code",
   "execution_count": 66,
   "metadata": {},
   "outputs": [
    {
     "data": {
      "text/plain": [
       "array([ 1.63933476e-02, -2.62737908e-02, -3.76703876e-01,  5.75414219e-02,\n",
       "       -6.45755008e-02, -2.73486282e-02, -1.30672661e-03, -5.91543132e-02,\n",
       "       -7.64880798e-02, -2.62061378e-02, -1.57561761e-02, -2.86662073e-02,\n",
       "       -4.72301785e-02, -3.76260473e-02, -9.90166218e-03, -1.97245917e-02,\n",
       "        1.55177596e-01,  4.49929106e-02, -3.29796604e-01,  1.19518106e-01,\n",
       "       -4.89454322e-03,  6.88790663e-02, -1.55396891e-01, -1.80599005e-01,\n",
       "        1.54260151e-03,  3.89119966e-01, -1.97894731e-02, -5.15748994e-01,\n",
       "       -5.58626968e-02, -4.09361505e-02, -1.28065226e-01, -1.62203385e-04,\n",
       "       -1.08119029e-01,  1.88498244e-01, -6.47481586e-02, -8.66006277e-02,\n",
       "       -9.99400278e-02, -2.05565204e-01, -1.11388992e-02,  1.61706332e-01,\n",
       "       -3.59862313e-03, -1.50012146e-02,  1.68869178e-03, -5.12278071e-02,\n",
       "        3.20211424e-01, -2.99730645e-01, -6.21807885e-02, -2.79987375e-01,\n",
       "       -1.81265739e-01,  8.06793703e-02, -1.62147320e-02, -2.28589562e-02,\n",
       "       -1.37829430e-01, -1.60678844e-02, -2.29302751e-01, -3.66995428e-01,\n",
       "       -5.52783255e-02,  1.71465403e-04,  1.01657252e-03, -2.30554477e-03,\n",
       "       -4.49929315e-03, -3.16006935e-03, -5.97944101e-03, -2.17232333e-03,\n",
       "       -6.49185240e-03,  2.25224908e-03,  1.03307811e-03, -2.97354842e-03,\n",
       "        4.61969711e-06, -4.47281179e-03, -2.64817559e-03, -6.27231883e-05,\n",
       "       -8.45045871e-04, -5.36070827e-04,  9.85204107e-05,  8.18802416e-04,\n",
       "        2.81426612e-04, -1.10188120e-04, -3.16311117e-04, -4.14059871e-03,\n",
       "       -2.56618731e-04, -1.23603629e-03, -5.52492747e-02, -2.68278922e-03,\n",
       "       -1.13850454e-03, -2.58782610e-03, -4.19239246e-03, -2.31953654e-03,\n",
       "       -2.62620550e-03, -8.63337753e-03, -1.04120760e-03, -4.43136447e-03,\n",
       "        2.32630683e-04, -1.21364005e-03, -1.63560801e-03, -2.93003921e-01,\n",
       "       -5.03114545e-03, -1.89672372e-04, -7.59047983e-02, -5.58277360e-02,\n",
       "       -6.33588757e-02,  5.91506903e-02,  4.41760150e-02, -8.32223096e-02])"
      ]
     },
     "execution_count": 66,
     "metadata": {},
     "output_type": "execute_result"
    }
   ],
   "source": [
    "def gradient_descent(iterations):\n",
    "    theta = [0  for _ in range(104)]\n",
    "    for _ in range(iterations):\n",
    "        theta = theta - avg_grad(theta, X_train, y_train)\n",
    "    return theta\n",
    "\n",
    "theta = gradient_descent(10)\n",
    "theta"
   ]
  },
  {
   "cell_type": "code",
   "execution_count": 67,
   "metadata": {
    "deletable": false,
    "nbgrader": {
     "cell_type": "code",
     "checksum": "c4850cab1fb79077d710818b58adf4fc",
     "grade": true,
     "grade_id": "cell-87483deb56e7ce88",
     "locked": false,
     "points": 10,
     "schema_version": 3,
     "solution": true,
     "task": false
    }
   },
   "outputs": [
    {
     "data": {
      "text/plain": [
       "0.7787483414418399"
      ]
     },
     "execution_count": 67,
     "metadata": {},
     "output_type": "execute_result"
    }
   ],
   "source": [
    "# Prediction: take a model (theta) and a single example (xi) and return its predicted label\n",
    "def predict(xi, theta, bias=0):\n",
    "    label = np.sign(xi @ theta + bias)\n",
    "    return label\n",
    "\n",
    "def accuracy(theta):\n",
    "    return np.sum(predict(X_test, theta) == y_test)/X_test.shape[0]\n",
    "\n",
    "accuracy(theta)"
   ]
  },
  {
   "cell_type": "markdown",
   "metadata": {},
   "source": [
    "## Question 4\n",
    "\n",
    "Implement a *noisy gradient descent* algorithm.\n",
    "\n",
    "1. Calculate gradients for each example\n",
    "2. Clip the gradients to have bounded $L2$ norm\n",
    "3. Sum the clipped gradients\n",
    "4. Use the Gaussian mechanism to add noise to the sum of gradients"
   ]
  },
  {
   "cell_type": "code",
   "execution_count": 68,
   "metadata": {},
   "outputs": [
    {
     "data": {
      "text/plain": [
       "1256257"
      ]
     },
     "execution_count": 68,
     "metadata": {},
     "output_type": "execute_result"
    }
   ],
   "source": [
    "adult['Age'].clip(lower=0, upper=100).sum()"
   ]
  },
  {
   "cell_type": "code",
   "execution_count": 69,
   "metadata": {
    "deletable": false,
    "nbgrader": {
     "cell_type": "code",
     "checksum": "08fb7218fda03e851c308317aac647b0",
     "grade": false,
     "grade_id": "cell-0b1fc630cdb8484b",
     "locked": false,
     "schema_version": 3,
     "solution": true,
     "task": false
    }
   },
   "outputs": [
    {
     "name": "stdout",
     "output_type": "stream",
     "text": [
      "Final accuracy: 0.7787483414418399\n"
     ]
    }
   ],
   "source": [
    "def L2_clip(v, b):\n",
    "    norm = np.linalg.norm(v, ord=2)\n",
    "    \n",
    "    if norm > b:\n",
    "        return b * (v / norm)\n",
    "    else:\n",
    "        return v\n",
    "\n",
    "def noisy_gradient_descent(iterations, epsilon, delta):\n",
    "    theta = np.array([0 for _ in range(104)]) # initial model\n",
    "    epsilon_i = epsilon/iterations\n",
    "    delta_i = delta/ iterations\n",
    "    for _ in range(iterations):\n",
    "        #grad = avg_grad(theta, X_train, y_train)\n",
    "        #goal\n",
    "        #1. compute one gradient per example in X_train\n",
    "        all_grads = [gradient(theta, X_train[i], y_train[i]) for i in range(len(X_train))]\n",
    "        \n",
    "        #2. calll L2_clip on each gradient\n",
    "        b = 3\n",
    "        clipped_grads = [L2_clip(g, b) for g in all_grads]\n",
    "    \n",
    "        #3. take the sum of the clipped gradients and add noise\n",
    "        grad_sum = np.sum(clipped_grads, axis=0)\n",
    "        #TODO: sensitivity is correct by clipping \n",
    "        noisy_grad_sum = gaussian_mech_vec(grad_sum, sensitivity=5, epsilon=epsilon_i, delta=delta_i)\n",
    "        #Danger: reveals the size of the training data \n",
    "        #this is not a big deal to reveal \n",
    "        noisy_grad = np.array(noisy_grad_sum)/ len(X_train)\n",
    "        theta = theta - noisy_grad\n",
    "    return theta\n",
    "\n",
    "theta = noisy_gradient_descent(10, 10000000, 1e-5)\n",
    "print('Final accuracy:', accuracy(theta))"
   ]
  },
  {
   "cell_type": "code",
   "execution_count": 70,
   "metadata": {
    "deletable": false,
    "editable": false,
    "nbgrader": {
     "cell_type": "code",
     "checksum": "cd498649d6383404040839a1ac75d0c4",
     "grade": true,
     "grade_id": "cell-abdbebcaa40aa5f7",
     "locked": true,
     "points": 5,
     "schema_version": 3,
     "solution": false,
     "task": false
    }
   },
   "outputs": [],
   "source": [
    "# TEST CASE\n",
    "\n",
    "assert accuracy(noisy_gradient_descent(5, 0.001, 1e-5)) < 0.76\n",
    "assert accuracy(noisy_gradient_descent(5, 1.0, 1e-5)) > 0.70"
   ]
  },
  {
   "cell_type": "markdown",
   "metadata": {},
   "source": [
    "## Question 5\n",
    "\n",
    "What is the *total privacy cost* of the noisy gradient descent algorithm above, and why? Argue informally that the algorithm satisfies this privacy cost. Use sequential composition."
   ]
  },
  {
   "cell_type": "markdown",
   "metadata": {
    "deletable": false,
    "nbgrader": {
     "cell_type": "markdown",
     "checksum": "01db8df655fd88392405c730527f3e64",
     "grade": true,
     "grade_id": "cell-ba58f3f4ee199481",
     "locked": false,
     "points": 5,
     "schema_version": 3,
     "solution": true,
     "task": false
    }
   },
   "source": [
    "1. Sensitivity:\n",
    "   - I use a sensitivity of b, the l2 clipping parameter, when calling 'gaussian_mech_vec'\n",
    "   - I enforce an L2 global  sensitivity of 'b' by performing L2 clipping on each gradient\n",
    "3. Composition:\n",
    "   -I run the 'gaussian_mech_vec' 'iterations' times, with 'epsilon_i', 'detla_i' each time\n",
    "   - Total cost is 'iterations * epsilon_i = epsilon', 'iterations * delta_i = delta'- differential privacy by sequential composition of (epsilon,delta)-DP\n",
    "5. post-processing:\n",
    "   - Theta starts as all 0s, so it has no info from the training data\n",
    "   -  Every iteration of the loop updates theta, but only using differentiall private results\n",
    "   -   Therefore, its ok to return theta by post-processing\n",
    "   -   EXCEPT: the length of the training data does leak into theta\n"
   ]
  },
  {
   "cell_type": "markdown",
   "metadata": {},
   "source": [
    "## Question 6\n",
    "\n",
    "Repeat the above, but using advanced composition."
   ]
  },
  {
   "cell_type": "code",
   "execution_count": 71,
   "metadata": {},
   "outputs": [
    {
     "name": "stdout",
     "output_type": "stream",
     "text": [
      "0.9999999999999999\n",
      "1.0000000000000003e-05\n"
     ]
    }
   ],
   "source": [
    "# goal: total privacy cost is (epsilon, delta)-DP by advanced composition\n",
    "iterations = 10\n",
    "target_epsilon =1.0\n",
    "target_delta= 1e-5\n",
    "\n",
    "delta_prime = target_delta/2\n",
    "epsilon_i = target_epsilon/(2*np.sqrt(2*iterations*np.log(1/delta_prime)))\n",
    "delta_i = (target_delta/2)/iterations\n",
    "\n",
    "\n",
    "print(2*epsilon_i*np.sqrt(2*iterations*np.log(1/delta_prime)))\n",
    "print(iterations*delta_i + delta_prime)\n"
   ]
  },
  {
   "cell_type": "markdown",
   "metadata": {
    "deletable": false,
    "nbgrader": {
     "cell_type": "markdown",
     "checksum": "ec1e540eb29decdc214d46eeb15c6da1",
     "grade": true,
     "grade_id": "cell-c9effbc5db1e2de3",
     "locked": false,
     "points": 5,
     "schema_version": 3,
     "solution": true,
     "task": false
    }
   },
   "source": [
    "I would set:\n",
    "- $\\epsilon_i$ = `target_epsilon/(2*np.sqrt(2*iterations*np.log(1/delta_prime)))`\n",
    "- $\\delta_i$  = `(target_delta/2)/iterations`"
   ]
  },
  {
   "cell_type": "markdown",
   "metadata": {},
   "source": [
    "## Question 7\n",
    "\n",
    "Implement a version of noisy gradient descent that satisfies a *total* of $(\\epsilon, \\delta)$-differential privacy. Use sequential composition."
   ]
  },
  {
   "cell_type": "code",
   "execution_count": 72,
   "metadata": {
    "deletable": false,
    "nbgrader": {
     "cell_type": "code",
     "checksum": "f395037ed06f9bc220e8413ebb6f6c88",
     "grade": false,
     "grade_id": "cell-a4171a5ddcc6c2b8",
     "locked": false,
     "schema_version": 3,
     "solution": true,
     "task": false
    }
   },
   "outputs": [],
   "source": [
    "# WE DID THIS IS QUESTION 4"
   ]
  },
  {
   "cell_type": "code",
   "execution_count": 52,
   "metadata": {
    "deletable": false,
    "editable": false,
    "nbgrader": {
     "cell_type": "code",
     "checksum": "2865f43d86f1182e018799fdd13512a7",
     "grade": true,
     "grade_id": "cell-abd0ebcaa40aa5f7",
     "locked": true,
     "points": 5,
     "schema_version": 3,
     "solution": false,
     "task": false
    }
   },
   "outputs": [
    {
     "ename": "AssertionError",
     "evalue": "",
     "output_type": "error",
     "traceback": [
      "\u001b[0;31m---------------------------------------------------------------------------\u001b[0m",
      "\u001b[0;31mAssertionError\u001b[0m                            Traceback (most recent call last)",
      "Cell \u001b[0;32mIn[52], line 4\u001b[0m\n\u001b[1;32m      1\u001b[0m \u001b[38;5;66;03m# TEST CASE\u001b[39;00m\n\u001b[1;32m      3\u001b[0m \u001b[38;5;28;01massert\u001b[39;00m accuracy(noisy_gradient_descent(\u001b[38;5;241m5\u001b[39m, \u001b[38;5;241m0.001\u001b[39m, \u001b[38;5;241m1e-5\u001b[39m)) \u001b[38;5;241m<\u001b[39m \u001b[38;5;241m0.76\u001b[39m\n\u001b[0;32m----> 4\u001b[0m \u001b[38;5;28;01massert\u001b[39;00m accuracy(noisy_gradient_descent(\u001b[38;5;241m5\u001b[39m, \u001b[38;5;241m1.0\u001b[39m, \u001b[38;5;241m1e-5\u001b[39m)) \u001b[38;5;241m>\u001b[39m \u001b[38;5;241m0.70\u001b[39m\n",
      "\u001b[0;31mAssertionError\u001b[0m: "
     ]
    }
   ],
   "source": [
    "# TEST CASE\n",
    "\n",
    "assert accuracy(noisy_gradient_descent(5, 0.001, 1e-5)) < 0.76\n",
    "assert accuracy(noisy_gradient_descent(5, 1.0, 1e-5)) > 0.70"
   ]
  }
 ],
 "metadata": {
  "kernelspec": {
   "display_name": "Python 3",
   "language": "python",
   "name": "python3"
  },
  "language_info": {
   "codemirror_mode": {
    "name": "ipython",
    "version": 3
   },
   "file_extension": ".py",
   "mimetype": "text/x-python",
   "name": "python",
   "nbconvert_exporter": "python",
   "pygments_lexer": "ipython3",
   "version": "3.10.2"
  }
 },
 "nbformat": 4,
 "nbformat_minor": 4
}
