{
 "cells": [
  {
   "cell_type": "markdown",
   "metadata": {},
   "source": [
    "# CS 3110/5110: Data Privacy\n",
    "## In-Class Exercises, week of 9/9/2024"
   ]
  },
  {
   "cell_type": "code",
   "execution_count": 1,
   "metadata": {},
   "outputs": [],
   "source": [
    "# Load the data and libraries\n",
    "import pandas as pd\n",
    "import numpy as np\n",
    "from scipy import stats\n",
    "import matplotlib.pyplot as plt\n",
    "\n",
    "adult = pd.read_csv('https://github.com/jnear/cs3110-data-privacy/raw/main/homework/adult_with_pii.csv')"
   ]
  },
  {
   "cell_type": "markdown",
   "metadata": {},
   "source": [
    "## Question 1\n",
    "\n",
    "Write a *counting query* to determine whether or not Karrie Trusslove's age is 39."
   ]
  },
  {
   "cell_type": "code",
   "execution_count": 2,
   "metadata": {
    "deletable": false,
    "editable": false,
    "nbgrader": {
     "cell_type": "code",
     "checksum": "892dc90720e17d35952c0effcc37f458",
     "grade": true,
     "grade_id": "cell-f93cfd0eb59130ed",
     "locked": true,
     "points": 5,
     "schema_version": 3,
     "solution": false,
     "task": false
    }
   },
   "outputs": [],
   "source": [
    "def karrie_query():\n",
    "    return len(adult[(adult['Name'] == 'Karrie Trusslove') & (adult['Age'] == 39)])\n",
    "\n",
    "assert karrie_query() == 1"
   ]
  },
  {
   "cell_type": "markdown",
   "metadata": {},
   "source": [
    "## Question 2\n",
    "\n",
    "Add Laplace noise to the counting query you wrote in the last question to ensure differential privacy for $\\epsilon = 1.0$."
   ]
  },
  {
   "cell_type": "code",
   "execution_count": 3,
   "metadata": {
    "deletable": false,
    "nbgrader": {
     "cell_type": "code",
     "checksum": "69717756b100a54b71507c8fa2b9f55e",
     "grade": false,
     "grade_id": "cell-8ad72c55497bc534",
     "locked": false,
     "schema_version": 3,
     "solution": true,
     "task": false
    }
   },
   "outputs": [],
   "source": [
    "def dp_karrie_query():\n",
    "    original_answer = karrie_query()\n",
    "    epsilon = 1\n",
    "    # to get differential privacy, add some random noise to the true answer\n",
    "    return original_answer + np.random.laplace(loc=0, scale=1/epsilon)"
   ]
  },
  {
   "cell_type": "code",
   "execution_count": 4,
   "metadata": {},
   "outputs": [
    {
     "data": {
      "text/plain": [
       "0.9988264036616056"
      ]
     },
     "execution_count": 4,
     "metadata": {},
     "output_type": "execute_result"
    }
   ],
   "source": [
    "np.mean([dp_karrie_query() for _ in range(100)])"
   ]
  },
  {
   "cell_type": "code",
   "execution_count": 5,
   "metadata": {
    "deletable": false,
    "editable": false,
    "nbgrader": {
     "cell_type": "code",
     "checksum": "baa91c2bfe1e6987c6f337732f61ac5f",
     "grade": true,
     "grade_id": "cell-a7c9bd084e5c5bdf",
     "locked": true,
     "points": 5,
     "schema_version": 3,
     "solution": false,
     "task": false
    }
   },
   "outputs": [],
   "source": [
    "# TEST CASE \n",
    "epsilon = 1\n",
    "\n",
    "q2_runs = [dp_karrie_query() for _ in range(100)]\n",
    "noise_runs = [np.random.laplace(loc=1, scale=1/epsilon) for _ in range(100)]\n",
    "\n",
    "assert stats.wasserstein_distance(q2_runs, noise_runs) < 1"
   ]
  },
  {
   "cell_type": "markdown",
   "metadata": {},
   "source": [
    "## Question 3\n",
    "\n",
    "In 2-4 sentences, describe how `dp_karrie_query` protects Karrie's privacy."
   ]
  },
  {
   "cell_type": "markdown",
   "metadata": {},
   "source": [
    "The query specifically targets Karrie. To achieve differential privacy, we add random noise to the result. The random noise prevents n adversary from knowing whether the answer to the original query was 0 or 1, and thus protects Karrie's privacy."
   ]
  },
  {
   "cell_type": "markdown",
   "metadata": {},
   "source": [
    "## Question 4\n",
    "\n",
    "Implement a function to construct an *empirical distribution* over random samples from the Laplace distribution with location 0 and scale `scale`. Use 1000 samples."
   ]
  },
  {
   "cell_type": "code",
   "execution_count": 6,
   "metadata": {
    "deletable": false,
    "nbgrader": {
     "cell_type": "code",
     "checksum": "36e271e39d3b9efb374514de6b58c769",
     "grade": false,
     "grade_id": "cell-e7ddf0e4b195dfdc",
     "locked": false,
     "schema_version": 3,
     "solution": true,
     "task": false
    }
   },
   "outputs": [
    {
     "data": {
      "image/png": "[encoded data removed]",
      "text/plain": [
       "<Figure size 640x480 with 1 Axes>"
      ]
     },
     "metadata": {},
     "output_type": "display_data"
    }
   ],
   "source": [
    "def empirical_dist_lap(scale):\n",
    "    return [np.random.laplace(loc=0, scale=scale) for _ in range(1000)]\n",
    "\n",
    "epsilon1 = 1.0\n",
    "epsilon2 = 2.0\n",
    "\n",
    "plt.hist(empirical_dist_lap(1/epsilon1), bins=50, color='red');\n",
    "plt.hist(empirical_dist_lap(1/epsilon2), bins=50, alpha=.7, color='blue');"
   ]
  },
  {
   "cell_type": "code",
   "execution_count": 7,
   "metadata": {
    "deletable": false,
    "editable": false,
    "nbgrader": {
     "cell_type": "code",
     "checksum": "4ae51dc3beb1b2d1b08e84aad405fa17",
     "grade": true,
     "grade_id": "cell-e68891bb70939fd0",
     "locked": true,
     "points": 5,
     "schema_version": 3,
     "solution": false,
     "task": false
    }
   },
   "outputs": [],
   "source": [
    "# PLACEHOLDER for test cases\n"
   ]
  },
  {
   "cell_type": "markdown",
   "metadata": {},
   "source": [
    "## Question 5\n",
    "\n",
    "Consider the program below."
   ]
  },
  {
   "cell_type": "code",
   "execution_count": 15,
   "metadata": {},
   "outputs": [
    {
     "name": "stdout",
     "output_type": "stream",
     "text": [
      "2.859692000992772 0.31771845789610464 1.448584116598388\n"
     ]
    }
   ],
   "source": [
    "counting_query = lambda: 1\n",
    "\n",
    "result_1 = counting_query() + np.random.laplace(loc=0, scale=1/epsilon1)\n",
    "result_2 = counting_query() + np.random.laplace(loc=0, scale=1/epsilon2)\n",
    "result_3 = counting_query() + np.random.laplace(loc=0, scale=1/epsilon1)\n",
    "\n",
    "print(result_1, result_2, result_3)"
   ]
  },
  {
   "cell_type": "markdown",
   "metadata": {},
   "source": [
    "Write a function `total_epsilon` that returns the total privacy cost for this program."
   ]
  },
  {
   "cell_type": "code",
   "execution_count": 16,
   "metadata": {
    "deletable": false,
    "nbgrader": {
     "cell_type": "code",
     "checksum": "acf2948c80694922d54ad353bd5dfce3",
     "grade": false,
     "grade_id": "cell-32b1cdb0a2990e8f",
     "locked": false,
     "schema_version": 3,
     "solution": true,
     "task": false
    }
   },
   "outputs": [],
   "source": [
    "# The reason this is the correct total_epsilon:\n",
    "# We used the laplace mechanism 3 times, with epsilon1 twice and epsilon2 once. \n",
    "# By sequential composition, the total privacy cost is epsilon1 + epsilon2 + epsilon1. \n",
    "# we returned all 3 noisy answers in a tuple. \n",
    "# By post-processing, the resulting tuple satisfies differential privacy\n",
    "# with the above total privacy cost.\n",
    "def total_epsilon():\n",
    "    # Add the epsilons together. \n",
    "    return epsilon1 + epsilon2 + epsilon1"
   ]
  },
  {
   "cell_type": "code",
   "execution_count": 17,
   "metadata": {
    "deletable": false,
    "editable": false,
    "nbgrader": {
     "cell_type": "code",
     "checksum": "77f0d3f25290c6a4d64e9fed5fdb91fe",
     "grade": true,
     "grade_id": "cell-e484920fc1429ad0",
     "locked": true,
     "points": 5,
     "schema_version": 3,
     "solution": false,
     "task": false
    }
   },
   "outputs": [
    {
     "data": {
      "text/plain": [
       "4.0"
      ]
     },
     "execution_count": 17,
     "metadata": {},
     "output_type": "execute_result"
    }
   ],
   "source": [
    "total_epsilon()\n"
   ]
  }
 ],
 "metadata": {
  "kernelspec": {
   "display_name": "Python 3 (ipykernel)",
   "language": "python",
   "name": "python3"
  },
  "language_info": {
   "codemirror_mode": {
    "name": "ipython",
    "version": 3
   },
   "file_extension": ".py",
   "mimetype": "text/x-python",
   "name": "python",
   "nbconvert_exporter": "python",
   "pygments_lexer": "ipython3",
   "version": "3.10.2"
  }
 },
 "nbformat": 4,
 "nbformat_minor": 4
}
