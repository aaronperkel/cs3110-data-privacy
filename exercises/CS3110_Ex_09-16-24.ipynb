{
 "cells": [
  {
   "cell_type": "markdown",
   "metadata": {},
   "source": [
    "# CS 3110/5110: Data Privacy\n",
    "## In-Class Exercise, 9/16/2024"
   ]
  },
  {
   "cell_type": "code",
   "execution_count": 11,
   "metadata": {},
   "outputs": [
    {
     "data": {
      "text/plain": [
       "13442.03404427153"
      ]
     },
     "execution_count": 11,
     "metadata": {},
     "output_type": "execute_result"
    }
   ],
   "source": [
    "# count query\n",
    "laplace_mech(len(adult[adult['Age'] > 40]),\n",
    "             sensitivity=1,\n",
    "             epsilon=1.0)"
   ]
  },
  {
   "cell_type": "code",
   "execution_count": 16,
   "metadata": {},
   "outputs": [
    {
     "data": {
      "text/plain": [
       "52.017942789261944"
      ]
     },
     "execution_count": 16,
     "metadata": {},
     "output_type": "execute_result"
    }
   ],
   "source": [
    "# avg query\n",
    "# laplace_mech(adult[adult['Age'] > 40]['Age'].mean(),\n",
    "#              sensitivity=1,\n",
    "#              epsilon=1.0)\n",
    "\n",
    "dp_sum = laplace_mech(adult[adult['Age'] > 40]['Age'].sum(),\n",
    "             sensitivity=1,\n",
    "             epsilon=1.0)\n",
    "\n",
    "dp_count = laplace_mech(len(adult[adult['Age'] > 40]),\n",
    "             sensitivity=1,\n",
    "             epsilon=1.0)\n",
    "\n",
    "dp_sum / dp_count"
   ]
  },
  {
   "cell_type": "code",
   "execution_count": 2,
   "metadata": {},
   "outputs": [],
   "source": [
    "# Load the data and libraries\n",
    "import pandas as pd\n",
    "import numpy as np\n",
    "from scipy import stats\n",
    "import matplotlib.pyplot as plt\n",
    "\n",
    "adult = pd.read_csv('https://github.com/jnear/cs3110-data-privacy/raw/main/homework/adult_with_pii.csv')"
   ]
  },
  {
   "cell_type": "markdown",
   "metadata": {},
   "source": [
    "## Question 1\n",
    "\n",
    "Implement the Laplace mechanism below."
   ]
  },
  {
   "cell_type": "code",
   "execution_count": 3,
   "metadata": {
    "deletable": false,
    "nbgrader": {
     "cell_type": "code",
     "checksum": "d0a62ab566a1db45cf1dd2f3aa79384d",
     "grade": false,
     "grade_id": "cell-9f17a2616172b172",
     "locked": false,
     "schema_version": 3,
     "solution": true,
     "task": false
    }
   },
   "outputs": [],
   "source": [
    "def laplace_mech(v, sensitivity, epsilon):\n",
    "    # scale of the noise is directly proportional to sensitivity\n",
    "    # and inversely proportional to epsilon\n",
    "    noise = np.random.laplace(loc=0, scale=sensitivity/epsilon)\n",
    "    return v + noise"
   ]
  },
  {
   "cell_type": "code",
   "execution_count": 4,
   "metadata": {
    "deletable": false,
    "editable": false,
    "nbgrader": {
     "cell_type": "code",
     "checksum": "2545cadb169227b7ccea2d13122cdc24",
     "grade": true,
     "grade_id": "cell-cae8dc00eebe8255",
     "locked": true,
     "points": 5,
     "schema_version": 3,
     "solution": false,
     "task": false
    }
   },
   "outputs": [],
   "source": [
    "# TEST CASE for question 1\n",
    "dist1 = [laplace_mech(50, 1, 1.0) for _ in range(200)]\n",
    "dist2 = [np.random.laplace(loc=50, scale=1) for _ in range(200)]\n",
    "\n",
    "assert stats.wasserstein_distance(dist1, dist2) < 1"
   ]
  },
  {
   "cell_type": "markdown",
   "metadata": {},
   "source": [
    "## Question 2\n",
    "\n",
    "Write a query to answer the question \"how many people in the dataset are over age 30\" with differential privacy.\n",
    "\n"
   ]
  },
  {
   "cell_type": "code",
   "execution_count": 5,
   "metadata": {
    "deletable": false,
    "nbgrader": {
     "cell_type": "code",
     "checksum": "60c406d55d15773e9f71638c6834ac41",
     "grade": false,
     "grade_id": "cell-9439553739156776",
     "locked": false,
     "schema_version": 3,
     "solution": true,
     "task": false
    }
   },
   "outputs": [
    {
     "data": {
      "text/plain": [
       "21990.730384902974"
      ]
     },
     "execution_count": 5,
     "metadata": {},
     "output_type": "execute_result"
    }
   ],
   "source": [
    "def people_over_30_dp():\n",
    "    answer = len(adult[adult['Age'] > 30]) # count how many people are over 30\n",
    "    return laplace_mech(answer, sensitivity=1, epsilon=1.0)\n",
    "\n",
    "people_over_30_dp()"
   ]
  },
  {
   "cell_type": "code",
   "execution_count": 6,
   "metadata": {
    "deletable": false,
    "editable": false,
    "nbgrader": {
     "cell_type": "code",
     "checksum": "b4ba7a7a4adf3707eb18699578400738",
     "grade": true,
     "grade_id": "cell-6b8b93375f070186",
     "locked": true,
     "points": 5,
     "schema_version": 3,
     "solution": false,
     "task": false
    }
   },
   "outputs": [],
   "source": [
    "# TEST CASE for question 2\n",
    "dist1 = [np.random.laplace(loc=21989, scale=1.0) for _ in range(200)]\n",
    "dist2 = [people_over_30_dp() for _ in range(200)]\n",
    "\n",
    "assert stats.wasserstein_distance(dist1, dist2) < 1"
   ]
  },
  {
   "cell_type": "markdown",
   "metadata": {},
   "source": [
    "## Question 3\n",
    "\n",
    "Consider the following definition of a differencing attack (without differential privacy)."
   ]
  },
  {
   "cell_type": "code",
   "execution_count": 7,
   "metadata": {},
   "outputs": [
    {
     "name": "stdout",
     "output_type": "stream",
     "text": [
      "Differencing attack result: 39\n"
     ]
    }
   ],
   "source": [
    "def differencing_attack():\n",
    "    q1 = adult['Age'].sum()\n",
    "    q2 = adult[adult['Name'] != 'Karrie Trusslove']['Age'].sum()\n",
    "\n",
    "    return q1 - q2\n",
    "\n",
    "print('Differencing attack result:', differencing_attack())"
   ]
  },
  {
   "cell_type": "markdown",
   "metadata": {},
   "source": [
    "Implement a function `dp_differencing_attack` that performs the same attack, but attempts to satisfy differential privacy using the Laplace mechanism. Use the parameters `sensitivity=1` and `epsilon=1.0`."
   ]
  },
  {
   "cell_type": "code",
   "execution_count": 8,
   "metadata": {
    "deletable": false,
    "nbgrader": {
     "cell_type": "code",
     "checksum": "a32c97e9ccb37af10edb415284e026fc",
     "grade": false,
     "grade_id": "cell-df30d40b4e25882d",
     "locked": false,
     "schema_version": 3,
     "solution": true,
     "task": false
    }
   },
   "outputs": [
    {
     "name": "stdout",
     "output_type": "stream",
     "text": [
      "DP Differencing attack result: 37.64570561121218\n"
     ]
    }
   ],
   "source": [
    "def dp_differencing_attack():\n",
    "    q1 = adult['Age'].sum()\n",
    "    q2 = adult[adult['Name'] != 'Karrie Trusslove']['Age'].sum()\n",
    "    \n",
    "    noisy_q1 = laplace_mech(q1, sensitivity=1, epsilon=.5)\n",
    "    noisy_q2 = laplace_mech(q2, sensitivity=1, epsilon=.5)\n",
    "    # noise: use laplace_mech twice, with epsilon=.5 each time\n",
    "    # total privacy budget is epsiolon=1.0\n",
    "\n",
    "    # I'm returning the difference between two noisy values,\n",
    "    # which satisfies differential privacy by post-processing\n",
    "    return noisy_q1 - noisy_q2\n",
    "\n",
    "print('DP Differencing attack result:', dp_differencing_attack())\n",
    "# adversary's job: guess whether Karrie was in the dataset or not\n",
    "# amounts to: was the answer 0 or 39\n",
    "# this noisy answer lets the adversary take a pretty good guess"
   ]
  },
  {
   "cell_type": "code",
   "execution_count": 9,
   "metadata": {
    "deletable": false,
    "editable": false,
    "nbgrader": {
     "cell_type": "code",
     "checksum": "4d362c300f180ce81877cc7af9d9da5f",
     "grade": true,
     "grade_id": "cell-cbc91dc6c256bc87",
     "locked": true,
     "points": 5,
     "schema_version": 3,
     "solution": false,
     "task": false
    }
   },
   "outputs": [
    {
     "ename": "AssertionError",
     "evalue": "",
     "output_type": "error",
     "traceback": [
      "\u001b[0;31m---------------------------------------------------------------------------\u001b[0m",
      "\u001b[0;31mAssertionError\u001b[0m                            Traceback (most recent call last)",
      "Cell \u001b[0;32mIn[9], line 4\u001b[0m\n\u001b[1;32m      2\u001b[0m dp_results \u001b[38;5;241m=\u001b[39m [dp_differencing_attack() \u001b[38;5;28;01mfor\u001b[39;00m _ \u001b[38;5;129;01min\u001b[39;00m \u001b[38;5;28mrange\u001b[39m(\u001b[38;5;241m100\u001b[39m)]\n\u001b[1;32m      3\u001b[0m spec \u001b[38;5;241m=\u001b[39m [np\u001b[38;5;241m.\u001b[39mrandom\u001b[38;5;241m.\u001b[39mlaplace(loc\u001b[38;5;241m=\u001b[39m\u001b[38;5;241m39\u001b[39m, scale\u001b[38;5;241m=\u001b[39m\u001b[38;5;241m1\u001b[39m) \u001b[38;5;28;01mfor\u001b[39;00m _ \u001b[38;5;129;01min\u001b[39;00m \u001b[38;5;28mrange\u001b[39m(\u001b[38;5;241m100\u001b[39m)]\n\u001b[0;32m----> 4\u001b[0m \u001b[38;5;28;01massert\u001b[39;00m stats\u001b[38;5;241m.\u001b[39mwasserstein_distance(dp_results, spec) \u001b[38;5;241m<\u001b[39m \u001b[38;5;241m2\u001b[39m\n",
      "\u001b[0;31mAssertionError\u001b[0m: "
     ]
    }
   ],
   "source": [
    "# TEST CASE for question 1\n",
    "dp_results = [dp_differencing_attack() for _ in range(100)]\n",
    "spec = [np.random.laplace(loc=39, scale=1) for _ in range(100)]\n",
    "assert stats.wasserstein_distance(dp_results, spec) < 2"
   ]
  },
  {
   "cell_type": "markdown",
   "metadata": {},
   "source": [
    "## Question 4\n",
    "\n",
    "What is the *sensitivity* of the `differencing_attack` query defined above, and why?"
   ]
  },
  {
   "cell_type": "markdown",
   "metadata": {
    "deletable": false,
    "nbgrader": {
     "cell_type": "markdown",
     "checksum": "56a32b9c62e1af389bee97fae2aef1e7",
     "grade": true,
     "grade_id": "cell-f7a4f9087111dbfd",
     "locked": false,
     "points": 5,
     "schema_version": 3,
     "solution": true,
     "task": false
    }
   },
   "source": [
    "The query returns:\n",
    "- 0 if my target is not in the dataset\n",
    "- the target's age, if the target is in the dataset\n",
    "\n",
    "The sensitivity is the worst-case difference between the minimum and maximum possible outputs of the query, when I add or remove a person.\n",
    "\n",
    "Since these are human ages, 120 is a decent upper bound.\n"
   ]
  },
  {
   "cell_type": "markdown",
   "metadata": {},
   "source": [
    "## Question 5\n",
    "\n",
    "Implement a corrected version of `dp_differencing_attack` that uses the correct sensitivity and thus correctly satisfies differential privacy."
   ]
  },
  {
   "cell_type": "code",
   "execution_count": 10,
   "metadata": {
    "deletable": false,
    "nbgrader": {
     "cell_type": "code",
     "checksum": "f268a4f2ec39377e41f8fa2e33e979af",
     "grade": false,
     "grade_id": "cell-ddf7057ec6927a23",
     "locked": false,
     "schema_version": 3,
     "solution": true,
     "task": false
    }
   },
   "outputs": [
    {
     "name": "stdout",
     "output_type": "stream",
     "text": [
      "DP Differencing attack result: 199.80597182456404\n"
     ]
    }
   ],
   "source": [
    "def dp_differencing_attack_corrected():\n",
    "    q1 = adult['Age'].sum()\n",
    "    q2 = adult[adult['Name'] != 'Karrie Trusslove']['Age'].sum()\n",
    "    \n",
    "    # ---------\n",
    "    # bug in test case so we changed epsilon to e=2 and sensitivity to 125\n",
    "    # ---------\n",
    "    noisy_q1 = laplace_mech(q1, sensitivity=125, epsilon=1)\n",
    "    noisy_q2 = laplace_mech(q2, sensitivity=125, epsilon=1)\n",
    "    # sensitivity: the sensitivity of q1 is 125, becasue nobody can be older than 125 years\n",
    "    # the sensitivity of q2 is 125 for the same reason\n",
    "\n",
    "    # noise: use laplace_mech twice, with epsilon=.5 each time\n",
    "    # total privacy budget is epsiolon=2.0\n",
    "\n",
    "    # I'm returning the difference between two noisy values,\n",
    "    # which satisfies differential privacy by post-processing\n",
    "    return noisy_q1 - noisy_q2\n",
    "\n",
    "print('DP Differencing attack result:', dp_differencing_attack_corrected())"
   ]
  },
  {
   "cell_type": "code",
   "execution_count": 90,
   "metadata": {
    "deletable": false,
    "editable": false,
    "nbgrader": {
     "cell_type": "code",
     "checksum": "0142c7f0a1795c312731286dc249b98e",
     "grade": true,
     "grade_id": "cell-626edd0f2a305401",
     "locked": true,
     "points": 5,
     "schema_version": 3,
     "solution": false,
     "task": false
    }
   },
   "outputs": [],
   "source": [
    "# TEST CASE for question 3\n",
    "dp_results = [dp_differencing_attack_corrected() for _ in range(100)]\n",
    "spec = [np.random.laplace(loc=39, scale=125/2.0) for _ in range(100)]\n",
    "assert stats.wasserstein_distance(dp_results, spec) < 200\n",
    "assert stats.wasserstein_distance(dp_results, spec) > 50"
   ]
  },
  {
   "cell_type": "markdown",
   "metadata": {},
   "source": [
    "## Question 6\n",
    "\n",
    "Write a function `dp_mean_age` that calculates the mean age of members of the dataset."
   ]
  },
  {
   "cell_type": "code",
   "execution_count": null,
   "metadata": {},
   "outputs": [],
   "source": [
    "def mean_age():\n",
    "    return adult['Age'].mean()\n",
    "\n",
    "mean_age()"
   ]
  },
  {
   "cell_type": "code",
   "execution_count": null,
   "metadata": {
    "deletable": false,
    "nbgrader": {
     "cell_type": "code",
     "checksum": "575eedf7fa864fa41a51e32a4fd33332",
     "grade": false,
     "grade_id": "cell-8dd5afd2295449ac",
     "locked": false,
     "schema_version": 3,
     "solution": true,
     "task": false
    }
   },
   "outputs": [],
   "source": [
    "def dp_mean_age(epsilon):\n",
    "    # YOUR CODE HERE\n",
    "    raise NotImplementedError()"
   ]
  },
  {
   "cell_type": "code",
   "execution_count": null,
   "metadata": {
    "deletable": false,
    "editable": false,
    "nbgrader": {
     "cell_type": "code",
     "checksum": "291b3a7dc9f2bd8f9beda5c96a09ebe6",
     "grade": true,
     "grade_id": "cell-460c4e11928bdfa5",
     "locked": true,
     "points": 5,
     "schema_version": 3,
     "solution": false,
     "task": false
    }
   },
   "outputs": [],
   "source": [
    "# TEST CASE for question 1\n",
    "results = [dp_mean_age(1) for _ in range(100)]\n",
    "assert np.abs(np.mean(results) - mean_age()) < 0.1"
   ]
  },
  {
   "cell_type": "markdown",
   "metadata": {},
   "source": [
    "## Question 7\n",
    "\n",
    "Write a function `dp_age_sum_clipping` that uses clipping to bound the sensitivity of the sum of ages."
   ]
  },
  {
   "cell_type": "code",
   "execution_count": null,
   "metadata": {
    "deletable": false,
    "nbgrader": {
     "cell_type": "code",
     "checksum": "ea20f33b139855087f751b97eff35bdf",
     "grade": false,
     "grade_id": "cell-0ad1c2c480c24c99",
     "locked": false,
     "schema_version": 3,
     "solution": true,
     "task": false
    }
   },
   "outputs": [],
   "source": [
    "def dp_age_sum_clipping(epsilon, b):\n",
    "    # YOUR CODE HERE\n",
    "    raise NotImplementedError()\n",
    "\n",
    "dp_age_sum_clipping(1.0, 100)"
   ]
  },
  {
   "cell_type": "code",
   "execution_count": null,
   "metadata": {
    "deletable": false,
    "editable": false,
    "nbgrader": {
     "cell_type": "code",
     "checksum": "0f6079003b869ab8ba2a8516afed2465",
     "grade": true,
     "grade_id": "cell-6f0418293b0ed25c",
     "locked": true,
     "points": 5,
     "schema_version": 3,
     "solution": false,
     "task": false
    }
   },
   "outputs": [],
   "source": [
    "# TEST CASE for question 2\n",
    "results = [dp_age_sum_clipping(1.0, 100) for _ in range(10)]\n",
    "assert np.abs(np.mean(results) - adult['Age'].sum()) < 100"
   ]
  },
  {
   "cell_type": "code",
   "execution_count": null,
   "metadata": {},
   "outputs": [],
   "source": [
    "bs = np.linspace(1, 125, 100)\n",
    "results = [dp_age_sum_clipping(0.1, b) for b in bs]\n",
    "plt.plot(bs, results);\n",
    "\n",
    "#baseline = [adult['Age'].sum() for b in bs]\n",
    "#plt.plot(bs, baseline);"
   ]
  }
 ],
 "metadata": {
  "kernelspec": {
   "display_name": "Python 3 (ipykernel)",
   "language": "python",
   "name": "python3"
  },
  "language_info": {
   "codemirror_mode": {
    "name": "ipython",
    "version": 3
   },
   "file_extension": ".py",
   "mimetype": "text/x-python",
   "name": "python",
   "nbconvert_exporter": "python",
   "pygments_lexer": "ipython3",
   "version": "3.10.2"
  }
 },
 "nbformat": 4,
 "nbformat_minor": 4
}
