{
 "cells": [
  {
   "cell_type": "markdown",
   "metadata": {},
   "source": [
    "# CS 3110/5110: Data Privacy\n",
    "## In-Class Exercise, week of 11/11/2024"
   ]
  },
  {
   "cell_type": "code",
   "execution_count": 50,
   "metadata": {},
   "outputs": [],
   "source": [
    "# Load the data and libraries\n",
    "import pandas as pd\n",
    "import numpy as np\n",
    "from scipy import stats\n",
    "import matplotlib.pyplot as plt\n",
    "\n",
    "def laplace_mech(v, sensitivity, epsilon):\n",
    "    return v + np.random.laplace(loc=0, scale=sensitivity / epsilon)\n",
    "\n",
    "def gaussian_mech(v, sensitivity, epsilon, delta):\n",
    "    return v + np.random.normal(loc=0, scale=sensitivity * np.sqrt(2*np.log(1.25/delta)) / epsilon)\n",
    "\n",
    "def gaussian_mech_vec(vec, sensitivity, epsilon, delta):\n",
    "    return [v + np.random.normal(loc=0, scale=sensitivity * np.sqrt(2*np.log(1.25/delta)) / epsilon)\n",
    "            for v in vec]\n",
    "\n",
    "def pct_error(orig, priv):\n",
    "    return np.abs(orig - priv)/orig * 100.0\n",
    "\n",
    "adult = pd.read_csv('https://github.com/jnear/cs3110-data-privacy/raw/main/homework/adult_with_pii.csv')"
   ]
  },
  {
   "cell_type": "markdown",
   "metadata": {},
   "source": [
    "## Question 1\n",
    "\n",
    "Implement `age_hist`, which returns a differentially private histogram of ages for ages 0-100 in the `adult` dataset."
   ]
  },
  {
   "cell_type": "code",
   "execution_count": 51,
   "metadata": {
    "deletable": false,
    "nbgrader": {
     "cell_type": "code",
     "checksum": "310ccd8b2935f22f5fb6477cf6ab5c47",
     "grade": true,
     "grade_id": "cell-6fec45bd91e81fcb",
     "locked": false,
     "points": 5,
     "schema_version": 3,
     "solution": true,
     "task": false
    }
   },
   "outputs": [
    {
     "data": {
      "image/png": "[encoded data removed]",
      "text/plain": [
       "<Figure size 640x480 with 1 Axes>"
      ]
     },
     "metadata": {},
     "output_type": "display_data"
    }
   ],
   "source": [
    "def age_hist(epsilon):\n",
    "    hist = adult['Age'].value_counts()\n",
    "    # Sensitivity = 1 because histograms are counting queries\n",
    "    # Parallel composition applies because it's a histogram.\n",
    "    return hist.apply(lambda x: laplace_mech(x, 1, epsilon))\n",
    "\n",
    "plt.plot(age_hist(1.0).sort_index());\n",
    "plt.hist(adult['Age'], bins=100);"
   ]
  },
  {
   "cell_type": "markdown",
   "metadata": {},
   "source": [
    "## Question 2\n",
    "\n",
    "Using the *synthetic representation* of the differentially private histogram from question 1, answer the range query, \"how many people are between the ages of 30 and 42?\""
   ]
  },
  {
   "cell_type": "code",
   "execution_count": 52,
   "metadata": {
    "deletable": false,
    "nbgrader": {
     "cell_type": "code",
     "checksum": "6eeab0aee25768f424b96b2bf6836b82",
     "grade": true,
     "grade_id": "cell-4474b5554964eec4",
     "locked": false,
     "points": 5,
     "schema_version": 3,
     "solution": true,
     "task": false
    }
   },
   "outputs": [
    {
     "name": "stdout",
     "output_type": "stream",
     "text": [
      "Synthetic answer: 10215.855238646003\n",
      "True answer: 10215\n"
     ]
    }
   ],
   "source": [
    "# as the range gets bigger, tbe synthetic rep answer gets less accurate\n",
    "# (The absolute error gets bigger.)\n",
    "def range_query_synth(syn_rep, a, b):\n",
    "    total = 0\n",
    "    for i in range(a, b):\n",
    "        total += syn_rep[i]\n",
    "    return total\n",
    "\n",
    "def between_30_42_syn(epsilon):\n",
    "    syn_rep = age_hist(epsilon)\n",
    "    return range_query_synth(syn_rep, 30, 42)\n",
    "    \n",
    "print('Synthetic answer:', between_30_42_syn(1.0))\n",
    "print('True answer:', len(adult[(adult['Age'] >= 30) & (adult['Age'] < 42)]))"
   ]
  },
  {
   "cell_type": "markdown",
   "metadata": {},
   "source": [
    "## Question 3\n",
    "\n",
    "Using the synthetic representation generated by the `age_hist` function, derive a differentially private approximation of the *one-way marginal* for the `Age` column of the `adult` dataset."
   ]
  },
  {
   "cell_type": "code",
   "execution_count": 70,
   "metadata": {
    "deletable": false,
    "nbgrader": {
     "cell_type": "code",
     "checksum": "ee829da3bea06dce1438aff356fe8a9a",
     "grade": true,
     "grade_id": "cell-81cd175c847fa667",
     "locked": false,
     "points": 5,
     "schema_version": 3,
     "solution": true,
     "task": false
    }
   },
   "outputs": [
    {
     "name": "stdout",
     "output_type": "stream",
     "text": [
      "Sum of marginal probabilities: 1.0000000000000002\n"
     ]
    },
    {
     "data": {
      "text/html": [
       "<div>\n",
       "<style scoped>\n",
       "    .dataframe tbody tr th:only-of-type {\n",
       "        vertical-align: middle;\n",
       "    }\n",
       "\n",
       "    .dataframe tbody tr th {\n",
       "        vertical-align: top;\n",
       "    }\n",
       "\n",
       "    .dataframe thead th {\n",
       "        text-align: right;\n",
       "    }\n",
       "</style>\n",
       "<table border=\"1\" class=\"dataframe\">\n",
       "  <thead>\n",
       "    <tr style=\"text-align: right;\">\n",
       "      <th></th>\n",
       "      <th>Age</th>\n",
       "      <th>probability</th>\n",
       "    </tr>\n",
       "  </thead>\n",
       "  <tbody>\n",
       "    <tr>\n",
       "      <th>0</th>\n",
       "      <td>36</td>\n",
       "      <td>0.027582</td>\n",
       "    </tr>\n",
       "    <tr>\n",
       "      <th>1</th>\n",
       "      <td>31</td>\n",
       "      <td>0.027278</td>\n",
       "    </tr>\n",
       "    <tr>\n",
       "      <th>2</th>\n",
       "      <td>34</td>\n",
       "      <td>0.027185</td>\n",
       "    </tr>\n",
       "    <tr>\n",
       "      <th>3</th>\n",
       "      <td>23</td>\n",
       "      <td>0.026961</td>\n",
       "    </tr>\n",
       "    <tr>\n",
       "      <th>4</th>\n",
       "      <td>35</td>\n",
       "      <td>0.026939</td>\n",
       "    </tr>\n",
       "    <tr>\n",
       "      <th>...</th>\n",
       "      <td>...</td>\n",
       "      <td>...</td>\n",
       "    </tr>\n",
       "    <tr>\n",
       "      <th>68</th>\n",
       "      <td>83</td>\n",
       "      <td>0.000206</td>\n",
       "    </tr>\n",
       "    <tr>\n",
       "      <th>69</th>\n",
       "      <td>88</td>\n",
       "      <td>0.000005</td>\n",
       "    </tr>\n",
       "    <tr>\n",
       "      <th>70</th>\n",
       "      <td>85</td>\n",
       "      <td>0.000101</td>\n",
       "    </tr>\n",
       "    <tr>\n",
       "      <th>71</th>\n",
       "      <td>86</td>\n",
       "      <td>0.000014</td>\n",
       "    </tr>\n",
       "    <tr>\n",
       "      <th>72</th>\n",
       "      <td>87</td>\n",
       "      <td>0.000070</td>\n",
       "    </tr>\n",
       "  </tbody>\n",
       "</table>\n",
       "<p>73 rows × 2 columns</p>\n",
       "</div>"
      ],
      "text/plain": [
       "    Age  probability\n",
       "0    36     0.027582\n",
       "1    31     0.027278\n",
       "2    34     0.027185\n",
       "3    23     0.026961\n",
       "4    35     0.026939\n",
       "..  ...          ...\n",
       "68   83     0.000206\n",
       "69   88     0.000005\n",
       "70   85     0.000101\n",
       "71   86     0.000014\n",
       "72   87     0.000070\n",
       "\n",
       "[73 rows x 2 columns]"
      ]
     },
     "execution_count": 70,
     "metadata": {},
     "output_type": "execute_result"
    }
   ],
   "source": [
    "def age_marginal(epsilon):\n",
    "    # A histogram is just probability distravution that doesn't add up to 1.\n",
    "    # (Also no negative probabilities)\n",
    "    syn_rep = age_hist(epsilon)\n",
    "    syn_rep_nonzero = syn_rep.clip(lower=0)\n",
    "    syn_normalized = syn_rep_nonzero / syn_rep_nonzero.sum()\n",
    "    return syn_normalized.to_frame(name='probability').reset_index().rename(columns={'index': 'Age'})\n",
    "\n",
    "\n",
    "marginal = age_marginal(1.0)\n",
    "print('Sum of marginal probabilities:', np.sum(marginal['probability']))\n",
    "marginal"
   ]
  },
  {
   "cell_type": "markdown",
   "metadata": {},
   "source": [
    "## Question 4\n",
    "\n",
    "Using the marginal constructed by `age_marginal`, sample *synthetic ages* from the probability distribution it represents."
   ]
  },
  {
   "cell_type": "code",
   "execution_count": 73,
   "metadata": {
    "deletable": false,
    "nbgrader": {
     "cell_type": "code",
     "checksum": "11ed71fca60207de587dfb44e0a04985",
     "grade": true,
     "grade_id": "cell-0d71a725ff8c5b70",
     "locked": false,
     "points": 5,
     "schema_version": 3,
     "solution": true,
     "task": false
    }
   },
   "outputs": [
    {
     "data": {
      "text/html": [
       "<div>\n",
       "<style scoped>\n",
       "    .dataframe tbody tr th:only-of-type {\n",
       "        vertical-align: middle;\n",
       "    }\n",
       "\n",
       "    .dataframe tbody tr th {\n",
       "        vertical-align: top;\n",
       "    }\n",
       "\n",
       "    .dataframe thead th {\n",
       "        text-align: right;\n",
       "    }\n",
       "</style>\n",
       "<table border=\"1\" class=\"dataframe\">\n",
       "  <thead>\n",
       "    <tr style=\"text-align: right;\">\n",
       "      <th></th>\n",
       "      <th>Age</th>\n",
       "    </tr>\n",
       "  </thead>\n",
       "  <tbody>\n",
       "    <tr>\n",
       "      <th>26</th>\n",
       "      <td>21</td>\n",
       "    </tr>\n",
       "    <tr>\n",
       "      <th>31</th>\n",
       "      <td>49</td>\n",
       "    </tr>\n",
       "    <tr>\n",
       "      <th>1</th>\n",
       "      <td>31</td>\n",
       "    </tr>\n",
       "    <tr>\n",
       "      <th>27</th>\n",
       "      <td>19</td>\n",
       "    </tr>\n",
       "    <tr>\n",
       "      <th>25</th>\n",
       "      <td>44</td>\n",
       "    </tr>\n",
       "  </tbody>\n",
       "</table>\n",
       "</div>"
      ],
      "text/plain": [
       "    Age\n",
       "26   21\n",
       "31   49\n",
       "1    31\n",
       "27   19\n",
       "25   44"
      ]
     },
     "execution_count": 73,
     "metadata": {},
     "output_type": "execute_result"
    }
   ],
   "source": [
    "def gen_samples(n, marginal):\n",
    "    return marginal.sample(n=n, replace=True, weights='probability')\n",
    "    \n",
    "marginal = age_marginal(1.0)\n",
    "syn_data = pd.DataFrame(gen_samples(5, marginal), columns=['Age'])\n",
    "syn_data"
   ]
  },
  {
   "cell_type": "code",
   "execution_count": 59,
   "metadata": {},
   "outputs": [
    {
     "data": {
      "image/png": "[encoded data removed]",
      "text/plain": [
       "<Figure size 640x480 with 1 Axes>"
      ]
     },
     "metadata": {},
     "output_type": "display_data"
    }
   ],
   "source": [
    "syn_data = pd.DataFrame(gen_samples(len(adult), marginal), columns=['Age'])\n",
    "syn_data.hist(bins=100)\n",
    "adult['Age'].hist(alpha=0.7, bins = 100);"
   ]
  },
  {
   "cell_type": "markdown",
   "metadata": {},
   "source": [
    "## Accuracy of Synthetic Representation"
   ]
  },
  {
   "cell_type": "code",
   "execution_count": 60,
   "metadata": {},
   "outputs": [
    {
     "name": "stdout",
     "output_type": "stream",
     "text": [
      "Q1 percent error, synthetic representation: 0.06984163126544277\n",
      "Q1 percent error, Laplace mechanism: 0.006019168627582029\n"
     ]
    }
   ],
   "source": [
    "epsilon = 1.0\n",
    "syn_rep = age_hist(epsilon)\n",
    "\n",
    "# Query 1: count with 40 <= age < 43\n",
    "true_answer = len(adult[(adult['Age'] >= 40) & (adult['Age'] < 43)])\n",
    "print('Q1 percent error, synthetic representation:', \n",
    "      pct_error(true_answer, range_query_synth(syn_rep, 40, 43)))\n",
    "\n",
    "lap_answer = laplace_mech(true_answer, 1, epsilon)\n",
    "print('Q1 percent error, Laplace mechanism:', \n",
    "      pct_error(true_answer, lap_answer))"
   ]
  },
  {
   "cell_type": "code",
   "execution_count": 61,
   "metadata": {},
   "outputs": [
    {
     "name": "stdout",
     "output_type": "stream",
     "text": [
      "Q2 percent error, synthetic representation: 0.04164485330808807\n",
      "Q2 percent error, Laplace mechanism: 0.009053332271125156\n"
     ]
    }
   ],
   "source": [
    "# Query 2: count with 25 <= age < 53\n",
    "true_answer = len(adult[(adult['Age'] >= 25) & (adult['Age'] < 53)])\n",
    "print('Q2 percent error, synthetic representation:', \n",
    "      pct_error(true_answer, range_query_synth(syn_rep, 25, 53)))\n",
    "\n",
    "lap_answer = laplace_mech(true_answer, 1, epsilon)\n",
    "print('Q2 percent error, Laplace mechanism:', \n",
    "      pct_error(true_answer, lap_answer))"
   ]
  },
  {
   "cell_type": "markdown",
   "metadata": {},
   "source": [
    "## Question 5\n",
    "\n",
    "Which approach gives more accurate answers: the Laplace mechanism or the synthetic representation? Under what conditions is the synthetic representation good, and under what conditions is it not as good?"
   ]
  },
  {
   "cell_type": "markdown",
   "metadata": {
    "deletable": false,
    "nbgrader": {
     "cell_type": "markdown",
     "checksum": "4d2f55b9e9ae33b356d6e2ba1f80ba75",
     "grade": true,
     "grade_id": "cell-1438d163beace36c",
     "locked": false,
     "points": 5,
     "schema_version": 3,
     "solution": true,
     "task": false
    }
   },
   "source": [
    "Accuracy:\n",
    "- laplace mechansism is best\n",
    "- Synthetic representation is in the middle (Due to differential privacy noise)\n",
    "- Synthetic data is worst (Due to additional sampling noise)\n",
    "\n",
    "When is it good:\n",
    "- When the range is small, we add together just a few noise samples, so the accuracy is close to the laplace mechanism.\n",
    "- When the range is big, we add together lots of noise samples, so the accuracy is worse."
   ]
  },
  {
   "cell_type": "markdown",
   "metadata": {},
   "source": [
    "## Question 6\n",
    "\n",
    "Implement a synthetic representation for *two dimensions*: `Age` and `Occupation`."
   ]
  },
  {
   "cell_type": "code",
   "execution_count": 66,
   "metadata": {
    "deletable": false,
    "nbgrader": {
     "cell_type": "code",
     "checksum": "21404517b55df4ee8c6b604fddf619db",
     "grade": true,
     "grade_id": "cell-a0faf5fa5388a9aa",
     "locked": false,
     "points": 5,
     "schema_version": 3,
     "solution": true,
     "task": false
    }
   },
   "outputs": [
    {
     "data": {
      "text/plain": [
       "Age  Occupation       \n",
       "19   Other-service        166.164190\n",
       "37   Craft-repair         154.656813\n",
       "18   Other-service        155.021131\n",
       "38   Exec-managerial      146.928193\n",
       "     Craft-repair         148.470490\n",
       "                             ...    \n",
       "72   Craft-repair          -0.479626\n",
       "71   Tech-support           0.201121\n",
       "     Machine-op-inspct      0.799184\n",
       "     Handlers-cleaners     -1.213986\n",
       "90   Transport-moving       0.666482\n",
       "Length: 843, dtype: float64"
      ]
     },
     "execution_count": 66,
     "metadata": {},
     "output_type": "execute_result"
    }
   ],
   "source": [
    "def age_occupation_hist(epsilon):\n",
    "    hist = adult[['Age', 'Occupation']].value_counts()\n",
    "    noisy_hist = hist.apply(lambda x: laplace_mech(x, 1, epsilon))\n",
    "    return noisy_hist#.to_frame().reset_index()\n",
    "\n",
    "age_occupation_hist(1.0)"
   ]
  },
  {
   "cell_type": "markdown",
   "metadata": {},
   "source": [
    "## Question 7\n",
    "\n",
    "Using the synthetic representation from Question 6, implement functions to calculate the *two-way marginal distribution* and generate synthetic data samples."
   ]
  },
  {
   "cell_type": "code",
   "execution_count": 63,
   "metadata": {
    "deletable": false,
    "nbgrader": {
     "cell_type": "code",
     "checksum": "e689cf4170c60aa50d5c40c004f93dee",
     "grade": true,
     "grade_id": "cell-38722fad8a6dacb4",
     "locked": false,
     "points": 5,
     "schema_version": 3,
     "solution": true,
     "task": false
    }
   },
   "outputs": [
    {
     "data": {
      "text/html": [
       "<div>\n",
       "<style scoped>\n",
       "    .dataframe tbody tr th:only-of-type {\n",
       "        vertical-align: middle;\n",
       "    }\n",
       "\n",
       "    .dataframe tbody tr th {\n",
       "        vertical-align: top;\n",
       "    }\n",
       "\n",
       "    .dataframe thead th {\n",
       "        text-align: right;\n",
       "    }\n",
       "</style>\n",
       "<table border=\"1\" class=\"dataframe\">\n",
       "  <thead>\n",
       "    <tr style=\"text-align: right;\">\n",
       "      <th></th>\n",
       "      <th>Age</th>\n",
       "      <th>Occupation</th>\n",
       "    </tr>\n",
       "  </thead>\n",
       "  <tbody>\n",
       "    <tr>\n",
       "      <th>105</th>\n",
       "      <td>27</td>\n",
       "      <td>Prof-specialty</td>\n",
       "    </tr>\n",
       "    <tr>\n",
       "      <th>8</th>\n",
       "      <td>31</td>\n",
       "      <td>Craft-repair</td>\n",
       "    </tr>\n",
       "    <tr>\n",
       "      <th>81</th>\n",
       "      <td>33</td>\n",
       "      <td>Exec-managerial</td>\n",
       "    </tr>\n",
       "    <tr>\n",
       "      <th>29</th>\n",
       "      <td>29</td>\n",
       "      <td>Prof-specialty</td>\n",
       "    </tr>\n",
       "    <tr>\n",
       "      <th>241</th>\n",
       "      <td>59</td>\n",
       "      <td>Exec-managerial</td>\n",
       "    </tr>\n",
       "    <tr>\n",
       "      <th>378</th>\n",
       "      <td>64</td>\n",
       "      <td>Prof-specialty</td>\n",
       "    </tr>\n",
       "    <tr>\n",
       "      <th>13</th>\n",
       "      <td>23</td>\n",
       "      <td>Adm-clerical</td>\n",
       "    </tr>\n",
       "    <tr>\n",
       "      <th>57</th>\n",
       "      <td>27</td>\n",
       "      <td>Adm-clerical</td>\n",
       "    </tr>\n",
       "    <tr>\n",
       "      <th>133</th>\n",
       "      <td>37</td>\n",
       "      <td>Other-service</td>\n",
       "    </tr>\n",
       "    <tr>\n",
       "      <th>40</th>\n",
       "      <td>21</td>\n",
       "      <td>Adm-clerical</td>\n",
       "    </tr>\n",
       "    <tr>\n",
       "      <th>116</th>\n",
       "      <td>36</td>\n",
       "      <td>Sales</td>\n",
       "    </tr>\n",
       "    <tr>\n",
       "      <th>52</th>\n",
       "      <td>38</td>\n",
       "      <td>Prof-specialty</td>\n",
       "    </tr>\n",
       "    <tr>\n",
       "      <th>55</th>\n",
       "      <td>47</td>\n",
       "      <td>Exec-managerial</td>\n",
       "    </tr>\n",
       "    <tr>\n",
       "      <th>74</th>\n",
       "      <td>26</td>\n",
       "      <td>Prof-specialty</td>\n",
       "    </tr>\n",
       "    <tr>\n",
       "      <th>477</th>\n",
       "      <td>67</td>\n",
       "      <td>Prof-specialty</td>\n",
       "    </tr>\n",
       "  </tbody>\n",
       "</table>\n",
       "</div>"
      ],
      "text/plain": [
       "     Age       Occupation\n",
       "105   27   Prof-specialty\n",
       "8     31     Craft-repair\n",
       "81    33  Exec-managerial\n",
       "29    29   Prof-specialty\n",
       "241   59  Exec-managerial\n",
       "378   64   Prof-specialty\n",
       "13    23     Adm-clerical\n",
       "57    27     Adm-clerical\n",
       "133   37    Other-service\n",
       "40    21     Adm-clerical\n",
       "116   36            Sales\n",
       "52    38   Prof-specialty\n",
       "55    47  Exec-managerial\n",
       "74    26   Prof-specialty\n",
       "477   67   Prof-specialty"
      ]
     },
     "execution_count": 63,
     "metadata": {},
     "output_type": "execute_result"
    }
   ],
   "source": [
    "def age_occupation_marginal(epsilon):\n",
    "    syn_rep = age_occupation_hist(epsilon)\n",
    "    syn_rep_nonzero = syn_rep.clip(lower=0)\n",
    "    syn_normalized = syn_rep_nonzero / syn_rep_nonzero.sum()\n",
    "    return syn_normalized.to_frame(name='probability').reset_index()\n",
    "\n",
    "\n",
    "def gen_samples(n, marginal):\n",
    "    samples = marginal.sample(n=n, replace=True, weights='probability')\n",
    "    return samples[['Age', 'Occupation']]\n",
    "\n",
    "marginal = age_occupation_marginal(1.0)\n",
    "gen_samples(15, marginal)"
   ]
  },
  {
   "cell_type": "markdown",
   "metadata": {},
   "source": [
    "## Question 8\n",
    "\n",
    "Generate synthetic data for the Age and Occupation columns by using a two-way marginal as a *conditional distribution*. Use `age_marginal` to generate data for the Age column, then use `age_occupation_marginal` to generate the Occupation column by *conditioning* on the Age column."
   ]
  },
  {
   "cell_type": "code",
   "execution_count": 64,
   "metadata": {},
   "outputs": [
    {
     "data": {
      "text/html": [
       "<div>\n",
       "<style scoped>\n",
       "    .dataframe tbody tr th:only-of-type {\n",
       "        vertical-align: middle;\n",
       "    }\n",
       "\n",
       "    .dataframe tbody tr th {\n",
       "        vertical-align: top;\n",
       "    }\n",
       "\n",
       "    .dataframe thead th {\n",
       "        text-align: right;\n",
       "    }\n",
       "</style>\n",
       "<table border=\"1\" class=\"dataframe\">\n",
       "  <thead>\n",
       "    <tr style=\"text-align: right;\">\n",
       "      <th></th>\n",
       "      <th>Age</th>\n",
       "      <th>Occupation</th>\n",
       "    </tr>\n",
       "  </thead>\n",
       "  <tbody>\n",
       "    <tr>\n",
       "      <th>20</th>\n",
       "      <td>43</td>\n",
       "      <td>Craft-repair</td>\n",
       "    </tr>\n",
       "    <tr>\n",
       "      <th>7</th>\n",
       "      <td>30</td>\n",
       "      <td>Adm-clerical</td>\n",
       "    </tr>\n",
       "    <tr>\n",
       "      <th>21</th>\n",
       "      <td>22</td>\n",
       "      <td>Machine-op-inspct</td>\n",
       "    </tr>\n",
       "    <tr>\n",
       "      <th>2</th>\n",
       "      <td>34</td>\n",
       "      <td>Adm-clerical</td>\n",
       "    </tr>\n",
       "    <tr>\n",
       "      <th>15</th>\n",
       "      <td>41</td>\n",
       "      <td>Adm-clerical</td>\n",
       "    </tr>\n",
       "    <tr>\n",
       "      <th>49</th>\n",
       "      <td>67</td>\n",
       "      <td>Prof-specialty</td>\n",
       "    </tr>\n",
       "    <tr>\n",
       "      <th>31</th>\n",
       "      <td>49</td>\n",
       "      <td>Adm-clerical</td>\n",
       "    </tr>\n",
       "    <tr>\n",
       "      <th>3</th>\n",
       "      <td>23</td>\n",
       "      <td>Handlers-cleaners</td>\n",
       "    </tr>\n",
       "    <tr>\n",
       "      <th>19</th>\n",
       "      <td>42</td>\n",
       "      <td>Transport-moving</td>\n",
       "    </tr>\n",
       "    <tr>\n",
       "      <th>43</th>\n",
       "      <td>60</td>\n",
       "      <td>Machine-op-inspct</td>\n",
       "    </tr>\n",
       "  </tbody>\n",
       "</table>\n",
       "</div>"
      ],
      "text/plain": [
       "    Age         Occupation\n",
       "20   43       Craft-repair\n",
       "7    30       Adm-clerical\n",
       "21   22  Machine-op-inspct\n",
       "2    34       Adm-clerical\n",
       "15   41       Adm-clerical\n",
       "49   67     Prof-specialty\n",
       "31   49       Adm-clerical\n",
       "3    23  Handlers-cleaners\n",
       "19   42   Transport-moving\n",
       "43   60  Machine-op-inspct"
      ]
     },
     "execution_count": 64,
     "metadata": {},
     "output_type": "execute_result"
    }
   ],
   "source": [
    "def occupation_marginal(epsilon):\n",
    "    # a histogram is just a probability distribution that doesn't add up to 1\n",
    "    # (also no negative probabilities)\n",
    "    syn_rep = adult['Occupation'].value_counts().apply(lambda x: laplace_mech(x, 1, epsilon))\n",
    "    syn_rep_nonzero = syn_rep.clip(lower=0)\n",
    "    syn_normalized = syn_rep_nonzero / syn_rep_nonzero.sum()\n",
    "    return syn_normalized.to_frame(name='probability').reset_index().rename(columns={'index': 'Occupation'})\n",
    "\n",
    "def one_way_age_occupation(n, epsilon):\n",
    "    m1 = age_marginal(epsilon/2)\n",
    "    m2 = occupation_marginal(epsilon/2)\n",
    "\n",
    "    output = m1.sample(n=n, replace=True, weights='probability')[['Age']]\n",
    "    output['Occupation'] = list(m2.sample(n=n, replace=True, weights='probability')['Occupation'])\n",
    "    return output\n",
    "\n",
    "one_way_age_occupation(10, 1.0)\n"
   ]
  },
  {
   "cell_type": "code",
   "execution_count": 85,
   "metadata": {
    "deletable": false,
    "nbgrader": {
     "cell_type": "code",
     "checksum": "b7dbde7e2e7336a4f9c05216f9b7e84d",
     "grade": true,
     "grade_id": "cell-1ca8fb808d288a57",
     "locked": false,
     "points": 5,
     "schema_version": 3,
     "solution": true,
     "task": false
    }
   },
   "outputs": [
    {
     "data": {
      "text/html": [
       "<div>\n",
       "<style scoped>\n",
       "    .dataframe tbody tr th:only-of-type {\n",
       "        vertical-align: middle;\n",
       "    }\n",
       "\n",
       "    .dataframe tbody tr th {\n",
       "        vertical-align: top;\n",
       "    }\n",
       "\n",
       "    .dataframe thead th {\n",
       "        text-align: right;\n",
       "    }\n",
       "</style>\n",
       "<table border=\"1\" class=\"dataframe\">\n",
       "  <thead>\n",
       "    <tr style=\"text-align: right;\">\n",
       "      <th></th>\n",
       "      <th>Age</th>\n",
       "      <th>Occupation</th>\n",
       "    </tr>\n",
       "  </thead>\n",
       "  <tbody>\n",
       "    <tr>\n",
       "      <th>16</th>\n",
       "      <td>24</td>\n",
       "      <td>Other-service</td>\n",
       "    </tr>\n",
       "    <tr>\n",
       "      <th>25</th>\n",
       "      <td>44</td>\n",
       "      <td>Adm-clerical</td>\n",
       "    </tr>\n",
       "    <tr>\n",
       "      <th>6</th>\n",
       "      <td>28</td>\n",
       "      <td>Machine-op-inspct</td>\n",
       "    </tr>\n",
       "    <tr>\n",
       "      <th>26</th>\n",
       "      <td>21</td>\n",
       "      <td>Adm-clerical</td>\n",
       "    </tr>\n",
       "    <tr>\n",
       "      <th>23</th>\n",
       "      <td>46</td>\n",
       "      <td>Adm-clerical</td>\n",
       "    </tr>\n",
       "    <tr>\n",
       "      <th>23</th>\n",
       "      <td>46</td>\n",
       "      <td>Prof-specialty</td>\n",
       "    </tr>\n",
       "    <tr>\n",
       "      <th>4</th>\n",
       "      <td>35</td>\n",
       "      <td>Transport-moving</td>\n",
       "    </tr>\n",
       "    <tr>\n",
       "      <th>15</th>\n",
       "      <td>41</td>\n",
       "      <td>Exec-managerial</td>\n",
       "    </tr>\n",
       "    <tr>\n",
       "      <th>3</th>\n",
       "      <td>23</td>\n",
       "      <td>Sales</td>\n",
       "    </tr>\n",
       "    <tr>\n",
       "      <th>20</th>\n",
       "      <td>43</td>\n",
       "      <td>Sales</td>\n",
       "    </tr>\n",
       "    <tr>\n",
       "      <th>17</th>\n",
       "      <td>40</td>\n",
       "      <td>Prof-specialty</td>\n",
       "    </tr>\n",
       "    <tr>\n",
       "      <th>23</th>\n",
       "      <td>46</td>\n",
       "      <td>Craft-repair</td>\n",
       "    </tr>\n",
       "    <tr>\n",
       "      <th>30</th>\n",
       "      <td>51</td>\n",
       "      <td>Tech-support</td>\n",
       "    </tr>\n",
       "    <tr>\n",
       "      <th>2</th>\n",
       "      <td>34</td>\n",
       "      <td>Handlers-cleaners</td>\n",
       "    </tr>\n",
       "    <tr>\n",
       "      <th>9</th>\n",
       "      <td>25</td>\n",
       "      <td>Transport-moving</td>\n",
       "    </tr>\n",
       "  </tbody>\n",
       "</table>\n",
       "</div>"
      ],
      "text/plain": [
       "    Age         Occupation\n",
       "16   24      Other-service\n",
       "25   44       Adm-clerical\n",
       "6    28  Machine-op-inspct\n",
       "26   21       Adm-clerical\n",
       "23   46       Adm-clerical\n",
       "23   46     Prof-specialty\n",
       "4    35   Transport-moving\n",
       "15   41    Exec-managerial\n",
       "3    23              Sales\n",
       "20   43              Sales\n",
       "17   40     Prof-specialty\n",
       "23   46       Craft-repair\n",
       "30   51       Tech-support\n",
       "2    34  Handlers-cleaners\n",
       "9    25   Transport-moving"
      ]
     },
     "execution_count": 85,
     "metadata": {},
     "output_type": "execute_result"
    }
   ],
   "source": [
    "def gen_conditional(age, m2):\n",
    "    conditioned_dist = m2[m2['Age'] == age]\n",
    "    return conditioned_dist.sample(n=1, weights='probability')['Occupation'].iloc[0]\n",
    "\n",
    "def gen_age_occupation_conditional(n, epsilon):\n",
    "    # generate 1-way marginal for age\n",
    "    m1 = age_marginal(epsilon/2)\n",
    "    # generate 2-way marginal for age, occupation\n",
    "    m2 = age_occupation_marginal(epsilon/2)\n",
    "\n",
    "    # generate ages\n",
    "    samples = m1.sample(n=n, replace=True, weights='probability')[['Age']]\n",
    "    # generate occupations conditioned on age\n",
    "    samples['Occupation'] = [gen_conditional(age, m2) for age in samples['Age']]\n",
    "    return samples\n",
    "\n",
    "gen_age_occupation_conditional(15, 1.0)"
   ]
  }
 ],
 "metadata": {
  "kernelspec": {
   "display_name": "Python 3",
   "language": "python",
   "name": "python3"
  },
  "language_info": {
   "codemirror_mode": {
    "name": "ipython",
    "version": 3
   },
   "file_extension": ".py",
   "mimetype": "text/x-python",
   "name": "python",
   "nbconvert_exporter": "python",
   "pygments_lexer": "ipython3",
   "version": "3.10.2"
  }
 },
 "nbformat": 4,
 "nbformat_minor": 4
}
