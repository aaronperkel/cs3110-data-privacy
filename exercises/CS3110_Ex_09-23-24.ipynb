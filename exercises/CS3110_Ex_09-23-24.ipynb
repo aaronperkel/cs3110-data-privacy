{
 "cells": [
  {
   "cell_type": "markdown",
   "metadata": {},
   "source": [
    "# CS 3110/3990: Data Privacy\n",
    "## In-Class Exercise, Week of 9/23/2024"
   ]
  },
  {
   "cell_type": "code",
   "execution_count": 2,
   "metadata": {},
   "outputs": [],
   "source": [
    "# Load the data and libraries\n",
    "import pandas as pd\n",
    "import numpy as np\n",
    "from scipy import stats\n",
    "import matplotlib.pyplot as plt\n",
    "\n",
    "def laplace_mech(v, sensitivity, epsilon):\n",
    "    return v + np.random.laplace(loc=0, scale=sensitivity / epsilon)\n",
    "\n",
    "def pct_error(orig, priv):\n",
    "    return np.abs(orig - priv)/orig * 100.0\n",
    "\n",
    "adult = pd.read_csv('https://github.com/jnear/cs3110-data-privacy/raw/main/homework/adult_with_pii.csv')"
   ]
  },
  {
   "cell_type": "markdown",
   "metadata": {},
   "source": [
    "## Question 1\n",
    "\n",
    "For various values of $b$, write code to print out the percent error of summing the ages in the `adult` dataset, \n",
    "clipped to each value of $b$."
   ]
  },
  {
   "cell_type": "code",
   "execution_count": 3,
   "metadata": {
    "deletable": false,
    "nbgrader": {
     "cell_type": "code",
     "checksum": "5017dfb00b9fa0c28dc47d5e03672bcc",
     "grade": false,
     "grade_id": "cell-bb6f4fe4b3beb456",
     "locked": false,
     "schema_version": 3,
     "solution": true,
     "task": false
    }
   },
   "outputs": [
    {
     "name": "stdout",
     "output_type": "stream",
     "text": [
      "1 32561\n",
      "11 358171\n",
      "21 678374\n",
      "31 935798\n",
      "41 1108069\n",
      "51 1201865\n",
      "61 1241700\n",
      "71 1253315\n",
      "81 1255772\n",
      "91 1256257\n"
     ]
    }
   ],
   "source": [
    "bs = range(1, 100, 10)\n",
    "real_sum = adult['Age'].sum()\n",
    "\n",
    "for b in bs:\n",
    "    result = adult['Age'].clip(upper=b).sum()\n",
    "    print(b, result)"
   ]
  },
  {
   "cell_type": "markdown",
   "metadata": {},
   "source": [
    "What value of $b$ is the best?"
   ]
  },
  {
   "cell_type": "markdown",
   "metadata": {
    "deletable": false,
    "nbgrader": {
     "cell_type": "markdown",
     "checksum": "b5ae2ac2b16c4f62b326bccf0184692b",
     "grade": true,
     "grade_id": "cell-250b062d06204617",
     "locked": false,
     "points": 5,
     "schema_version": 3,
     "solution": true,
     "task": false
    }
   },
   "source": [
    "Probably around b=90\n",
    "- This is large enough that we are not introducing bias by clipping\n",
    "- It is around the smallest possible number that avoids bias\n",
    "\n",
    "So b=90 is the best choice for the bias/variance tradeoff"
   ]
  },
  {
   "cell_type": "markdown",
   "metadata": {},
   "source": [
    "## Question 2\n",
    "\n",
    "For various values of $b$, print the result of a *differentially private* sum of ages, clipped to each value of $b$. Use $\\epsilon = 0.1$."
   ]
  },
  {
   "cell_type": "code",
   "execution_count": 4,
   "metadata": {
    "deletable": false,
    "nbgrader": {
     "cell_type": "code",
     "checksum": "fce2c03e38136df9fa6c79119866a44c",
     "grade": false,
     "grade_id": "cell-dca4f1bfa29d353d",
     "locked": false,
     "schema_version": 3,
     "solution": true,
     "task": false
    }
   },
   "outputs": [
    {
     "name": "stdout",
     "output_type": "stream",
     "text": [
      "1 32558.17101287174\n",
      "11 358380.81453799736\n",
      "21 678516.5262243733\n",
      "31 935983.7262925511\n",
      "41 1108883.4649004897\n",
      "51 1201913.4648556719\n",
      "61 1243847.3951280056\n",
      "71 1252177.187700686\n",
      "81 1255391.982374451\n",
      "91 1256204.7064873087\n"
     ]
    }
   ],
   "source": [
    "bs = range(1, 100, 10)\n",
    "real_sum = adult['Age'].sum()\n",
    "\n",
    "# total privacy cost must be multiplied by the number of loop iterations\n",
    "# by sequential composition\n",
    "for b in bs:\n",
    "    result = adult['Age'].clip(upper=b).sum()\n",
    "    # privacy cost of this is 0.1\n",
    "    dp_result = laplace_mech(result, sensitivity=b, epsilon=0.1)\n",
    "    print(b, dp_result)\n",
    "# total privacy cost is .1 * 10 = 1, by sequential compsition"
   ]
  },
  {
   "cell_type": "markdown",
   "metadata": {},
   "source": [
    "Which value of $b$ is the best now? Does it differ?"
   ]
  },
  {
   "cell_type": "markdown",
   "metadata": {
    "deletable": false,
    "nbgrader": {
     "cell_type": "markdown",
     "checksum": "a6614c5f0fba0ddceddde10ee8626362",
     "grade": true,
     "grade_id": "cell-fee4808b879b0a04",
     "locked": false,
     "points": 5,
     "schema_version": 3,
     "solution": true,
     "task": false
    }
   },
   "source": [
    "Probably a \"b\" of between 70 and 90 is good, because things seem to level off at that point.\n",
    "\n",
    "It's hard to say for sure because of the noise added for differential privacy."
   ]
  },
  {
   "cell_type": "markdown",
   "metadata": {},
   "source": [
    "## Question 3\n",
    "\n",
    "Write an algorithm to *automatically pick the clipping parameter* for the age column. Your algorithm should satisfy differential privacy."
   ]
  },
  {
   "cell_type": "code",
   "execution_count": 5,
   "metadata": {
    "deletable": false,
    "nbgrader": {
     "cell_type": "code",
     "checksum": "0da086ab81420b019466185a8bbaf8c1",
     "grade": false,
     "grade_id": "cell-9a41939138d41f6f",
     "locked": false,
     "schema_version": 3,
     "solution": true,
     "task": false
    }
   },
   "outputs": [
    {
     "data": {
      "text/plain": [
       "91"
      ]
     },
     "execution_count": 5,
     "metadata": {},
     "output_type": "execute_result"
    }
   ],
   "source": [
    "def pick_b(epsilon):\n",
    "    # find the plateau in noisy sums with different clipping parameters, as in q2\n",
    "    # if result(b+1) - result(b) <= 0 then stop\n",
    "    bs = range(1, 100, 10)\n",
    "    epsilon_i = epsilon / len(bs)\n",
    "\n",
    "    # total privacy cost must be multiplied by the number of loop interations\n",
    "    # by sequential composition\n",
    "    old_result = 0\n",
    "    for b in bs:\n",
    "        result = adult['Age'].clip(upper=b).sum()\n",
    "        # privacy cost of this is 0.1\n",
    "        dp_result = laplace_mech(result, sensitivity=b, epsilon=epsilon_i)\n",
    "        if dp_result - old_result <= 0:\n",
    "            return b\n",
    "        old_result = dp_result\n",
    "    # If I have reached the end and not detected a plateau, the best thing I can do\n",
    "    # is return the last element of the list of candidates\n",
    "    return bs[-1]\n",
    "\n",
    "pick_b(1.0)"
   ]
  },
  {
   "cell_type": "code",
   "execution_count": 6,
   "metadata": {
    "deletable": false,
    "editable": false,
    "nbgrader": {
     "cell_type": "code",
     "checksum": "692492fba66dc0685be8dee946edbed7",
     "grade": true,
     "grade_id": "cell-136e29134703a26b",
     "locked": true,
     "points": 5,
     "schema_version": 3,
     "solution": false,
     "task": false
    }
   },
   "outputs": [],
   "source": [
    "# TEST CASE for question 3\n",
    "\n",
    "many_trials = np.mean([pick_b(1.0) for _ in range(100)])\n",
    "assert many_trials > 70\n",
    "assert many_trials < 500"
   ]
  },
  {
   "cell_type": "markdown",
   "metadata": {},
   "source": [
    "## Question 4\n",
    "\n",
    "What is the privacy cost of your algorithm, and why?"
   ]
  },
  {
   "cell_type": "markdown",
   "metadata": {
    "deletable": false,
    "nbgrader": {
     "cell_type": "markdown",
     "checksum": "e3b3bf3b0934d4a2d9429867fd118ab4",
     "grade": true,
     "grade_id": "cell-5e3ac9bbd3f179e9",
     "locked": false,
     "points": 5,
     "schema_version": 3,
     "solution": true,
     "task": false
    }
   },
   "source": [
    "The algortihm satisfies differential privacy for the target epsilon\n",
    "- Sensitivity: In each iteration of the loop, we call the laplace mech on the sum, clipped with the parameter `b`, so the sensitivity of the sum is `b`\n",
    "- Composition: We use the laplace mech 10 time because `bs` has 10 elements. The total privacy cost is 10*.1 = 1, by sequential composition.\n",
    "- Post-processing: We are returning an element of `bs`, which is a list that contains no private data"
   ]
  },
  {
   "cell_type": "markdown",
   "metadata": {},
   "source": [
    "## Question 5\n",
    "\n",
    "Write code to generate a *histogram* of education numbers in the `adult` dataset."
   ]
  },
  {
   "cell_type": "code",
   "execution_count": 7,
   "metadata": {
    "deletable": false,
    "nbgrader": {
     "cell_type": "code",
     "checksum": "a4c084311f288978d7388707ed803dc4",
     "grade": false,
     "grade_id": "cell-ee86a67be2f997fb",
     "locked": false,
     "schema_version": 3,
     "solution": true,
     "task": false
    }
   },
   "outputs": [
    {
     "data": {
      "text/plain": [
       "HS-grad         10501\n",
       "Some-college     7291\n",
       "Bachelors        5355\n",
       "Masters          1723\n",
       "Assoc-voc        1382\n",
       "11th             1175\n",
       "Assoc-acdm       1067\n",
       "10th              933\n",
       "7th-8th           646\n",
       "Prof-school       576\n",
       "9th               514\n",
       "12th              433\n",
       "Doctorate         413\n",
       "5th-6th           333\n",
       "1st-4th           168\n",
       "Preschool          51\n",
       "Name: Education, dtype: int64"
      ]
     },
     "execution_count": 7,
     "metadata": {},
     "output_type": "execute_result"
    }
   ],
   "source": [
    "def education_hist():\n",
    "    return adult['Education'].value_counts()\n",
    "   \n",
    "education_hist()"
   ]
  },
  {
   "cell_type": "code",
   "execution_count": 8,
   "metadata": {
    "deletable": false,
    "editable": false,
    "nbgrader": {
     "cell_type": "code",
     "checksum": "9ca7a5909d65acf22b40eef95b77ef24",
     "grade": true,
     "grade_id": "cell-7e1309ee016dc1b0",
     "locked": true,
     "points": 5,
     "schema_version": 3,
     "solution": false,
     "task": false
    }
   },
   "outputs": [],
   "source": [
    "# TEST CASE for question 5\n",
    "h = education_hist()\n",
    "assert h['HS-grad'] == 10501\n",
    "assert h['12th'] == 433\n",
    "assert h['Doctorate'] == 413"
   ]
  },
  {
   "cell_type": "markdown",
   "metadata": {},
   "source": [
    "## Question 6\n",
    "\n",
    "Write code to release a *differentially private histogram* of education numbers."
   ]
  },
  {
   "cell_type": "code",
   "execution_count": 9,
   "metadata": {
    "deletable": false,
    "nbgrader": {
     "cell_type": "code",
     "checksum": "78135ffc0ddb6f5f824c4380c31fa067",
     "grade": false,
     "grade_id": "cell-e5d6ede7edcdc46e",
     "locked": false,
     "schema_version": 3,
     "solution": true,
     "task": false
    }
   },
   "outputs": [
    {
     "data": {
      "text/plain": [
       "HS-grad         10500.797296\n",
       "Some-college     7290.306182\n",
       "Bachelors        5357.019037\n",
       "Masters          1721.474373\n",
       "Assoc-voc        1382.112408\n",
       "11th             1174.644609\n",
       "Assoc-acdm       1067.349094\n",
       "10th              932.870114\n",
       "7th-8th           647.958940\n",
       "Prof-school       576.282314\n",
       "9th               513.517497\n",
       "12th              433.265621\n",
       "Doctorate         413.327109\n",
       "5th-6th           333.485578\n",
       "1st-4th           168.567264\n",
       "Preschool          50.434778\n",
       "Name: Education, dtype: float64"
      ]
     },
     "execution_count": 9,
     "metadata": {},
     "output_type": "execute_result"
    }
   ],
   "source": [
    "def dp_education_hist(epsilon):\n",
    "    orig_hist = education_hist()\n",
    "    # sensitivity of each bin of the histogram is 1, because each bin is a count\n",
    "    return orig_hist.apply(lambda x: laplace_mech(x, sensitivity=1, epsilon=epsilon))\n",
    "\n",
    "dp_education_hist(1.0)"
   ]
  },
  {
   "cell_type": "code",
   "execution_count": 10,
   "metadata": {
    "deletable": false,
    "editable": false,
    "nbgrader": {
     "cell_type": "code",
     "checksum": "b6d8b325844651b39c4e402d3bfac373",
     "grade": true,
     "grade_id": "cell-3d994871e2ce6873",
     "locked": true,
     "points": 5,
     "schema_version": 3,
     "solution": false,
     "task": false
    }
   },
   "outputs": [],
   "source": [
    "# TEST CASE for question 6\n",
    "h = dp_education_hist(1.0)\n",
    "assert abs(h['HS-grad'] - 10501) < 100\n",
    "assert abs(h['Doctorate'] - 413) < 100"
   ]
  },
  {
   "cell_type": "markdown",
   "metadata": {},
   "source": [
    "## Question 7\n",
    "\n",
    "What is the total privacy cost of `dp_education_hist`, and why?"
   ]
  },
  {
   "cell_type": "markdown",
   "metadata": {
    "deletable": false,
    "nbgrader": {
     "cell_type": "markdown",
     "checksum": "b260643b7d27a6d1ba3d243471dd2758",
     "grade": true,
     "grade_id": "cell-892ecfb572a7e900",
     "locked": false,
     "points": 5,
     "schema_version": 3,
     "solution": true,
     "task": false
    }
   },
   "source": [
    "An argument based on sequential composition:\n",
    "1. Sensitivity: We use a sensitivity of 1 for the laplace mechanism, because every use of it is on a counting query (since every bin of a histogram is a count)\n",
    "2. Sequential composition: We use the laplace machanism k times, where k is the number of bins in the histogram. Therefore the total privacy cost is `k*epsilon` by sequential composition.\n",
    "3. Post-processing: We are returning the noisy histogram, where all counts have noise added, which satisfies differential privacy by post-processing.\n",
    "\n",
    "A better argument based on parallel composition:\n",
    "1. Sensitivity: We use a sensitivity of 1 for the laplace mechanism, because every use of it is on a counting query (since every bin of a histogram is a count)\n",
    "2. Parallel composition: We use the laplace mechanism k times, where k is the number of bins in the histogram. But each bin of the histogram does not overlap with any other bin. Therefore the total privacy cost is `epsilon` by parallel composition.\n",
    "3. Post-processing: We are returning the noisy histogram, where all counts have noise added, which satisfies differential privacy by post-processing."
   ]
  },
  {
   "cell_type": "markdown",
   "metadata": {},
   "source": [
    "## Question 8\n",
    "\n",
    "Write code to generate a differentially private *contingency table* for the Education and Sex columns of the `adult` dataset."
   ]
  },
  {
   "cell_type": "code",
   "execution_count": 13,
   "metadata": {
    "deletable": false,
    "nbgrader": {
     "cell_type": "code",
     "checksum": "f1d36e02ba769a0419701627a6a54a5c",
     "grade": false,
     "grade_id": "cell-8ee68bcf1e36b660",
     "locked": false,
     "schema_version": 3,
     "solution": true,
     "task": false
    }
   },
   "outputs": [
    {
     "data": {
      "text/plain": [
       "Education     Sex   \n",
       "HS-grad       Male      7111.309001\n",
       "Some-college  Male      4486.585360\n",
       "Bachelors     Male      3735.232699\n",
       "HS-grad       Female    3390.735282\n",
       "Some-college  Female    2800.655166\n",
       "Bachelors     Female    1619.739380\n",
       "Masters       Male      1187.913634\n",
       "Assoc-voc     Male       878.922532\n",
       "11th          Male       742.582039\n",
       "Assoc-acdm    Male       644.269027\n",
       "10th          Male       641.367463\n",
       "Masters       Female     536.344774\n",
       "Assoc-voc     Female     499.483586\n",
       "7th-8th       Male       485.029611\n",
       "Prof-school   Male       484.303000\n",
       "11th          Female     431.760938\n",
       "Assoc-acdm    Female     420.318239\n",
       "9th           Male       370.517756\n",
       "Doctorate     Male       326.358861\n",
       "10th          Female     294.703536\n",
       "12th          Male       289.688586\n",
       "5th-6th       Male       249.824321\n",
       "7th-8th       Female     161.712314\n",
       "12th          Female     144.424945\n",
       "9th           Female     143.248658\n",
       "1st-4th       Male       122.378217\n",
       "Prof-school   Female      91.914539\n",
       "Doctorate     Female      86.167223\n",
       "5th-6th       Female      84.650183\n",
       "1st-4th       Female      46.253405\n",
       "Preschool     Male        34.293788\n",
       "              Female      16.364611\n",
       "dtype: float64"
      ]
     },
     "execution_count": 13,
     "metadata": {},
     "output_type": "execute_result"
    }
   ],
   "source": [
    "def dp_crosstab_education_sex(epsilon):\n",
    "    orig_hist = adult[['Education', 'Sex']].value_counts()\n",
    "    dp_hist = orig_hist.apply(lambda x: laplace_mech(x, sensitivity=1, epsilon=epsilon))\n",
    "    return dp_hist\n",
    "\n",
    "dp_crosstab_education_sex(1.0)"
   ]
  },
  {
   "cell_type": "code",
   "execution_count": 14,
   "metadata": {
    "deletable": false,
    "editable": false,
    "nbgrader": {
     "cell_type": "code",
     "checksum": "c75206f511320740052bb35011d31e14",
     "grade": true,
     "grade_id": "cell-8793de8189968533",
     "locked": true,
     "points": 5,
     "schema_version": 3,
     "solution": false,
     "task": false
    }
   },
   "outputs": [
    {
     "ename": "KeyError",
     "evalue": "'Female'",
     "output_type": "error",
     "traceback": [
      "\u001b[0;31m---------------------------------------------------------------------------\u001b[0m",
      "\u001b[0;31mKeyError\u001b[0m                                  Traceback (most recent call last)",
      "File \u001b[0;32m/Library/Frameworks/Python.framework/Versions/3.10/lib/python3.10/site-packages/pandas/core/indexes/base.py:3621\u001b[0m, in \u001b[0;36mIndex.get_loc\u001b[0;34m(self, key, method, tolerance)\u001b[0m\n\u001b[1;32m   3620\u001b[0m \u001b[38;5;28;01mtry\u001b[39;00m:\n\u001b[0;32m-> 3621\u001b[0m     \u001b[38;5;28;01mreturn\u001b[39;00m \u001b[38;5;28;43mself\u001b[39;49m\u001b[38;5;241;43m.\u001b[39;49m\u001b[43m_engine\u001b[49m\u001b[38;5;241;43m.\u001b[39;49m\u001b[43mget_loc\u001b[49m\u001b[43m(\u001b[49m\u001b[43mcasted_key\u001b[49m\u001b[43m)\u001b[49m\n\u001b[1;32m   3622\u001b[0m \u001b[38;5;28;01mexcept\u001b[39;00m \u001b[38;5;167;01mKeyError\u001b[39;00m \u001b[38;5;28;01mas\u001b[39;00m err:\n",
      "File \u001b[0;32m/Library/Frameworks/Python.framework/Versions/3.10/lib/python3.10/site-packages/pandas/_libs/index.pyx:136\u001b[0m, in \u001b[0;36mpandas._libs.index.IndexEngine.get_loc\u001b[0;34m()\u001b[0m\n",
      "File \u001b[0;32m/Library/Frameworks/Python.framework/Versions/3.10/lib/python3.10/site-packages/pandas/_libs/index.pyx:163\u001b[0m, in \u001b[0;36mpandas._libs.index.IndexEngine.get_loc\u001b[0;34m()\u001b[0m\n",
      "File \u001b[0;32mpandas/_libs/hashtable_class_helper.pxi:5198\u001b[0m, in \u001b[0;36mpandas._libs.hashtable.PyObjectHashTable.get_item\u001b[0;34m()\u001b[0m\n",
      "File \u001b[0;32mpandas/_libs/hashtable_class_helper.pxi:5206\u001b[0m, in \u001b[0;36mpandas._libs.hashtable.PyObjectHashTable.get_item\u001b[0;34m()\u001b[0m\n",
      "\u001b[0;31mKeyError\u001b[0m: 'Female'",
      "\nThe above exception was the direct cause of the following exception:\n",
      "\u001b[0;31mKeyError\u001b[0m                                  Traceback (most recent call last)",
      "Cell \u001b[0;32mIn[14], line 3\u001b[0m\n\u001b[1;32m      1\u001b[0m \u001b[38;5;66;03m# TEST CASE for question 8\u001b[39;00m\n\u001b[1;32m      2\u001b[0m ct \u001b[38;5;241m=\u001b[39m dp_crosstab_education_sex(\u001b[38;5;241m1.0\u001b[39m)\n\u001b[0;32m----> 3\u001b[0m \u001b[38;5;28;01massert\u001b[39;00m \u001b[38;5;28mabs\u001b[39m(\u001b[43mct\u001b[49m\u001b[43m[\u001b[49m\u001b[38;5;124;43m'\u001b[39;49m\u001b[38;5;124;43mFemale\u001b[39;49m\u001b[38;5;124;43m'\u001b[39;49m\u001b[43m]\u001b[49m[\u001b[38;5;124m'\u001b[39m\u001b[38;5;124m10th\u001b[39m\u001b[38;5;124m'\u001b[39m] \u001b[38;5;241m-\u001b[39m \u001b[38;5;241m295\u001b[39m) \u001b[38;5;241m<\u001b[39m \u001b[38;5;241m100\u001b[39m\n\u001b[1;32m      4\u001b[0m \u001b[38;5;28;01massert\u001b[39;00m \u001b[38;5;28mabs\u001b[39m(ct[\u001b[38;5;124m'\u001b[39m\u001b[38;5;124mMale\u001b[39m\u001b[38;5;124m'\u001b[39m][\u001b[38;5;124m'\u001b[39m\u001b[38;5;124m10th\u001b[39m\u001b[38;5;124m'\u001b[39m] \u001b[38;5;241m-\u001b[39m \u001b[38;5;241m638\u001b[39m) \u001b[38;5;241m<\u001b[39m \u001b[38;5;241m100\u001b[39m\n\u001b[1;32m      5\u001b[0m \u001b[38;5;28;01massert\u001b[39;00m \u001b[38;5;28mabs\u001b[39m(ct[\u001b[38;5;124m'\u001b[39m\u001b[38;5;124mFemale\u001b[39m\u001b[38;5;124m'\u001b[39m][\u001b[38;5;124m'\u001b[39m\u001b[38;5;124mBachelors\u001b[39m\u001b[38;5;124m'\u001b[39m] \u001b[38;5;241m-\u001b[39m \u001b[38;5;241m1619\u001b[39m) \u001b[38;5;241m<\u001b[39m \u001b[38;5;241m100\u001b[39m\n",
      "File \u001b[0;32m/Library/Frameworks/Python.framework/Versions/3.10/lib/python3.10/site-packages/pandas/core/series.py:958\u001b[0m, in \u001b[0;36mSeries.__getitem__\u001b[0;34m(self, key)\u001b[0m\n\u001b[1;32m    955\u001b[0m     \u001b[38;5;28;01mreturn\u001b[39;00m \u001b[38;5;28mself\u001b[39m\u001b[38;5;241m.\u001b[39m_values[key]\n\u001b[1;32m    957\u001b[0m \u001b[38;5;28;01melif\u001b[39;00m key_is_scalar:\n\u001b[0;32m--> 958\u001b[0m     \u001b[38;5;28;01mreturn\u001b[39;00m \u001b[38;5;28;43mself\u001b[39;49m\u001b[38;5;241;43m.\u001b[39;49m\u001b[43m_get_value\u001b[49m\u001b[43m(\u001b[49m\u001b[43mkey\u001b[49m\u001b[43m)\u001b[49m\n\u001b[1;32m    960\u001b[0m \u001b[38;5;28;01mif\u001b[39;00m is_hashable(key):\n\u001b[1;32m    961\u001b[0m     \u001b[38;5;66;03m# Otherwise index.get_value will raise InvalidIndexError\u001b[39;00m\n\u001b[1;32m    962\u001b[0m     \u001b[38;5;28;01mtry\u001b[39;00m:\n\u001b[1;32m    963\u001b[0m         \u001b[38;5;66;03m# For labels that don't resolve as scalars like tuples and frozensets\u001b[39;00m\n",
      "File \u001b[0;32m/Library/Frameworks/Python.framework/Versions/3.10/lib/python3.10/site-packages/pandas/core/series.py:1069\u001b[0m, in \u001b[0;36mSeries._get_value\u001b[0;34m(self, label, takeable)\u001b[0m\n\u001b[1;32m   1066\u001b[0m     \u001b[38;5;28;01mreturn\u001b[39;00m \u001b[38;5;28mself\u001b[39m\u001b[38;5;241m.\u001b[39m_values[label]\n\u001b[1;32m   1068\u001b[0m \u001b[38;5;66;03m# Similar to Index.get_value, but we do not fall back to positional\u001b[39;00m\n\u001b[0;32m-> 1069\u001b[0m loc \u001b[38;5;241m=\u001b[39m \u001b[38;5;28;43mself\u001b[39;49m\u001b[38;5;241;43m.\u001b[39;49m\u001b[43mindex\u001b[49m\u001b[38;5;241;43m.\u001b[39;49m\u001b[43mget_loc\u001b[49m\u001b[43m(\u001b[49m\u001b[43mlabel\u001b[49m\u001b[43m)\u001b[49m\n\u001b[1;32m   1070\u001b[0m \u001b[38;5;28;01mreturn\u001b[39;00m \u001b[38;5;28mself\u001b[39m\u001b[38;5;241m.\u001b[39mindex\u001b[38;5;241m.\u001b[39m_get_values_for_loc(\u001b[38;5;28mself\u001b[39m, loc, label)\n",
      "File \u001b[0;32m/Library/Frameworks/Python.framework/Versions/3.10/lib/python3.10/site-packages/pandas/core/indexes/multi.py:2869\u001b[0m, in \u001b[0;36mMultiIndex.get_loc\u001b[0;34m(self, key, method)\u001b[0m\n\u001b[1;32m   2866\u001b[0m     \u001b[38;5;28;01mreturn\u001b[39;00m mask\n\u001b[1;32m   2868\u001b[0m \u001b[38;5;28;01mif\u001b[39;00m \u001b[38;5;129;01mnot\u001b[39;00m \u001b[38;5;28misinstance\u001b[39m(key, \u001b[38;5;28mtuple\u001b[39m):\n\u001b[0;32m-> 2869\u001b[0m     loc \u001b[38;5;241m=\u001b[39m \u001b[38;5;28;43mself\u001b[39;49m\u001b[38;5;241;43m.\u001b[39;49m\u001b[43m_get_level_indexer\u001b[49m\u001b[43m(\u001b[49m\u001b[43mkey\u001b[49m\u001b[43m,\u001b[49m\u001b[43m \u001b[49m\u001b[43mlevel\u001b[49m\u001b[38;5;241;43m=\u001b[39;49m\u001b[38;5;241;43m0\u001b[39;49m\u001b[43m)\u001b[49m\n\u001b[1;32m   2870\u001b[0m     \u001b[38;5;28;01mreturn\u001b[39;00m _maybe_to_slice(loc)\n\u001b[1;32m   2872\u001b[0m keylen \u001b[38;5;241m=\u001b[39m \u001b[38;5;28mlen\u001b[39m(key)\n",
      "File \u001b[0;32m/Library/Frameworks/Python.framework/Versions/3.10/lib/python3.10/site-packages/pandas/core/indexes/multi.py:3222\u001b[0m, in \u001b[0;36mMultiIndex._get_level_indexer\u001b[0;34m(self, key, level, indexer)\u001b[0m\n\u001b[1;32m   3218\u001b[0m         \u001b[38;5;28;01mreturn\u001b[39;00m \u001b[38;5;28mslice\u001b[39m(i, j, step)\n\u001b[1;32m   3220\u001b[0m \u001b[38;5;28;01melse\u001b[39;00m:\n\u001b[0;32m-> 3222\u001b[0m     idx \u001b[38;5;241m=\u001b[39m \u001b[38;5;28;43mself\u001b[39;49m\u001b[38;5;241;43m.\u001b[39;49m\u001b[43m_get_loc_single_level_index\u001b[49m\u001b[43m(\u001b[49m\u001b[43mlevel_index\u001b[49m\u001b[43m,\u001b[49m\u001b[43m \u001b[49m\u001b[43mkey\u001b[49m\u001b[43m)\u001b[49m\n\u001b[1;32m   3224\u001b[0m     \u001b[38;5;28;01mif\u001b[39;00m level \u001b[38;5;241m>\u001b[39m \u001b[38;5;241m0\u001b[39m \u001b[38;5;129;01mor\u001b[39;00m \u001b[38;5;28mself\u001b[39m\u001b[38;5;241m.\u001b[39m_lexsort_depth \u001b[38;5;241m==\u001b[39m \u001b[38;5;241m0\u001b[39m:\n\u001b[1;32m   3225\u001b[0m         \u001b[38;5;66;03m# Desired level is not sorted\u001b[39;00m\n\u001b[1;32m   3226\u001b[0m         \u001b[38;5;28;01mif\u001b[39;00m \u001b[38;5;28misinstance\u001b[39m(idx, \u001b[38;5;28mslice\u001b[39m):\n\u001b[1;32m   3227\u001b[0m             \u001b[38;5;66;03m# test_get_loc_partial_timestamp_multiindex\u001b[39;00m\n",
      "File \u001b[0;32m/Library/Frameworks/Python.framework/Versions/3.10/lib/python3.10/site-packages/pandas/core/indexes/multi.py:2802\u001b[0m, in \u001b[0;36mMultiIndex._get_loc_single_level_index\u001b[0;34m(self, level_index, key)\u001b[0m\n\u001b[1;32m   2800\u001b[0m     \u001b[38;5;28;01mreturn\u001b[39;00m \u001b[38;5;241m-\u001b[39m\u001b[38;5;241m1\u001b[39m\n\u001b[1;32m   2801\u001b[0m \u001b[38;5;28;01melse\u001b[39;00m:\n\u001b[0;32m-> 2802\u001b[0m     \u001b[38;5;28;01mreturn\u001b[39;00m \u001b[43mlevel_index\u001b[49m\u001b[38;5;241;43m.\u001b[39;49m\u001b[43mget_loc\u001b[49m\u001b[43m(\u001b[49m\u001b[43mkey\u001b[49m\u001b[43m)\u001b[49m\n",
      "File \u001b[0;32m/Library/Frameworks/Python.framework/Versions/3.10/lib/python3.10/site-packages/pandas/core/indexes/base.py:3623\u001b[0m, in \u001b[0;36mIndex.get_loc\u001b[0;34m(self, key, method, tolerance)\u001b[0m\n\u001b[1;32m   3621\u001b[0m     \u001b[38;5;28;01mreturn\u001b[39;00m \u001b[38;5;28mself\u001b[39m\u001b[38;5;241m.\u001b[39m_engine\u001b[38;5;241m.\u001b[39mget_loc(casted_key)\n\u001b[1;32m   3622\u001b[0m \u001b[38;5;28;01mexcept\u001b[39;00m \u001b[38;5;167;01mKeyError\u001b[39;00m \u001b[38;5;28;01mas\u001b[39;00m err:\n\u001b[0;32m-> 3623\u001b[0m     \u001b[38;5;28;01mraise\u001b[39;00m \u001b[38;5;167;01mKeyError\u001b[39;00m(key) \u001b[38;5;28;01mfrom\u001b[39;00m \u001b[38;5;21;01merr\u001b[39;00m\n\u001b[1;32m   3624\u001b[0m \u001b[38;5;28;01mexcept\u001b[39;00m \u001b[38;5;167;01mTypeError\u001b[39;00m:\n\u001b[1;32m   3625\u001b[0m     \u001b[38;5;66;03m# If we have a listlike key, _check_indexing_error will raise\u001b[39;00m\n\u001b[1;32m   3626\u001b[0m     \u001b[38;5;66;03m#  InvalidIndexError. Otherwise we fall through and re-raise\u001b[39;00m\n\u001b[1;32m   3627\u001b[0m     \u001b[38;5;66;03m#  the TypeError.\u001b[39;00m\n\u001b[1;32m   3628\u001b[0m     \u001b[38;5;28mself\u001b[39m\u001b[38;5;241m.\u001b[39m_check_indexing_error(key)\n",
      "\u001b[0;31mKeyError\u001b[0m: 'Female'"
     ]
    }
   ],
   "source": [
    "# TEST CASE for question 8\n",
    "ct = dp_crosstab_education_sex(1.0)\n",
    "assert abs(ct['Female']['10th'] - 295) < 100\n",
    "assert abs(ct['Male']['10th'] - 638) < 100\n",
    "assert abs(ct['Female']['Bachelors'] - 1619) < 100\n",
    "\n",
    "assert abs(ct['Female']['10th'] - 295) > 0\n",
    "assert abs(ct['Male']['10th'] - 638) > 0\n",
    "assert abs(ct['Female']['Bachelors'] - 1619) > 0"
   ]
  },
  {
   "cell_type": "markdown",
   "metadata": {},
   "source": [
    "## Question 9\n",
    "\n",
    "Does parallel composition apply for the contingency table in question 1? Why or why not?"
   ]
  },
  {
   "cell_type": "markdown",
   "metadata": {
    "deletable": false,
    "nbgrader": {
     "cell_type": "markdown",
     "checksum": "9d45318df4e423bfde4cf13a8527fc60",
     "grade": true,
     "grade_id": "cell-ad80affc47428f91",
     "locked": false,
     "points": 5,
     "schema_version": 3,
     "solution": true,
     "task": false
    }
   },
   "source": [
    "Yes, parallel composition still applies.\n",
    "\n",
    "The histogram bins are always disjoint no matter the dimensionality of the histogram. That's because each row of the data has exactly one combination of vaclues at a time, so each row contributes to exactly one hisogram bin."
   ]
  },
  {
   "cell_type": "markdown",
   "metadata": {},
   "source": [
    "## Question 10\n",
    "\n",
    "Does the number of columns used in constructing the contingency table matter for privacy cost? Does it matter for accuracy?"
   ]
  },
  {
   "cell_type": "markdown",
   "metadata": {
    "deletable": false,
    "nbgrader": {
     "cell_type": "markdown",
     "checksum": "851d5bf06ada00ac761cf695bf3bb8ab",
     "grade": true,
     "grade_id": "cell-5dead8598d0dbda8",
     "locked": false,
     "points": 5,
     "schema_version": 3,
     "solution": true,
     "task": false
    }
   },
   "source": [
    "1. No, the number of columns doesn't matter for privacy cost, parallel composition always applies, so we can use the full epsilon for every bin no matter how many columns there are.\n",
    "\n",
    "2. It's complicated.\n",
    "- Absolute error: The noise distrobution stays the same, regardless of dimensions.\n",
    "- Relative error: As we add more dimensions, the counts get smaller; even if the noise stays the same, the signal to noise ratio will get worse, and so will the relative error.\n",
    "- (Both useful in different contexts)"
   ]
  },
  {
   "cell_type": "markdown",
   "metadata": {},
   "source": [
    "## Question 11\n",
    "\n",
    "Implement the Gaussian mechanism for $(\\epsilon, \\delta)$-differential privacy."
   ]
  },
  {
   "cell_type": "code",
   "execution_count": null,
   "metadata": {
    "deletable": false,
    "nbgrader": {
     "cell_type": "code",
     "checksum": "31d4967e3d4bf6c87e8f17c5a8869a92",
     "grade": false,
     "grade_id": "cell-8a747c92ab199a91",
     "locked": false,
     "schema_version": 3,
     "solution": true,
     "task": false
    }
   },
   "outputs": [],
   "source": [
    "# YOUR CODE HERE\n",
    "raise NotImplementedError()"
   ]
  },
  {
   "cell_type": "code",
   "execution_count": null,
   "metadata": {
    "deletable": false,
    "editable": false,
    "nbgrader": {
     "cell_type": "code",
     "checksum": "1adc60d692e5bf0e529ed61ad082a8ac",
     "grade": true,
     "grade_id": "cell-f991d474ed13d0ed",
     "locked": true,
     "points": 5,
     "schema_version": 3,
     "solution": false,
     "task": false
    }
   },
   "outputs": [],
   "source": [
    "# TEST CASE\n",
    "\n",
    "results = [gaussian_mech(len(adult[adult['Age'] > 50]), 1, 1.0, 10e-5) for _ in range(100)]\n",
    "errors = [pct_error(len(adult[adult['Age'] > 50]), r) for r in results]\n",
    "print('mean error:', np.mean(errors))\n",
    "\n",
    "assert np.mean(errors) > 0\n",
    "assert np.mean(errors) < 2"
   ]
  },
  {
   "cell_type": "markdown",
   "metadata": {},
   "source": [
    "## Question 12\n",
    "\n",
    "How do the Laplace and Gaussian mechanisms compare in terms of relative error on the query \"how many individuals are over 50 years old\" with $\\epsilon = 1$ and $\\delta = 10^{-5}$?"
   ]
  },
  {
   "cell_type": "code",
   "execution_count": null,
   "metadata": {},
   "outputs": [],
   "source": [
    "true_answer = len(adult[adult['Age'] > 50])\n",
    "\n",
    "laplace_answers = [laplace_mech(true_answer, 1, 1) for _ in range(200)]\n",
    "gaussian_answers = [gaussian_mech(true_answer, 1, 1, 10e-5) for _ in range(200)]\n",
    "\n",
    "laplace_error = [pct_error(true_answer, a) for a in laplace_answers]\n",
    "gaussian_error = [pct_error(true_answer, a) for a in gaussian_answers]\n",
    "\n",
    "_, bins, _ = plt.hist(gaussian_error, bins=20, label='Gaussian')\n",
    "plt.hist(laplace_error, bins=bins, label='Laplace', alpha=0.5)\n",
    "plt.legend();"
   ]
  },
  {
   "cell_type": "markdown",
   "metadata": {
    "deletable": false,
    "nbgrader": {
     "cell_type": "markdown",
     "checksum": "1153ff5988a844b33435df5d8de63f06",
     "grade": true,
     "grade_id": "cell-aa96c49ecf1a6d2c",
     "locked": false,
     "points": 5,
     "schema_version": 3,
     "solution": true,
     "task": false
    }
   },
   "source": [
    "YOUR ANSWER HERE"
   ]
  },
  {
   "cell_type": "markdown",
   "metadata": {},
   "source": [
    "## Not a Question - Just for reference\n",
    "\n",
    "[Reference](https://uvm-plaid.github.io/programming-dp/notebooks/ch6.html#the-gaussian-mechanism)"
   ]
  },
  {
   "cell_type": "code",
   "execution_count": null,
   "metadata": {},
   "outputs": [],
   "source": [
    "epsilon = 1\n",
    "sensitivity = 1\n",
    "delta = 1e-5\n",
    "sigma_squared = 2 * sensitivity**2 * np.log(1.25 / delta) / (epsilon**2)\n",
    "sigma = np.sqrt(sigma_squared)\n",
    "\n",
    "def gauss_pdf(x):\n",
    "    return 1/(sigma*np.sqrt(2*np.pi)) * np.exp(-(1/2)*(x/sigma)**2)\n",
    "\n",
    "xs = np.linspace(-50, 50, 200)\n",
    "ys1 = [gauss_pdf(x) for x in xs]\n",
    "ys2 = [gauss_pdf(x+1) for x in xs]\n",
    "\n",
    "plt.plot(xs,ys1)\n",
    "plt.plot(xs,ys2)\n",
    "\n",
    "# ratio < e^epsilon should hold\n",
    "print('e^epsilon =', np.exp(epsilon))\n",
    "ratios = [(x, y1 / y2) for x, y1, y2 in zip(xs, ys1, ys2)]\n",
    "#ratios"
   ]
  },
  {
   "cell_type": "code",
   "execution_count": null,
   "metadata": {},
   "outputs": [],
   "source": [
    "def laplace_pdf(x):\n",
    "    return (1/2)*epsilon * np.exp(-np.abs(x)*epsilon)\n",
    "\n",
    "xs = np.linspace(-50, 50, 200)\n",
    "ys1 = [laplace_pdf(x) for x in xs]\n",
    "ys2 = [laplace_pdf(x+1) for x in xs]\n",
    "\n",
    "plt.plot(xs,ys1)\n",
    "plt.plot(xs,ys2)\n",
    "\n",
    "# ratio < e^epsilon should hold\n",
    "print('e^epsilon =', np.exp(epsilon))\n",
    "ratios = [(x, y1 / y2) for x, y1, y2 in zip(xs, ys1, ys2)]\n",
    "#ratios"
   ]
  }
 ],
 "metadata": {
  "kernelspec": {
   "display_name": "Python 3 (ipykernel)",
   "language": "python",
   "name": "python3"
  },
  "language_info": {
   "codemirror_mode": {
    "name": "ipython",
    "version": 3
   },
   "file_extension": ".py",
   "mimetype": "text/x-python",
   "name": "python",
   "nbconvert_exporter": "python",
   "pygments_lexer": "ipython3",
   "version": "3.10.2"
  }
 },
 "nbformat": 4,
 "nbformat_minor": 4
}
