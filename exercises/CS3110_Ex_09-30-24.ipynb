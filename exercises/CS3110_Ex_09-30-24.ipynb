{
 "cells": [
  {
   "cell_type": "markdown",
   "metadata": {},
   "source": [
    "# CS 3110/5110: Data Privacy\n",
    "## In-Class Exercise, Week of 9/30/2024"
   ]
  },
  {
   "cell_type": "code",
   "execution_count": 1,
   "metadata": {},
   "outputs": [],
   "source": [
    "# Load the data and libraries\n",
    "import pandas as pd\n",
    "import numpy as np\n",
    "from scipy import stats\n",
    "import matplotlib.pyplot as plt\n",
    "\n",
    "def laplace_mech(v, sensitivity, epsilon):\n",
    "    return v + np.random.laplace(loc=0, scale=sensitivity / epsilon)\n",
    "\n",
    "def laplace_mech_vec(vec, sensitivity, epsilon):\n",
    "    return [v + np.random.laplace(loc=0, scale=sensitivity / epsilon) for v in vec]\n",
    "\n",
    "def gaussian_mech(v, sensitivity, epsilon, delta):\n",
    "    return v + np.random.normal(loc=0, scale=sensitivity * np.sqrt(2*np.log(1.25/delta)) / epsilon)\n",
    "\n",
    "def gaussian_mech_vec(vec, sensitivity, epsilon, delta):\n",
    "    return [v + np.random.normal(loc=0, scale=sensitivity * np.sqrt(2*np.log(1.25/delta)) / epsilon) for v in vec]\n",
    "\n",
    "def pct_error(orig, priv):\n",
    "    return np.abs(orig - priv)/orig * 100.0\n",
    "\n",
    "adult = pd.read_csv('https://github.com/jnear/cs3110-data-privacy/raw/main/homework/adult_with_pii.csv')"
   ]
  },
  {
   "cell_type": "markdown",
   "metadata": {},
   "source": [
    "## Question 1\n",
    "\n",
    "Implement the Gaussian mechanism for $(\\epsilon, \\delta)$-differential privacy."
   ]
  },
  {
   "cell_type": "code",
   "execution_count": 2,
   "metadata": {
    "deletable": false,
    "nbgrader": {
     "cell_type": "code",
     "checksum": "31d4967e3d4bf6c87e8f17c5a8869a92",
     "grade": false,
     "grade_id": "cell-8a747c92ab199a91",
     "locked": false,
     "schema_version": 3,
     "solution": true,
     "task": false
    }
   },
   "outputs": [],
   "source": [
    "def gaussian_mech(v, sensitivity, epsilon, delta):\n",
    "    sigma_squared = 2 * sensitivity**2 * np.log(1.25/delta) / (epsilon**2)\n",
    "    return v + np.random.normal(loc=0, scale=np.sqrt(sigma_squared))"
   ]
  },
  {
   "cell_type": "code",
   "execution_count": 3,
   "metadata": {
    "deletable": false,
    "editable": false,
    "nbgrader": {
     "cell_type": "code",
     "checksum": "1adc60d692e5bf0e529ed61ad082a8ac",
     "grade": true,
     "grade_id": "cell-f991d474ed13d0ed",
     "locked": true,
     "points": 5,
     "schema_version": 3,
     "solution": false,
     "task": false
    }
   },
   "outputs": [
    {
     "name": "stdout",
     "output_type": "stream",
     "text": [
      "mean error: 0.05034742772765776\n"
     ]
    }
   ],
   "source": [
    "# TEST CASE\n",
    "\n",
    "results = [gaussian_mech(len(adult[adult['Age'] > 50]), 1, 1.0, 10e-5) for _ in range(100)]\n",
    "errors = [pct_error(len(adult[adult['Age'] > 50]), r) for r in results]\n",
    "print('mean error:', np.mean(errors))\n",
    "\n",
    "assert np.mean(errors) > 0\n",
    "assert np.mean(errors) < 2"
   ]
  },
  {
   "cell_type": "markdown",
   "metadata": {},
   "source": [
    "## Question 2\n",
    "\n",
    "How do the Laplace and Gaussian mechanisms compare in terms of relative error on the query \"how many individuals are over 50 years old\" with $\\epsilon = 1$ and $\\delta = 10^{-5}$?"
   ]
  },
  {
   "cell_type": "code",
   "execution_count": 4,
   "metadata": {},
   "outputs": [
    {
     "data": {
      "image/png": "[encoded data removed]",
      "text/plain": [
       "<Figure size 640x480 with 1 Axes>"
      ]
     },
     "metadata": {},
     "output_type": "display_data"
    }
   ],
   "source": [
    "true_answer = len(adult[adult['Age'] > 50])\n",
    "\n",
    "laplace_answers = [laplace_mech(true_answer, 1, 1) for _ in range(200)]\n",
    "gaussian_answers = [gaussian_mech(true_answer, 1, 1, 10e-5) for _ in range(200)]\n",
    "\n",
    "laplace_error = [pct_error(true_answer, a) for a in laplace_answers]\n",
    "gaussian_error = [pct_error(true_answer, a) for a in gaussian_answers]\n",
    "\n",
    "_, bins, _ = plt.hist(gaussian_error, bins=20, label='Gaussian')\n",
    "plt.hist(laplace_error, bins=bins, label='Laplace', alpha=0.5)\n",
    "plt.legend();"
   ]
  },
  {
   "cell_type": "markdown",
   "metadata": {
    "deletable": false,
    "nbgrader": {
     "cell_type": "markdown",
     "checksum": "1153ff5988a844b33435df5d8de63f06",
     "grade": true,
     "grade_id": "cell-aa96c49ecf1a6d2c",
     "locked": false,
     "points": 5,
     "schema_version": 3,
     "solution": true,
     "task": false
    }
   },
   "source": [
    "YOUR ANSWER HERE"
   ]
  },
  {
   "cell_type": "markdown",
   "metadata": {},
   "source": [
    "## Not a Question - Just for reference\n",
    "\n",
    "[Reference](https://uvm-plaid.github.io/programming-dp/notebooks/ch6.html#the-gaussian-mechanism)"
   ]
  },
  {
   "cell_type": "code",
   "execution_count": null,
   "metadata": {},
   "outputs": [],
   "source": [
    "epsilon = 1\n",
    "sensitivity = 1\n",
    "delta = 1e-5\n",
    "sigma_squared = 2 * sensitivity**2 * np.log(1.25 / delta) / (epsilon**2)\n",
    "sigma = np.sqrt(sigma_squared)\n",
    "\n",
    "def gauss_pdf(x):\n",
    "    return 1/(sigma*np.sqrt(2*np.pi)) * np.exp(-(1/2)*(x/sigma)**2)\n",
    "\n",
    "xs = np.linspace(-50, 50, 200)\n",
    "ys1 = [gauss_pdf(x) for x in xs]\n",
    "ys2 = [gauss_pdf(x+1) for x in xs]\n",
    "\n",
    "plt.plot(xs,ys1)\n",
    "plt.plot(xs,ys2)\n",
    "\n",
    "# ratio < e^epsilon should hold\n",
    "print('e^epsilon =', np.exp(epsilon))\n",
    "ratios = [(x, y1 / y2) for x, y1, y2 in zip(xs, ys1, ys2)]\n",
    "#ratios"
   ]
  },
  {
   "cell_type": "code",
   "execution_count": null,
   "metadata": {},
   "outputs": [],
   "source": [
    "def laplace_pdf(x):\n",
    "    return (1/2)*epsilon * np.exp(-np.abs(x)*epsilon)\n",
    "\n",
    "xs = np.linspace(-50, 50, 200)\n",
    "ys1 = [laplace_pdf(x) for x in xs]\n",
    "ys2 = [laplace_pdf(x+1) for x in xs]\n",
    "\n",
    "plt.plot(xs,ys1)\n",
    "plt.plot(xs,ys2)\n",
    "\n",
    "# ratio < e^epsilon should hold\n",
    "print('e^epsilon =', np.exp(epsilon))\n",
    "ratios = [(x, y1 / y2) for x, y1, y2 in zip(xs, ys1, ys2)]\n",
    "#ratios"
   ]
  },
  {
   "cell_type": "markdown",
   "metadata": {},
   "source": [
    "## Question 3\n",
    "\n",
    "The function `age_cdf` calculates the cumulative distribution function (CDF) of the ages in the adult dataset, expressed as a vector of counts.\n",
    "\n",
    "What is the **L1 global sensitivity** of `age_cdf`?"
   ]
  },
  {
   "cell_type": "code",
   "execution_count": 5,
   "metadata": {},
   "outputs": [
    {
     "name": "stdout",
     "output_type": "stream",
     "text": [
      "Length of CDF vector: 100\n"
     ]
    },
    {
     "data": {
      "text/plain": [
       "[0,\n",
       " 0,\n",
       " 0,\n",
       " 0,\n",
       " 0,\n",
       " 0,\n",
       " 0,\n",
       " 0,\n",
       " 0,\n",
       " 0,\n",
       " 0,\n",
       " 0,\n",
       " 0,\n",
       " 0,\n",
       " 0,\n",
       " 0,\n",
       " 0,\n",
       " 0,\n",
       " 395,\n",
       " 945,\n",
       " 1657,\n",
       " 2410,\n",
       " 3130,\n",
       " 3895,\n",
       " 4772,\n",
       " 5570,\n",
       " 6411,\n",
       " 7196,\n",
       " 8031,\n",
       " 8898,\n",
       " 9711,\n",
       " 10572,\n",
       " 11460,\n",
       " 12288,\n",
       " 13163,\n",
       " 14049,\n",
       " 14925,\n",
       " 15823,\n",
       " 16681,\n",
       " 17508,\n",
       " 18324,\n",
       " 19118,\n",
       " 19926,\n",
       " 20706,\n",
       " 21476,\n",
       " 22200,\n",
       " 22934,\n",
       " 23671,\n",
       " 24379,\n",
       " 24922,\n",
       " 25499,\n",
       " 26101,\n",
       " 26696,\n",
       " 27174,\n",
       " 27638,\n",
       " 28053,\n",
       " 28472,\n",
       " 28838,\n",
       " 29196,\n",
       " 29562,\n",
       " 29917,\n",
       " 30229,\n",
       " 30529,\n",
       " 30787,\n",
       " 31017,\n",
       " 31225,\n",
       " 31403,\n",
       " 31553,\n",
       " 31704,\n",
       " 31824,\n",
       " 31932,\n",
       " 32021,\n",
       " 32093,\n",
       " 32160,\n",
       " 32224,\n",
       " 32275,\n",
       " 32320,\n",
       " 32366,\n",
       " 32395,\n",
       " 32418,\n",
       " 32440,\n",
       " 32462,\n",
       " 32482,\n",
       " 32494,\n",
       " 32500,\n",
       " 32510,\n",
       " 32513,\n",
       " 32514,\n",
       " 32515,\n",
       " 32518,\n",
       " 32518,\n",
       " 32561,\n",
       " 32561,\n",
       " 32561,\n",
       " 32561,\n",
       " 32561,\n",
       " 32561,\n",
       " 32561,\n",
       " 32561,\n",
       " 32561]"
      ]
     },
     "execution_count": 5,
     "metadata": {},
     "output_type": "execute_result"
    },
    {
     "data": {
      "image/png": "[encoded data removed]",
      "text/plain": [
       "<Figure size 640x480 with 1 Axes>"
      ]
     },
     "metadata": {},
     "output_type": "display_data"
    }
   ],
   "source": [
    "def age_cdf():\n",
    "    a = adult['Age']\n",
    "    return [len(a[a < i]) for i in range(100)]\n",
    "\n",
    "plt.plot(age_cdf());\n",
    "print('Length of CDF vector:', len(age_cdf()))\n",
    "age_cdf()"
   ]
  },
  {
   "cell_type": "markdown",
   "metadata": {
    "deletable": false,
    "nbgrader": {
     "cell_type": "markdown",
     "checksum": "b3f294bc5c27352def751fdbd969b8ad",
     "grade": true,
     "grade_id": "cell-8f06213517922523",
     "locked": false,
     "points": 5,
     "schema_version": 3,
     "solution": true,
     "task": false
    }
   },
   "source": [
    "- The L1 global sensitivity is the sum of the individual sensitivities of the elements of the vector.\n",
    "- For this query, each element is a count, with a sensitivity of 1.\n",
    "- Therefore, the L1 global sensitivity is 100*1 = 100.\n",
    "- Note. The L1 global sensitivity has nothing to do with the VALUES in the age_cdf() result. "
   ]
  },
  {
   "cell_type": "markdown",
   "metadata": {},
   "source": [
    "## Question 4\n",
    "\n",
    "What is the **L2 global sensitivity** of `age_cdf`?"
   ]
  },
  {
   "cell_type": "markdown",
   "metadata": {
    "deletable": false,
    "editable": false,
    "nbgrader": {
     "cell_type": "markdown",
     "checksum": "a2edaa7820d7016c09af20e722f791d2",
     "grade": false,
     "grade_id": "cell-8eb0febac74baf26",
     "locked": true,
     "points": 5,
     "schema_version": 3,
     "solution": false,
     "task": true
    }
   },
   "source": [
    "- The L2 global sensitivity is the square root of the sum of the squares of the element-wise sensitivities\n",
    "- Each element of the vector is a count, so it has a sensitivity of 1 and a squared sensitivity of `1*1 = 1`\n",
    "- Thus the L2 global sensitivity is sqrt(100) = 10\n",
    "- This is **much less** than the L1 sensitivity of 100"
   ]
  },
  {
   "cell_type": "markdown",
   "metadata": {},
   "source": [
    "## Question 5\n",
    "\n",
    "Use the vector-valued Laplace and Gaussian mechanisms to construct noisy versions of the CDF of ages. **Be sure to use the right sensitivity!**"
   ]
  },
  {
   "cell_type": "code",
   "execution_count": null,
   "metadata": {
    "deletable": false,
    "nbgrader": {
     "cell_type": "code",
     "checksum": "5e709b67783d8ebc00d9887ec006410c",
     "grade": true,
     "grade_id": "cell-92c8139e881dea8b",
     "locked": false,
     "points": 5,
     "schema_version": 3,
     "solution": true,
     "task": false
    }
   },
   "outputs": [],
   "source": [
    "def laplace_cdf(epsilon):\n",
    "    # YOUR CODE HERE\n",
    "    raise NotImplementedError()\n",
    "\n",
    "def gaussian_cdf(epsilon, delta):\n",
    "    # YOUR CODE HERE\n",
    "    raise NotImplementedError()\n",
    "\n",
    "plt.plot(laplace_cdf(0.1), label='Laplace L1');\n",
    "plt.plot(gaussian_cdf(0.1, 1e-5), label='Gaussian L2');\n",
    "plt.legend();"
   ]
  },
  {
   "cell_type": "markdown",
   "metadata": {},
   "source": [
    "## Question 6\n",
    "\n",
    "Use the *regular* (not vector-valued) Laplace mechanism, **with advanced composition**, to construct a noisy CDF of ages."
   ]
  },
  {
   "cell_type": "code",
   "execution_count": null,
   "metadata": {
    "deletable": false,
    "nbgrader": {
     "cell_type": "code",
     "checksum": "51dcf30365dcbdbcf02fac50fac7642f",
     "grade": true,
     "grade_id": "cell-582b94ec264bec56",
     "locked": false,
     "points": 5,
     "schema_version": 3,
     "solution": true,
     "task": false
    }
   },
   "outputs": [],
   "source": [
    "def laplace_cdf_advanced_composition(epsilon, delta):\n",
    "    # YOUR CODE HERE\n",
    "    raise NotImplementedError()\n",
    "    \n",
    "plt.plot(laplace_cdf(0.1), label='Laplace L1')\n",
    "plt.plot(gaussian_cdf(0.1, 1e-5), label='Gaussian L2')\n",
    "plt.plot(laplace_cdf_advanced_composition(0.1, 1e-5), label='Laplace Advanced Comp')\n",
    "plt.legend();"
   ]
  },
  {
   "cell_type": "markdown",
   "metadata": {},
   "source": [
    "## Question 7\n",
    "\n",
    "Write a function to calculate the L1 **local sensitivity** of the following mean query."
   ]
  },
  {
   "cell_type": "code",
   "execution_count": null,
   "metadata": {},
   "outputs": [],
   "source": [
    "def mean_query():\n",
    "    b = 125\n",
    "    return adult['Age'][adult['Education'] == 'Bachelors'].clip(lower=0, upper=b).mean()\n",
    "\n",
    "mean_query()"
   ]
  },
  {
   "cell_type": "code",
   "execution_count": null,
   "metadata": {
    "deletable": false,
    "nbgrader": {
     "cell_type": "code",
     "checksum": "a63b544858862861e2ec5ab49c028a1c",
     "grade": false,
     "grade_id": "cell-f39828c2d85af776",
     "locked": false,
     "schema_version": 3,
     "solution": true,
     "task": false
    }
   },
   "outputs": [],
   "source": [
    "def mean_query_local_sensitivity():\n",
    "    # YOUR CODE HERE\n",
    "    raise NotImplementedError()\n",
    "\n",
    "mean_query_local_sensitivity()"
   ]
  },
  {
   "cell_type": "code",
   "execution_count": null,
   "metadata": {
    "deletable": false,
    "editable": false,
    "nbgrader": {
     "cell_type": "code",
     "checksum": "b101503b7ddfa664f6601e5f04490f9b",
     "grade": true,
     "grade_id": "cell-f1bb755347650609",
     "locked": true,
     "points": 5,
     "schema_version": 3,
     "solution": false,
     "task": false
    }
   },
   "outputs": [],
   "source": [
    "# TEST CASE\n",
    "assert (mean_query_local_sensitivity() - 0.02333831217326363) < 0.0001"
   ]
  },
  {
   "cell_type": "markdown",
   "metadata": {},
   "source": [
    "## Question 8\n",
    "\n",
    "Why can't we use the local sensitivity from question 1 directly to achieve differential privacy for `mean_query`?"
   ]
  },
  {
   "cell_type": "markdown",
   "metadata": {
    "deletable": false,
    "nbgrader": {
     "cell_type": "markdown",
     "checksum": "fc3fda729667f68b239065a6ee05e290",
     "grade": true,
     "grade_id": "cell-55d134a1eb26aec9",
     "locked": false,
     "points": 5,
     "schema_version": 3,
     "solution": true,
     "task": false
    }
   },
   "source": [
    "YOUR ANSWER HERE"
   ]
  },
  {
   "cell_type": "markdown",
   "metadata": {},
   "source": [
    "## Question 9\n",
    "\n",
    "Implement an upper bound on $A(f, x, k)$, the local sensitivity of a mean query at distance $k$."
   ]
  },
  {
   "cell_type": "code",
   "execution_count": null,
   "metadata": {
    "deletable": false,
    "nbgrader": {
     "cell_type": "code",
     "checksum": "9e14327b4e1bf23b23e65af9d22df4be",
     "grade": false,
     "grade_id": "cell-bfe45a4f5261718f",
     "locked": false,
     "schema_version": 3,
     "solution": true,
     "task": false
    }
   },
   "outputs": [],
   "source": [
    "def ls_mean_at_distance(df, b, k):\n",
    "    # YOUR CODE HERE\n",
    "    raise NotImplementedError()"
   ]
  },
  {
   "cell_type": "code",
   "execution_count": null,
   "metadata": {
    "deletable": false,
    "editable": false,
    "nbgrader": {
     "cell_type": "code",
     "checksum": "c729b90b3a0e3de6daa5ac422af23eb6",
     "grade": true,
     "grade_id": "cell-e19c35e52e3a15c0",
     "locked": true,
     "points": 5,
     "schema_version": 3,
     "solution": false,
     "task": false
    }
   },
   "outputs": [],
   "source": [
    "# TEST CASE\n",
    "assert ls_mean_at_distance(adult['Age'], 125, 500) == 0.0038988178784192633\n",
    "assert ls_mean_at_distance(adult['Age'], 125, 5000) == 0.004535394216465295"
   ]
  },
  {
   "cell_type": "markdown",
   "metadata": {},
   "source": [
    "## Question 10\n",
    "\n",
    "Implement an upper bound on $D(f, x, s)$, the distance from $x$ to a database where the local sensitivity of the mean query is greater than or equal to $s$."
   ]
  },
  {
   "cell_type": "code",
   "execution_count": null,
   "metadata": {
    "deletable": false,
    "nbgrader": {
     "cell_type": "code",
     "checksum": "6b6b1a61668426838a0f6127280da4d1",
     "grade": false,
     "grade_id": "cell-2750bb4f33a0b420",
     "locked": false,
     "schema_version": 3,
     "solution": true,
     "task": false
    }
   },
   "outputs": [],
   "source": [
    "def dist_to_high_ls_mean(df, b, s):\n",
    "    # YOUR CODE HERE\n",
    "    raise NotImplementedError()"
   ]
  },
  {
   "cell_type": "code",
   "execution_count": null,
   "metadata": {
    "deletable": false,
    "editable": false,
    "nbgrader": {
     "cell_type": "code",
     "checksum": "1744a7532e5e40b214dc48f7dfeed2fd",
     "grade": true,
     "grade_id": "cell-77a206124ddb3baf",
     "locked": true,
     "points": 5,
     "schema_version": 3,
     "solution": false,
     "task": false
    }
   },
   "outputs": [],
   "source": [
    "# TEST CASE\n",
    "assert dist_to_high_ls_mean(adult['Age'], 125, 0.1) == 31311 \n",
    "assert dist_to_high_ls_mean(adult['Age'], 125, 0.01) == 20061\n",
    "assert dist_to_high_ls_mean(adult['Age'], 125, 0.001) == 0"
   ]
  },
  {
   "cell_type": "markdown",
   "metadata": {},
   "source": [
    "## Question 11\n",
    "\n",
    "Use the Propose-Test-Release (PTR) framework to calculate the mean age in the adult dataset with differential privacy."
   ]
  },
  {
   "cell_type": "code",
   "execution_count": null,
   "metadata": {
    "deletable": false,
    "nbgrader": {
     "cell_type": "code",
     "checksum": "e6f5e52256ad011f5879523441b6462d",
     "grade": false,
     "grade_id": "cell-62e95c3348999e9a",
     "locked": false,
     "schema_version": 3,
     "solution": true,
     "task": false
    }
   },
   "outputs": [],
   "source": [
    "def mean_ptr(epsilon, delta):\n",
    "    # YOUR CODE HERE\n",
    "    raise NotImplementedError()\n",
    "\n",
    "mean_ptr(1.0, 10e-5)"
   ]
  },
  {
   "cell_type": "code",
   "execution_count": null,
   "metadata": {
    "deletable": false,
    "editable": false,
    "nbgrader": {
     "cell_type": "code",
     "checksum": "1ebb4a2cb36fc47793f19dc8f5b4067a",
     "grade": true,
     "grade_id": "cell-efb8d6da908b8ae9",
     "locked": true,
     "points": 5,
     "schema_version": 3,
     "solution": false,
     "task": false
    }
   },
   "outputs": [],
   "source": [
    "# TEST CASE\n",
    "\n",
    "true_answer = adult['Age'].mean()\n",
    "trials = [mean_ptr(1.0, 10e-5) for _ in range(20)]\n",
    "errors = [pct_error(true_answer, x) for x in trials]\n",
    "assert np.mean(errors) < 1.0"
   ]
  },
  {
   "cell_type": "markdown",
   "metadata": {},
   "source": [
    "## Exploration: how low can the proposal be?"
   ]
  },
  {
   "cell_type": "code",
   "execution_count": null,
   "metadata": {},
   "outputs": [],
   "source": [
    "xs = np.linspace(0.001, 0.01)\n",
    "clipped_ages = adult['Age'].clip(lower=0, upper=125)\n",
    "ys = [dist_to_high_ls_mean(clipped_ages, 125, p) for p in xs]"
   ]
  },
  {
   "cell_type": "code",
   "execution_count": null,
   "metadata": {},
   "outputs": [],
   "source": [
    "plt.plot(xs, ys)"
   ]
  }
 ],
 "metadata": {
  "kernelspec": {
   "display_name": "Python 3 (ipykernel)",
   "language": "python",
   "name": "python3"
  },
  "language_info": {
   "codemirror_mode": {
    "name": "ipython",
    "version": 3
   },
   "file_extension": ".py",
   "mimetype": "text/x-python",
   "name": "python",
   "nbconvert_exporter": "python",
   "pygments_lexer": "ipython3",
   "version": "3.10.2"
  }
 },
 "nbformat": 4,
 "nbformat_minor": 4
}
