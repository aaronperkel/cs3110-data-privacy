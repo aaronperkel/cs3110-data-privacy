{
 "cells": [
  {
   "cell_type": "markdown",
   "metadata": {},
   "source": [
    "# CS 3110/5110: Data Privacy\n",
    "## Homework 10"
   ]
  },
  {
   "cell_type": "code",
   "execution_count": 2,
   "metadata": {},
   "outputs": [],
   "source": [
    "# Load the data and libraries\n",
    "import pandas as pd\n",
    "import numpy as np\n",
    "from scipy import stats\n",
    "import matplotlib.pyplot as plt\n",
    "\n",
    "def laplace_mech(v, sensitivity, epsilon):\n",
    "    return v + np.random.laplace(loc=0, scale=sensitivity / epsilon)\n",
    "\n",
    "def gaussian_mech(v, sensitivity, epsilon, delta):\n",
    "    return v + np.random.normal(loc=0, scale=sensitivity * np.sqrt(2*np.log(1.25/delta)) / epsilon)\n",
    "\n",
    "def gaussian_mech_vec(vec, sensitivity, epsilon, delta):\n",
    "    return [v + np.random.normal(loc=0, scale=sensitivity * np.sqrt(2*np.log(1.25/delta)) / epsilon)\n",
    "            for v in vec]\n",
    "\n",
    "def pct_error(orig, priv):\n",
    "    return np.abs(orig - priv)/orig * 100.0\n",
    "\n",
    "adult = pd.read_csv('https://github.com/jnear/cs3110-data-privacy/raw/main/homework/adult_with_pii.csv')"
   ]
  },
  {
   "cell_type": "markdown",
   "metadata": {},
   "source": [
    "## Question 1 (10 points)\n",
    "\n",
    "Implement a function `dp_marginal` that calculates a differentially private one-way marginal for a given column of the adult dataset."
   ]
  },
  {
   "cell_type": "code",
   "execution_count": 3,
   "metadata": {
    "deletable": false,
    "nbgrader": {
     "cell_type": "code",
     "checksum": "5a9229a59e046a8691155079ac40ade2",
     "grade": false,
     "grade_id": "cell-fe352b0b42ab6343",
     "locked": false,
     "schema_version": 3,
     "solution": true,
     "task": false
    }
   },
   "outputs": [
    {
     "data": {
      "text/plain": [
       "Prof-specialty       0.134687\n",
       "Craft-repair         0.133392\n",
       "Exec-managerial      0.132338\n",
       "Adm-clerical         0.122701\n",
       "Sales                0.118802\n",
       "Other-service        0.107250\n",
       "Machine-op-inspct    0.065206\n",
       "Transport-moving     0.052036\n",
       "Handlers-cleaners    0.044643\n",
       "Farming-fishing      0.032348\n",
       "Tech-support         0.030299\n",
       "Protective-serv      0.021139\n",
       "Priv-house-serv      0.004862\n",
       "Armed-Forces         0.000296\n",
       "Name: Occupation, dtype: float64"
      ]
     },
     "execution_count": 3,
     "metadata": {},
     "output_type": "execute_result"
    }
   ],
   "source": [
    "def dp_marginal(col, epsilon):\n",
    "    # Step 1: Get the true counts\n",
    "    counts = adult[col].value_counts()\n",
    "\n",
    "    # Step 2: Add Laplace noise to each count\n",
    "    noisy_counts = counts.apply(lambda x: laplace_mech(x, sensitivity=1, epsilon=epsilon))\n",
    "\n",
    "    # Step 3: Remove negative counts and normalize to get probabilities\n",
    "    noisy_counts = noisy_counts.clip(lower=0)\n",
    "    total = noisy_counts.sum()\n",
    "    probabilities = noisy_counts / total\n",
    "\n",
    "    return probabilities\n",
    "\n",
    "dp_marginal('Occupation', 1.0)"
   ]
  },
  {
   "cell_type": "code",
   "execution_count": 4,
   "metadata": {
    "deletable": false,
    "editable": false,
    "nbgrader": {
     "cell_type": "code",
     "checksum": "cede97219e6eab45e147872dc3d17ef9",
     "grade": true,
     "grade_id": "cell-a8066080d4cde75d",
     "locked": true,
     "points": 10,
     "schema_version": 3,
     "solution": false,
     "task": false
    }
   },
   "outputs": [],
   "source": [
    "# TEST CASE\n",
    "marginal = dp_marginal('Age', 1.0)\n",
    "assert marginal[36] > 0.02 and marginal[36] < 0.03\n",
    "assert marginal[85] > 0.00005 and marginal[85] < 0.0005\n",
    "\n",
    "marginal = dp_marginal('Occupation', 1.0)\n",
    "assert marginal['Prof-specialty'] > 0.13 and marginal['Prof-specialty'] < 0.14\n",
    "assert marginal['Protective-serv'] > 0.02 and marginal['Protective-serv'] < 0.03"
   ]
  },
  {
   "cell_type": "markdown",
   "metadata": {},
   "source": [
    "## Question 2 (10 points)\n",
    "\n",
    "Implement a function `dp_synthetic_data` that generates `n` samples of synthetic data for the given columns, by creating one-way marginals for *each column* and then sampling synthetic data elements for each column separately."
   ]
  },
  {
   "cell_type": "code",
   "execution_count": 5,
   "metadata": {
    "deletable": false,
    "nbgrader": {
     "cell_type": "code",
     "checksum": "15ba7932dac45bd0865ec483b2855c7e",
     "grade": false,
     "grade_id": "cell-9cddd37233f6c2e4",
     "locked": false,
     "schema_version": 3,
     "solution": true,
     "task": false
    }
   },
   "outputs": [
    {
     "data": {
      "text/html": [
       "<div>\n",
       "<style scoped>\n",
       "    .dataframe tbody tr th:only-of-type {\n",
       "        vertical-align: middle;\n",
       "    }\n",
       "\n",
       "    .dataframe tbody tr th {\n",
       "        vertical-align: top;\n",
       "    }\n",
       "\n",
       "    .dataframe thead th {\n",
       "        text-align: right;\n",
       "    }\n",
       "</style>\n",
       "<table border=\"1\" class=\"dataframe\">\n",
       "  <thead>\n",
       "    <tr style=\"text-align: right;\">\n",
       "      <th></th>\n",
       "      <th>Age</th>\n",
       "      <th>Occupation</th>\n",
       "      <th>Marital Status</th>\n",
       "      <th>Education</th>\n",
       "      <th>Relationship</th>\n",
       "    </tr>\n",
       "  </thead>\n",
       "  <tbody>\n",
       "    <tr>\n",
       "      <th>0</th>\n",
       "      <td>28</td>\n",
       "      <td>Sales</td>\n",
       "      <td>Never-married</td>\n",
       "      <td>7th-8th</td>\n",
       "      <td>Not-in-family</td>\n",
       "    </tr>\n",
       "    <tr>\n",
       "      <th>1</th>\n",
       "      <td>39</td>\n",
       "      <td>Tech-support</td>\n",
       "      <td>Married-civ-spouse</td>\n",
       "      <td>HS-grad</td>\n",
       "      <td>Other-relative</td>\n",
       "    </tr>\n",
       "    <tr>\n",
       "      <th>2</th>\n",
       "      <td>21</td>\n",
       "      <td>Prof-specialty</td>\n",
       "      <td>Married-civ-spouse</td>\n",
       "      <td>Some-college</td>\n",
       "      <td>Unmarried</td>\n",
       "    </tr>\n",
       "    <tr>\n",
       "      <th>3</th>\n",
       "      <td>20</td>\n",
       "      <td>Machine-op-inspct</td>\n",
       "      <td>Married-civ-spouse</td>\n",
       "      <td>HS-grad</td>\n",
       "      <td>Wife</td>\n",
       "    </tr>\n",
       "    <tr>\n",
       "      <th>4</th>\n",
       "      <td>57</td>\n",
       "      <td>Transport-moving</td>\n",
       "      <td>Never-married</td>\n",
       "      <td>Bachelors</td>\n",
       "      <td>Wife</td>\n",
       "    </tr>\n",
       "    <tr>\n",
       "      <th>...</th>\n",
       "      <td>...</td>\n",
       "      <td>...</td>\n",
       "      <td>...</td>\n",
       "      <td>...</td>\n",
       "      <td>...</td>\n",
       "    </tr>\n",
       "    <tr>\n",
       "      <th>95</th>\n",
       "      <td>26</td>\n",
       "      <td>Sales</td>\n",
       "      <td>Married-civ-spouse</td>\n",
       "      <td>HS-grad</td>\n",
       "      <td>Husband</td>\n",
       "    </tr>\n",
       "    <tr>\n",
       "      <th>96</th>\n",
       "      <td>55</td>\n",
       "      <td>Exec-managerial</td>\n",
       "      <td>Married-civ-spouse</td>\n",
       "      <td>HS-grad</td>\n",
       "      <td>Unmarried</td>\n",
       "    </tr>\n",
       "    <tr>\n",
       "      <th>97</th>\n",
       "      <td>19</td>\n",
       "      <td>Sales</td>\n",
       "      <td>Married-civ-spouse</td>\n",
       "      <td>Bachelors</td>\n",
       "      <td>Not-in-family</td>\n",
       "    </tr>\n",
       "    <tr>\n",
       "      <th>98</th>\n",
       "      <td>44</td>\n",
       "      <td>Exec-managerial</td>\n",
       "      <td>Never-married</td>\n",
       "      <td>11th</td>\n",
       "      <td>Own-child</td>\n",
       "    </tr>\n",
       "    <tr>\n",
       "      <th>99</th>\n",
       "      <td>56</td>\n",
       "      <td>Other-service</td>\n",
       "      <td>Divorced</td>\n",
       "      <td>Bachelors</td>\n",
       "      <td>Not-in-family</td>\n",
       "    </tr>\n",
       "  </tbody>\n",
       "</table>\n",
       "<p>100 rows × 5 columns</p>\n",
       "</div>"
      ],
      "text/plain": [
       "    Age         Occupation      Marital Status     Education    Relationship\n",
       "0    28              Sales       Never-married       7th-8th   Not-in-family\n",
       "1    39       Tech-support  Married-civ-spouse       HS-grad  Other-relative\n",
       "2    21     Prof-specialty  Married-civ-spouse  Some-college       Unmarried\n",
       "3    20  Machine-op-inspct  Married-civ-spouse       HS-grad            Wife\n",
       "4    57   Transport-moving       Never-married     Bachelors            Wife\n",
       "..  ...                ...                 ...           ...             ...\n",
       "95   26              Sales  Married-civ-spouse       HS-grad         Husband\n",
       "96   55    Exec-managerial  Married-civ-spouse       HS-grad       Unmarried\n",
       "97   19              Sales  Married-civ-spouse     Bachelors   Not-in-family\n",
       "98   44    Exec-managerial       Never-married          11th       Own-child\n",
       "99   56      Other-service            Divorced     Bachelors   Not-in-family\n",
       "\n",
       "[100 rows x 5 columns]"
      ]
     },
     "execution_count": 5,
     "metadata": {},
     "output_type": "execute_result"
    }
   ],
   "source": [
    "def dp_synthetic_data(cols, n, epsilon):\n",
    "    synthetic_data = pd.DataFrame()\n",
    "\n",
    "    # Split epsilon equally among the columns\n",
    "    epsilon_per_column = epsilon / len(cols)\n",
    "\n",
    "    for col in cols:\n",
    "        # Get the DP marginal for the column\n",
    "        probabilities = dp_marginal(col, epsilon_per_column)\n",
    "\n",
    "        # Sample data based on the marginal\n",
    "        values = probabilities.sample(n=n, replace=True, weights=probabilities.values).index\n",
    "        synthetic_data[col] = values\n",
    "\n",
    "    return synthetic_data\n",
    "\n",
    "dp_synthetic_data(['Age', 'Occupation', 'Marital Status', 'Education', 'Relationship'], 100, 1.0)"
   ]
  },
  {
   "cell_type": "code",
   "execution_count": 6,
   "metadata": {
    "deletable": false,
    "editable": false,
    "nbgrader": {
     "cell_type": "code",
     "checksum": "d3e12a218ddeb05709b09da49129e907",
     "grade": true,
     "grade_id": "cell-cf544fd5062af6e4",
     "locked": true,
     "points": 10,
     "schema_version": 3,
     "solution": false,
     "task": false
    }
   },
   "outputs": [],
   "source": [
    "# TEST CASE\n",
    "assert stats.wasserstein_distance(dp_synthetic_data(['Age'], len(adult), 1.0)['Age'], adult['Age']) < 0.2\n",
    "assert stats.wasserstein_distance(dp_synthetic_data(['Education-Num'], len(adult), 1.0)['Education-Num'], \n",
    "                                  adult['Education-Num']) < 0.03"
   ]
  },
  {
   "cell_type": "markdown",
   "metadata": {},
   "source": [
    "## Question 3 (10 points)\n",
    "\n",
    "Implement a function `dp_two_marginal` that builds a 2-way marginal with differential privacy."
   ]
  },
  {
   "cell_type": "code",
   "execution_count": 7,
   "metadata": {
    "deletable": false,
    "nbgrader": {
     "cell_type": "code",
     "checksum": "d6bdb397f5952af4e467448026624dc1",
     "grade": false,
     "grade_id": "cell-b9fee88059cb9189",
     "locked": false,
     "schema_version": 3,
     "solution": true,
     "task": false
    }
   },
   "outputs": [
    {
     "data": {
      "text/html": [
       "<div>\n",
       "<style scoped>\n",
       "    .dataframe tbody tr th:only-of-type {\n",
       "        vertical-align: middle;\n",
       "    }\n",
       "\n",
       "    .dataframe tbody tr th {\n",
       "        vertical-align: top;\n",
       "    }\n",
       "\n",
       "    .dataframe thead th {\n",
       "        text-align: right;\n",
       "    }\n",
       "</style>\n",
       "<table border=\"1\" class=\"dataframe\">\n",
       "  <thead>\n",
       "    <tr style=\"text-align: right;\">\n",
       "      <th></th>\n",
       "      <th>Education</th>\n",
       "      <th>Workclass</th>\n",
       "      <th>probability</th>\n",
       "    </tr>\n",
       "  </thead>\n",
       "  <tbody>\n",
       "    <tr>\n",
       "      <th>0</th>\n",
       "      <td>HS-grad</td>\n",
       "      <td>Private</td>\n",
       "      <td>0.253296</td>\n",
       "    </tr>\n",
       "    <tr>\n",
       "      <th>1</th>\n",
       "      <td>Some-college</td>\n",
       "      <td>Private</td>\n",
       "      <td>0.165840</td>\n",
       "    </tr>\n",
       "    <tr>\n",
       "      <th>2</th>\n",
       "      <td>Bachelors</td>\n",
       "      <td>Private</td>\n",
       "      <td>0.115558</td>\n",
       "    </tr>\n",
       "    <tr>\n",
       "      <th>3</th>\n",
       "      <td>Assoc-voc</td>\n",
       "      <td>Private</td>\n",
       "      <td>0.032737</td>\n",
       "    </tr>\n",
       "    <tr>\n",
       "      <th>4</th>\n",
       "      <td>11th</td>\n",
       "      <td>Private</td>\n",
       "      <td>0.030053</td>\n",
       "    </tr>\n",
       "    <tr>\n",
       "      <th>...</th>\n",
       "      <td>...</td>\n",
       "      <td>...</td>\n",
       "      <td>...</td>\n",
       "    </tr>\n",
       "    <tr>\n",
       "      <th>96</th>\n",
       "      <td>5th-6th</td>\n",
       "      <td>Federal-gov</td>\n",
       "      <td>0.000002</td>\n",
       "    </tr>\n",
       "    <tr>\n",
       "      <th>97</th>\n",
       "      <td>1st-4th</td>\n",
       "      <td>State-gov</td>\n",
       "      <td>0.000000</td>\n",
       "    </tr>\n",
       "    <tr>\n",
       "      <th>98</th>\n",
       "      <td>Preschool</td>\n",
       "      <td>State-gov</td>\n",
       "      <td>0.000021</td>\n",
       "    </tr>\n",
       "    <tr>\n",
       "      <th>99</th>\n",
       "      <td>11th</td>\n",
       "      <td>Never-worked</td>\n",
       "      <td>0.000023</td>\n",
       "    </tr>\n",
       "    <tr>\n",
       "      <th>100</th>\n",
       "      <td>HS-grad</td>\n",
       "      <td>Never-worked</td>\n",
       "      <td>0.000033</td>\n",
       "    </tr>\n",
       "  </tbody>\n",
       "</table>\n",
       "<p>101 rows × 3 columns</p>\n",
       "</div>"
      ],
      "text/plain": [
       "        Education     Workclass  probability\n",
       "0         HS-grad       Private     0.253296\n",
       "1    Some-college       Private     0.165840\n",
       "2       Bachelors       Private     0.115558\n",
       "3       Assoc-voc       Private     0.032737\n",
       "4            11th       Private     0.030053\n",
       "..            ...           ...          ...\n",
       "96        5th-6th   Federal-gov     0.000002\n",
       "97        1st-4th     State-gov     0.000000\n",
       "98      Preschool     State-gov     0.000021\n",
       "99           11th  Never-worked     0.000023\n",
       "100       HS-grad  Never-worked     0.000033\n",
       "\n",
       "[101 rows x 3 columns]"
      ]
     },
     "execution_count": 7,
     "metadata": {},
     "output_type": "execute_result"
    }
   ],
   "source": [
    "def two_way_hist(col1, col2, epsilon):\n",
    "    hist = adult[[col1, col2]].value_counts()\n",
    "    noisy_hist = hist.apply(lambda x: laplace_mech(x, 1, epsilon))\n",
    "    return noisy_hist\n",
    "\n",
    "def dp_two_marginal(col1, col2, epsilon):\n",
    "    syn_rep = two_way_hist(col1, col2, epsilon)\n",
    "    syn_rep_nonzero = syn_rep.clip(lower=0)\n",
    "    syn_normalized = syn_rep_nonzero / syn_rep_nonzero.sum()\n",
    "    return syn_normalized.to_frame(name='probability').reset_index()\n",
    "\n",
    "dp_two_marginal('Education', 'Workclass', 1.0)"
   ]
  },
  {
   "cell_type": "code",
   "execution_count": 8,
   "metadata": {
    "deletable": false,
    "editable": false,
    "nbgrader": {
     "cell_type": "code",
     "checksum": "78866899863ff265eaaa68a95b93f3d6",
     "grade": true,
     "grade_id": "cell-cc590e33d1e180e9",
     "locked": true,
     "points": 10,
     "schema_version": 3,
     "solution": false,
     "task": false
    }
   },
   "outputs": [
    {
     "name": "stdout",
     "output_type": "stream",
     "text": [
      "0.2529930783645361 0.006913061300177663\n"
     ]
    }
   ],
   "source": [
    "# TEST CASE\n",
    "marginal = dp_two_marginal('Education', 'Workclass', 1.0)\n",
    "m1 = marginal[(marginal['Education'] == 'HS-grad') & (marginal['Workclass'] == 'Private')]['probability'].values[0]\n",
    "m2 = marginal[(marginal['Education'] == 'Bachelors') & (marginal['Workclass'] == 'Federal-gov')]['probability'].values[0]\n",
    "print(m1, m2)\n",
    "assert m1 > 0.24 and m1 < 0.26\n",
    "assert m2 > 0.005 and m2 < 0.007"
   ]
  },
  {
   "cell_type": "markdown",
   "metadata": {},
   "source": [
    "## Question 4 (30 points)\n",
    "\n",
    "Implement a function `dp_synthetic_data_two_marginal` that generates synthetic data for the `Age`, `Workclass`, `Occupation`, and `Education` columns *while preserving correlations between them* by using overlapping 2-way marginals."
   ]
  },
  {
   "cell_type": "code",
   "execution_count": 9,
   "metadata": {
    "deletable": false,
    "nbgrader": {
     "cell_type": "code",
     "checksum": "b4c808c561d17a5f607189d055ee747b",
     "grade": false,
     "grade_id": "cell-d3a6cd7ee4ee9830",
     "locked": false,
     "schema_version": 3,
     "solution": true,
     "task": false
    }
   },
   "outputs": [],
   "source": [
    "def two_way_hist(col1, col2, epsilon):\n",
    "    hist = adult[[col1, col2]].value_counts()\n",
    "    noisy_hist = hist.apply(lambda x: laplace_mech(x, 1, epsilon))\n",
    "    return noisy_hist\n",
    "\n",
    "def dp_synthetic_data_two_marginal(n, epsilon):\n",
    "    cols = ['Age', 'Workclass', 'Occupation', 'Education']\n",
    "    marginals = []\n",
    "\n",
    "    # Loop over the columns in steps of 2 to create pairs\n",
    "    for i in range(0, len(cols), 2):\n",
    "        syn_rep = two_way_hist(cols[i], cols[i+1], epsilon)\n",
    "        syn_rep_nonzero = syn_rep.clip(lower=0)\n",
    "        syn_normalized = syn_rep_nonzero / syn_rep_nonzero.sum()\n",
    "\n",
    "        marginals.append(syn_normalized.to_frame(name='probability').reset_index())\n",
    "\n",
    "    syn_data = []\n",
    "    for _ in range(n):\n",
    "        sample = {}\n",
    "\n",
    "        # Sample from the first marginal\n",
    "        values = marginals[0].sample(weights=marginals[0]['probability']).iloc[0]\n",
    "        sample[cols[0]] = values[cols[0]]\n",
    "        sample[cols[1]] = values[cols[1]]\n",
    "\n",
    "        # Sample from the second marginal\n",
    "        values = marginals[1].sample(weights=marginals[1]['probability']).iloc[0]\n",
    "        sample[cols[2]] = values[cols[2]]\n",
    "        sample[cols[3]] = values[cols[3]]\n",
    "\n",
    "        syn_data.append(sample)\n",
    "    \n",
    "    result = pd.DataFrame(syn_data)\n",
    "    return result\n",
    "\n",
    "# Call the corrected function\n",
    "synthetic_data = dp_synthetic_data_two_marginal(100, 1.0)"
   ]
  },
  {
   "cell_type": "code",
   "execution_count": 11,
   "metadata": {
    "deletable": false,
    "editable": false,
    "nbgrader": {
     "cell_type": "code",
     "checksum": "8ae034b1e51db70c7b44a6e6117083b6",
     "grade": true,
     "grade_id": "cell-3f4ef7adf2649b50",
     "locked": true,
     "points": 30,
     "schema_version": 3,
     "solution": false,
     "task": false
    }
   },
   "outputs": [
    {
     "name": "stdout",
     "output_type": "stream",
     "text": [
      "39.37 78 10 18\n"
     ]
    }
   ],
   "source": [
    "# TEST CASE\n",
    "synthetic_data = dp_synthetic_data_two_marginal(100, 1.0)\n",
    "\n",
    "s1 = synthetic_data['Age'].mean()\n",
    "s2 = len(synthetic_data[synthetic_data['Workclass'] == 'Private'])\n",
    "s3 = len(synthetic_data[synthetic_data['Occupation'] == 'Adm-clerical'])\n",
    "s4 = len(synthetic_data[synthetic_data['Education'] == 'Bachelors'])\n",
    "\n",
    "print(s1, s2, s3, s4)\n",
    "\n",
    "assert s1 > 35 and s1 < 45\n",
    "assert s2 > 65 and s2 < 90\n",
    "assert s3 > 5 and s3 < 25\n",
    "assert s4 > 5 and s4 < 35"
   ]
  }
 ],
 "metadata": {
  "kernelspec": {
   "display_name": "Python 3",
   "language": "python",
   "name": "python3"
  },
  "language_info": {
   "codemirror_mode": {
    "name": "ipython",
    "version": 3
   },
   "file_extension": ".py",
   "mimetype": "text/x-python",
   "name": "python",
   "nbconvert_exporter": "python",
   "pygments_lexer": "ipython3",
   "version": "3.10.2"
  }
 },
 "nbformat": 4,
 "nbformat_minor": 4
}
