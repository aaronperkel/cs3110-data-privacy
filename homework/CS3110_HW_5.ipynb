{
 "cells": [
  {
   "cell_type": "markdown",
   "metadata": {},
   "source": [
    "# CS 3110/5110: Data Privacy\n",
    "## Homework 5"
   ]
  },
  {
   "cell_type": "code",
   "execution_count": 1,
   "metadata": {},
   "outputs": [],
   "source": [
    "# Load the data and libraries\n",
    "import pandas as pd\n",
    "import numpy as np\n",
    "from scipy import stats\n",
    "import matplotlib.pyplot as plt\n",
    "\n",
    "def laplace_mech(v, sensitivity, epsilon):\n",
    "    return v + np.random.laplace(loc=0, scale=sensitivity / epsilon)\n",
    "\n",
    "def laplace_mech_vec(qs, sensitivity, epsilon):\n",
    "    return [laplace_mech(q, sensitivity, epsilon) for q in qs]\n",
    "\n",
    "def gaussian_mech(v, sensitivity, epsilon, delta):\n",
    "    return v + np.random.normal(loc=0, scale=sensitivity * np.sqrt(2*np.log(1.25/delta)) / epsilon)\n",
    "\n",
    "def gaussian_mech_vec(qs, sensitivity, epsilon, delta):\n",
    "    return [gaussian_mech(q, sensitivity, epsilon, delta) for q in qs]\n",
    "\n",
    "def pct_error(orig, priv):\n",
    "    return np.abs(orig - priv)/orig * 100.0\n",
    "\n",
    "adult = pd.read_csv('https://github.com/jnear/cs3110-data-privacy/raw/main/homework/adult_with_pii.csv')"
   ]
  },
  {
   "cell_type": "markdown",
   "metadata": {},
   "source": [
    "## Question 1 (5 points)\n",
    "\n",
    "Implement the `dp_occupation_histogram` function below. It should return a differentially private histogram over the `Occupation` column in the `adult` dataset. Your function should have a total privacy cost of `epsilon` and should use parallel composition."
   ]
  },
  {
   "cell_type": "code",
   "execution_count": 4,
   "metadata": {
    "deletable": false,
    "nbgrader": {
     "cell_type": "code",
     "checksum": "6f676402dc7db9d39911a943bfc4322e",
     "grade": false,
     "grade_id": "cell-7b8cd895f25e6d77",
     "locked": false,
     "schema_version": 3,
     "solution": true,
     "task": false
    }
   },
   "outputs": [
    {
     "data": {
      "text/plain": [
       "Prof-specialty       4139.518336\n",
       "Craft-repair         4102.079245\n",
       "Exec-managerial      4066.624288\n",
       "Adm-clerical         3772.639645\n",
       "Sales                3649.839410\n",
       "Other-service        3294.124314\n",
       "Machine-op-inspct    1999.883680\n",
       "Transport-moving     1596.338461\n",
       "Handlers-cleaners    1370.814343\n",
       "Farming-fishing       993.820356\n",
       "Tech-support          927.609678\n",
       "Protective-serv       650.385886\n",
       "Priv-house-serv       149.073147\n",
       "Armed-Forces            7.618393\n",
       "Name: Occupation, dtype: float64"
      ]
     },
     "execution_count": 4,
     "metadata": {},
     "output_type": "execute_result"
    }
   ],
   "source": [
    "def dp_occupation_histogram(epsilon):\n",
    "    counts = adult['Occupation'].value_counts()\n",
    "    noisy_counts = counts.apply(lambda x: laplace_mech(x, sensitivity=1, epsilon=epsilon))\n",
    "    return noisy_counts\n",
    "\n",
    "dp_occupation_histogram(1.0)"
   ]
  },
  {
   "cell_type": "code",
   "execution_count": 5,
   "metadata": {
    "deletable": false,
    "editable": false,
    "nbgrader": {
     "cell_type": "code",
     "checksum": "a33ff0d5dc44cce47225e46bee20f197",
     "grade": true,
     "grade_id": "cell-e017e6677a43b790",
     "locked": true,
     "points": 5,
     "schema_version": 3,
     "solution": false,
     "task": false
    }
   },
   "outputs": [],
   "source": [
    "# TEST CASE\n",
    "hist = adult['Occupation'].value_counts()\n",
    "dp_results = [np.abs(dp_occupation_histogram(1.0)-hist) for _ in range(200)]\n",
    "all_dp_results = [item for sublist in dp_results for item in sublist]\n",
    "spec = [np.random.laplace(loc=0, scale=1/1.0) for _ in range(2000)]\n",
    "assert stats.wasserstein_distance(all_dp_results, spec) < 2\n",
    "assert stats.wasserstein_distance(all_dp_results, spec) > 0\n",
    "\n",
    "dp_results = [np.abs(dp_occupation_histogram(0.01)-hist) for _ in range(200)]\n",
    "all_dp_results = [item for sublist in dp_results for item in sublist]\n",
    "spec = [np.random.laplace(loc=0, scale=1/0.01) for _ in range(2000)]\n",
    "assert stats.wasserstein_distance(all_dp_results, spec) < 150\n",
    "assert stats.wasserstein_distance(all_dp_results, spec) > 50"
   ]
  },
  {
   "cell_type": "markdown",
   "metadata": {},
   "source": [
    "## Question 2 (10 points)\n",
    "\n",
    "In 2-5 sentences each, answer the following:\n",
    "\n",
    "- Argue that your solution for `dp_occupation_histogram` satisfies `epsilon`-differential privacy.\n",
    "- How would your results change (in terms of accuracy) if you used sequential composition instead of parallel composition to implement `dp_occupation_histogram`, and why?\n",
    "- If you partition the data by *both* occupation and age (i.e. a contingency table), would parallel composition still apply? Why or why not?\n",
    "- If you partition the data by both occupation and age, what would happen to accuracy, and why?"
   ]
  },
  {
   "cell_type": "markdown",
   "metadata": {
    "deletable": false,
    "nbgrader": {
     "cell_type": "markdown",
     "checksum": "f5c2cdb843a084ed76ab2acba24a6022",
     "grade": true,
     "grade_id": "cell-dbc4948a9f3092b7",
     "locked": false,
     "points": 10,
     "schema_version": 3,
     "solution": true,
     "task": false
    }
   },
   "source": [
    "1. The `dp_occupation_histogram` function satisfies $\\epsilon$-differential privacy by applying the Laplace Mechanism to each count in the histogram independently. Since each bin in the histogram represents a disjoint subset of the data (unique occupations), adding Laplace noise with scale $\\delta/\\epsilon = 1/\\epsilon$ to each count ensures that the presence or absence of any single individual affects only one bin by at most the sensitivity $\\delta = 1$. Utilizing parallel composition, where each mechanism operates on separate data subsets, guarantees that the overall privacy loss remains bounded by $\\epsilon$. Therefore, the entire histogram maintains $\\epsilon$-differential privacy.\n",
    "\n",
    "2. If sequential composition were used instead of parallel composition, the total privacy loss would accumulate across all bins. Specifically, for a histogram with $k$ bins, the overall privacy parameter would become $k\\epsilon$ instead of $\\epsilon$. To maintain the same total privacy budget, each bin would need to use a smaller $\\epsilon’ = \\epsilon/k$, resulting in larger noise being added to each count (since noise scale is inversely proportional to $\\epsilon’$). Consequently, the accuracy of the histogram would significantly decrease, as each bin’s count would be more heavily perturbed by the increased noise.\n",
    "\n",
    "3. No, parallel composition would not directly apply when partitioning the data by both occupation and age in a contingency table. This is because each cell in the contingency table may overlap across different partitions of the data. For example, a single individual contributes to one cell based on their occupation and age, meaning that changes to an individual’s data can affect multiple cells. Since the mechanisms applied to these overlapping cells are not operating on disjoint subsets, the privacy losses cannot be independently bounded. Therefore, parallel composition does not hold in this scenario.\n",
    "\n",
    "4. Partitioning the data by both occupation and age would decrease accuracy in the differentially private histogram. Since parallel composition does not apply, each cell in the contingency table would need to use a smaller portion of the total privacy budget to maintain the overall privacy guarantee. This reduction in the allocated $\\epsilon$ per cell results in larger noise being added to each count to preserve privacy. Consequently, the noise introduced would be more substantial, leading to less accurate and more dispersed noisy counts across the contingency table."
   ]
  },
  {
   "cell_type": "markdown",
   "metadata": {},
   "source": [
    "## Question 3 (5 points)\n",
    "\n",
    "Consider the code below, which graphs the total privacy cost of an averaging attack under (1) sequential composition and (2) advanced composition, for values of `k` between 1 and 200."
   ]
  },
  {
   "cell_type": "code",
   "execution_count": 6,
   "metadata": {},
   "outputs": [
    {
     "data": {
      "image/png": "[encoded data removed]",
      "text/plain": [
       "<Figure size 640x480 with 1 Axes>"
      ]
     },
     "metadata": {},
     "output_type": "display_data"
    }
   ],
   "source": [
    "epsilon = .1\n",
    "delta_p = 1e-5\n",
    "\n",
    "def query():\n",
    "    return len(adult_data[adult_data['Martial Status'] == 'Divorced'])\n",
    "\n",
    "def avg_attack(k):\n",
    "    return np.mean([laplace_mech(query(), 1, epsilon) for i in range(k)])\n",
    "    \n",
    "xs = range(1, 200)\n",
    "privacy_cost_sequential = [k * epsilon for k in xs]\n",
    "privacy_cost_advanced = [2 * epsilon * np.sqrt(2 * k * np.log(1/delta_p)) for k in xs]\n",
    "\n",
    "plt.plot(xs, privacy_cost_sequential);\n",
    "plt.plot(xs, privacy_cost_advanced);"
   ]
  },
  {
   "cell_type": "markdown",
   "metadata": {},
   "source": [
    "In 2-5 sentences, answer the following:\n",
    "- At approximately what point do the lines representing the two approaches cross? What does this mean about **which** composition technique should be used for an iterative algorithm?\n",
    "- The two lines represent **different** privacy costs for the **same** algorithm. How can both be correct?"
   ]
  },
  {
   "cell_type": "markdown",
   "metadata": {
    "deletable": false,
    "nbgrader": {
     "cell_type": "markdown",
     "checksum": "2b86e17228d608736c37de10704baf28",
     "grade": true,
     "grade_id": "cell-96c736c4b121709d",
     "locked": false,
     "points": 5,
     "schema_version": 3,
     "solution": true,
     "task": false
    }
   },
   "source": [
    "1. The lines representing sequential and advanced composition cross at approximately $k \\approx 92$. This crossover point indicates that for fewer iterations ($k < 92$), advanced composition offers a lower total privacy cost compared to sequential composition. However, beyond this point ($k > 92$), sequential composition becomes more privacy-efficient. Therefore, for iterative algorithms with a small to moderate number of iterations, advanced composition should be preferred to minimize privacy loss, while sequential composition may be more suitable for a large number of iterations.\n",
    "\n",
    "2. Both sequential and advanced composition lines are correct because they are based on different theoretical bounds for privacy loss under composition. Sequential composition sums the privacy loss linearly across all iterations, providing a straightforward but often looser bound. In contrast, advanced composition offers a tighter, sublinear bound by accounting for the cumulative effect of multiple mechanisms more efficiently. Therefore, depending on the number of iterations and the specific parameters, each composition method provides a valid upper bound on the total privacy cost for the same algorithm.\n"
   ]
  },
  {
   "cell_type": "markdown",
   "metadata": {},
   "source": [
    "## Question 4 (10 points)\n",
    "\n",
    "Consider the code below, which defines three average queries and runs them on `adult_data`, using the Laplace mechanism to provide differential privacy with $\\epsilon = 1$ for each query."
   ]
  },
  {
   "cell_type": "code",
   "execution_count": null,
   "metadata": {},
   "outputs": [
    {
     "data": {
      "text/plain": [
       "[17145231, 14754, 1256257]"
      ]
     },
     "execution_count": 7,
     "metadata": {},
     "output_type": "execute_result"
    }
   ],
   "source": [
    "b_capgain = 10000\n",
    "b_age = 3000\n",
    "\n",
    "epsilon = 1\n",
    "\n",
    "def query1():\n",
    "    return np.sum(adult['Capital Gain'].clip(lower=0, upper=b_capgain))\n",
    "\n",
    "def query2():\n",
    "    return len(adult[adult['Education-Num'] < 10])\n",
    "\n",
    "def query3():\n",
    "    return np.sum(adult['Age'].clip(lower=0, upper=b_age))\n",
    "\n",
    "def my_query():\n",
    "    return [query1(), query2(), query3()]\n",
    "\n",
    "my_query()"
   ]
  },
  {
   "cell_type": "markdown",
   "metadata": {},
   "source": [
    "In 2-5 sentences, answer the following:\n",
    "- What is the $L_1$ global sensitivity of `my_query`, and why?\n",
    "- What is the $L_2$ global sensitivity of `my_query`, and why?"
   ]
  },
  {
   "cell_type": "markdown",
   "metadata": {
    "deletable": false,
    "nbgrader": {
     "cell_type": "markdown",
     "checksum": "a1fecbfc2c5e53a5c39617488e4292bf",
     "grade": true,
     "grade_id": "cell-ca541a700c703c80",
     "locked": false,
     "points": 10,
     "schema_version": 3,
     "solution": true,
     "task": false
    }
   },
   "source": [
    "1. The  $L_1$  global sensitivity of my_query is the sum of the maximum changes that a single individual can contribute to each query. For `query1`, an individual’s contribution to the sum of Capital Gain is at most  $b_{\\text{capgain}} = 10,000$ . For `query2`, an individual can change the count by at most 1. For `query3`, the maximum contribution to the sum of Age is  $b_{\\text{age}} = 3,000$ . Therefore, the  $L_1$  global sensitivity is  $10,000 + 1 + 3,000 = 13,001$ .\n",
    "\n",
    "2. The  $L_2$  global sensitivity is the Euclidean norm of the maximum changes an individual can cause in the outputs. Using the same maximum contributions, the  $L_2$  sensitivity is  $\\sqrt{(10,000)^2 + 1^2 + (3,000)^2} = \\sqrt{100,000,000 + 1 + 9,000,000} = \\sqrt{109,000,001} \\approx 10,440.3$ ."
   ]
  },
  {
   "cell_type": "markdown",
   "metadata": {},
   "source": [
    "## Question 5 (5 points)\n",
    "\n",
    "In the cell below, write code to release the results of calling `my_query()` with differential privacy, without using sequential composition.\n",
    "\n",
    "*Hint*: use `laplace_mech_vec`, but be careful of sensitivity!"
   ]
  },
  {
   "cell_type": "code",
   "execution_count": 8,
   "metadata": {
    "deletable": false,
    "nbgrader": {
     "cell_type": "code",
     "checksum": "90d082593e8a002a78ea34eeaaf24bef",
     "grade": false,
     "grade_id": "cell-860262f2a5274ade",
     "locked": false,
     "schema_version": 3,
     "solution": true,
     "task": false
    }
   },
   "outputs": [
    {
     "name": "stdout",
     "output_type": "stream",
     "text": [
      "Capital Gain Sum       1.717277e+07\n",
      "Education-Num Count    1.235282e+04\n",
      "Age Sum                1.254016e+06\n",
      "dtype: float64\n"
     ]
    }
   ],
   "source": [
    "def my_query_lap(epsilon):\n",
    "    qs = my_query()\n",
    "    \n",
    "    s1 = b_capgain \n",
    "    s2 = 1   \n",
    "    s3 = b_age   \n",
    "\n",
    "    total_sensitivity = s1 + s2 + s3 \n",
    "    \n",
    "    noisy_qs = laplace_mech_vec(qs, sensitivity=total_sensitivity, epsilon=epsilon)\n",
    "    \n",
    "    return pd.Series(noisy_qs, index=['Capital Gain Sum', 'Education-Num Count', 'Age Sum'])\n",
    "\n",
    "print(my_query_lap(1.0))"
   ]
  },
  {
   "cell_type": "markdown",
   "metadata": {},
   "source": [
    "### Question 6 (5 points)\n",
    "\n",
    "In the cell below, write code to release the results of `my_query()` with differential privacy, but using the Gaussian mechanism.\n",
    "\n",
    "*Hint*: remember to use $L_2$ sensitivity"
   ]
  },
  {
   "cell_type": "code",
   "execution_count": 10,
   "metadata": {
    "deletable": false,
    "nbgrader": {
     "cell_type": "code",
     "checksum": "edd8765921e3c37313933c99df0c0c6e",
     "grade": false,
     "grade_id": "cell-a728b9c2e0db4bf9",
     "locked": false,
     "schema_version": 3,
     "solution": true,
     "task": false
    }
   },
   "outputs": [
    {
     "data": {
      "text/plain": [
       "Capital Gain Sum       1.720128e+07\n",
       "Education-Num Count    1.140060e+05\n",
       "Age Sum                1.119041e+06\n",
       "dtype: float64"
      ]
     },
     "execution_count": 10,
     "metadata": {},
     "output_type": "execute_result"
    }
   ],
   "source": [
    "def my_query_gauss(epsilon, delta):\n",
    "    qs = my_query()\n",
    "\n",
    "    l2_sensitivity = np.sqrt(b_capgain**2 + 1**2 + b_age**2)\n",
    "\n",
    "    noisy_qs = gaussian_mech_vec(qs, sensitivity=l2_sensitivity, epsilon=epsilon, delta=delta)\n",
    "\n",
    "    return pd.Series(noisy_qs, index=['Capital Gain Sum', 'Education-Num Count', 'Age Sum'])\n",
    "\n",
    "my_query_gauss(1.0, 1e-5)"
   ]
  }
 ],
 "metadata": {
  "kernelspec": {
   "display_name": "Python 3",
   "language": "python",
   "name": "python3"
  },
  "language_info": {
   "codemirror_mode": {
    "name": "ipython",
    "version": 3
   },
   "file_extension": ".py",
   "mimetype": "text/x-python",
   "name": "python",
   "nbconvert_exporter": "python",
   "pygments_lexer": "ipython3",
   "version": "3.10.2"
  }
 },
 "nbformat": 4,
 "nbformat_minor": 4
}
