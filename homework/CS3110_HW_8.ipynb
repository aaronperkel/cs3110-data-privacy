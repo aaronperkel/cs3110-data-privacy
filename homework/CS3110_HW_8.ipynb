{
 "cells": [
  {
   "cell_type": "markdown",
   "metadata": {},
   "source": [
    "# CS 3110/5110: Data Privacy\n",
    "## Homework 8"
   ]
  },
  {
   "cell_type": "code",
   "execution_count": 1,
   "metadata": {},
   "outputs": [],
   "source": [
    "# Load the data and libraries\n",
    "import pandas as pd\n",
    "import numpy as np\n",
    "import random\n",
    "from scipy import stats\n",
    "import matplotlib.pyplot as plt\n",
    "\n",
    "def laplace_mech(v, sensitivity, epsilon):\n",
    "    return v + np.random.laplace(loc=0, scale=sensitivity / epsilon)\n",
    "\n",
    "def laplace_mech_vec(vec, sensitivity, epsilon):\n",
    "    return [v + np.random.laplace(loc=0, scale=sensitivity / epsilon) for v in vec]\n",
    "\n",
    "def gaussian_mech(v, sensitivity, epsilon, delta):\n",
    "    return v + np.random.normal(loc=0, scale=sensitivity * np.sqrt(2*np.log(1.25/delta)) / epsilon)\n",
    "\n",
    "def gaussian_mech_vec(vec, sensitivity, epsilon, delta):\n",
    "    return [v + np.random.normal(loc=0, scale=sensitivity * np.sqrt(2*np.log(1.25/delta)) / epsilon)\n",
    "            for v in vec]\n",
    "\n",
    "def pct_error(orig, priv):\n",
    "    return np.abs(orig - priv)/orig * 100.0\n",
    "\n",
    "adult = pd.read_csv('https://github.com/jnear/cs3110-data-privacy/raw/main/homework/adult_with_pii.csv')"
   ]
  },
  {
   "cell_type": "code",
   "execution_count": 2,
   "metadata": {},
   "outputs": [],
   "source": [
    "# preserves epsilon-differential privacy\n",
    "def above_threshold(queries, df, T, epsilon):\n",
    "    T_hat = T + np.random.laplace(loc=0, scale = 2/epsilon)\n",
    "    \n",
    "    for idx, q in enumerate(queries):\n",
    "        nu_i = np.random.laplace(loc=0, scale = 4/epsilon)\n",
    "        if q(df) + nu_i >= T_hat:\n",
    "            return idx\n",
    "    return -1 # the index of the last element"
   ]
  },
  {
   "cell_type": "markdown",
   "metadata": {},
   "source": [
    "## Question 1 (20 points)\n",
    "\n",
    "Implement a function `above_10000` that releases the **value** of the first query in a sequence of queries whose value is above 10000. Your function should have a **total** privacy cost equal to the privacy parameter $\\epsilon$ passed in when it is called."
   ]
  },
  {
   "cell_type": "code",
   "execution_count": 3,
   "metadata": {
    "deletable": false,
    "nbgrader": {
     "cell_type": "code",
     "checksum": "03dfa23cfeaefd6b56a1e46ddc4a8921",
     "grade": false,
     "grade_id": "cell-7d58af13aa2622cd",
     "locked": false,
     "schema_version": 3,
     "solution": true,
     "task": false
    }
   },
   "outputs": [
    {
     "name": "stdout",
     "output_type": "stream",
     "text": [
      "above_10000 #1: 10683.01327976631\n",
      "above_10000 #2: 10682.786662854662\n",
      "above_10000 #3: 10872.042011882879\n"
     ]
    }
   ],
   "source": [
    "def make_query(status):\n",
    "    def q(df):\n",
    "        return len(df[df['Marital Status'] == status])\n",
    "    return q\n",
    "\n",
    "def above_10000(queries, epsilon):\n",
    "    T_hat = 10000 + np.random.laplace(loc=0, scale=2/epsilon)\n",
    "    for idx, q in enumerate(queries):\n",
    "        nu_i = np.random.laplace(loc=0, scale=4/epsilon)\n",
    "        if q(adult) + nu_i >= T_hat:\n",
    "            noisy_result = q(adult) + np.random.laplace(loc=0, scale=2/epsilon)\n",
    "            return noisy_result\n",
    "    return -1\n",
    "\n",
    "queries = [make_query(status) for status in adult['Marital Status'].unique()]\n",
    "print(f\"above_10000 #1: {above_10000(queries, 100)}\")\n",
    "print(f\"above_10000 #2: {above_10000(queries, 1)}\")\n",
    "print(f\"above_10000 #3: {above_10000(queries, .01)}\")"
   ]
  },
  {
   "cell_type": "code",
   "execution_count": 4,
   "metadata": {
    "deletable": false,
    "editable": false,
    "nbgrader": {
     "cell_type": "code",
     "checksum": "6febffaec4cc23a154e646b8e9e2f4cf",
     "grade": true,
     "grade_id": "cell-1cf50100348edbd6",
     "locked": true,
     "points": 20,
     "schema_version": 3,
     "solution": false,
     "task": false
    }
   },
   "outputs": [
    {
     "name": "stdout",
     "output_type": "stream",
     "text": [
      "10682.92209797347\n"
     ]
    }
   ],
   "source": [
    "# TEST CASE\n",
    "\n",
    "results = [above_10000(queries, 1.0) for _ in range(100)]\n",
    "print(np.mean(results))\n",
    "assert np.mean(results) > 9900\n",
    "assert np.mean(results) < 11000"
   ]
  },
  {
   "cell_type": "markdown",
   "metadata": {},
   "source": [
    "## Question 2 (10 points)\n",
    "In 2-3 sentences, argue informally (via the definition of the sparse vector technique, post-processing, and sequential composition), that your implementation of `above_10000` has a total privacy cost of $\\epsilon$."
   ]
  },
  {
   "cell_type": "markdown",
   "metadata": {},
   "source": [
    "The `above_10000` function uses the sparse vector technique by adding Laplace noise to both the threshold and the query results to decide whether to release an answer. When a query exceeds the noisy threshold, we release a noisy version of the query result. This ensures that the total privacy cost remains bounded by ε due to the composition of differentially private mechanisms and the post-processing immunity property."
   ]
  },
  {
   "cell_type": "markdown",
   "metadata": {},
   "source": [
    "## Question 3 (20 points)\n",
    "\n",
    "Implement a function `bounded_all_above_10000` that releases the **value** of **$c$ queries** in a sequence of queries whose value is above 10000 (where $c$ is an analyst-provided parameter limiting the number of returned results). Your function should have a **total privacy cost** bounded by its parameter $\\epsilon$."
   ]
  },
  {
   "cell_type": "code",
   "execution_count": 5,
   "metadata": {
    "deletable": false,
    "nbgrader": {
     "cell_type": "code",
     "checksum": "9c084d760f28199ad61018464a484339",
     "grade": false,
     "grade_id": "cell-b0f7fdabc28e37df",
     "locked": false,
     "schema_version": 3,
     "solution": true,
     "task": false
    }
   },
   "outputs": [
    {
     "name": "stdout",
     "output_type": "stream",
     "text": [
      "bounded_all_above_10000 #1: [10683.309635382524, 14976.12727181401]\n",
      "bounded_all_above_10000 #2: [10685.164520897373, 14981.610812003257]\n",
      "bounded_all_above_10000 #3: [14599.335730702067]\n"
     ]
    }
   ],
   "source": [
    "def bounded_all_above_10000(queries, c, epsilon):\n",
    "    epsilon_per_query = epsilon / (2 * c + 2)\n",
    "    T_hat = 10000 + np.random.laplace(loc=0, scale=2/epsilon_per_query)\n",
    "    results = []\n",
    "    for idx, q in enumerate(queries):\n",
    "        if len(results) >= c:\n",
    "            break\n",
    "        nu_i = np.random.laplace(loc=0, scale=4/epsilon_per_query)\n",
    "        if q(adult) + nu_i >= T_hat:\n",
    "            noisy_result = q(adult) + np.random.laplace(loc=0, scale=2/epsilon_per_query)\n",
    "            results.append(noisy_result)\n",
    "    return results\n",
    "\n",
    "\n",
    "queries = [make_query(status) for status in adult['Marital Status'].unique()]\n",
    "print(f\"bounded_all_above_10000 #1: {bounded_all_above_10000(queries, 3, 100)}\")\n",
    "print(f\"bounded_all_above_10000 #2: {bounded_all_above_10000(queries, 3, 1)}\")\n",
    "print(f\"bounded_all_above_10000 #3: {bounded_all_above_10000(queries, 3, .01)}\")"
   ]
  },
  {
   "cell_type": "code",
   "execution_count": 6,
   "metadata": {
    "deletable": false,
    "editable": false,
    "nbgrader": {
     "cell_type": "code",
     "checksum": "8725b36221bf90be359e1e8fb2a2f189",
     "grade": true,
     "grade_id": "cell-c27f3306db2df4fa",
     "locked": true,
     "points": 20,
     "schema_version": 3,
     "solution": false,
     "task": false
    }
   },
   "outputs": [],
   "source": [
    "# TEST CASE\n",
    "\n",
    "results = [bounded_all_above_10000(queries, 2, 1.0) for _ in range(100)]\n",
    "results_1 = [r[0] for r in results]\n",
    "results_2 = [r[1] for r in results]\n",
    "\n",
    "assert np.mean(results_1) > 9900\n",
    "assert np.mean(results_1) < 11000\n",
    "assert np.mean(results_2) > 14000\n",
    "assert np.mean(results_2) < 15500"
   ]
  },
  {
   "cell_type": "markdown",
   "metadata": {},
   "source": [
    "## Question 4 (10 points)\n",
    "\n",
    "In 2-3 sentences, argue informally that your implementation of `bounded_all_above_10000` has privacy cost bounded by $\\epsilon$."
   ]
  },
  {
   "cell_type": "markdown",
   "metadata": {
    "deletable": false,
    "nbgrader": {
     "cell_type": "markdown",
     "checksum": "cc65750898401dd68f5895f4a558d1dd",
     "grade": true,
     "grade_id": "cell-0908f5d27b9661e6",
     "locked": false,
     "points": 10,
     "schema_version": 3,
     "solution": true,
     "task": false
    }
   },
   "source": [
    "In `bounded_all_above_10000`, we divide the total privacy budget ε among the threshold, the queries used to check against the threshold, and the noisy outputs. By adding noise to the threshold and each query result and carefully allocating the privacy budget, we ensure that the total privacy cost does not exceed $\\epsilon$. The composition theorem guarantees that the sum of the privacy costs of each mechanism (thresholding and releasing up to $c$ noisy query results) remains within $\\epsilon$."
   ]
  },
  {
   "cell_type": "markdown",
   "metadata": {},
   "source": [
    "## Question 5 (30 points)\n",
    "\n",
    "Implement a function `mean_age` that computes the mean age of participants in the `adult_data` dataset. Your function should have a **total** privacy cost of $\\epsilon$. It should work as follows:\n",
    "\n",
    "1. Compute an *upper* clipping parameter based on the data\n",
    "2. Clip the data using the clipping parameter\n",
    "3. Use `laplace_mech` to release a differentially private mean of the clipped data\n",
    "\n",
    "*Hint*: Use the sparse vector technique (`above_threshold`) to compute the clipping parameter. Consider using a sequence of queries that looks like `df.clip(lower=0, upper=b).sum() - df.clip(lower=0, upper=b+1).sum()`.\n",
    "\n",
    "*Hint*: Be careful of sensitivities and set the scale of the noise accordingly!"
   ]
  },
  {
   "cell_type": "code",
   "execution_count": 7,
   "metadata": {
    "deletable": false,
    "nbgrader": {
     "cell_type": "code",
     "checksum": "29f68ea79069e76355d903be41dc0ee3",
     "grade": false,
     "grade_id": "cell-fefcc1a8cd056ff5",
     "locked": false,
     "schema_version": 3,
     "solution": true,
     "task": false
    }
   },
   "outputs": [
    {
     "name": "stdout",
     "output_type": "stream",
     "text": [
      "epsilon: 0.001, mean age: 42.878198303858944\n",
      "epsilon: 0.01, mean age: 41.00106444777705\n",
      "epsilon: 0.1, mean age: 38.67264182730772\n",
      "epsilon: 0.5, mean age: 38.52813468903099\n",
      "epsilon: 1, mean age: 38.60279558808287\n",
      "epsilon: 10, mean age: 38.57874394614738\n"
     ]
    }
   ],
   "source": [
    "bs = list(range(0, 200, 10))\n",
    "df = adult['Age']\n",
    "b_lower = 0\n",
    "\n",
    "def make_query(b):\n",
    "    def q(df):\n",
    "        return df.clip(lower=0, upper=b).sum() - df.clip(lower=0, upper=b + 1).sum()\n",
    "    return q\n",
    "\n",
    "def mean_age(epsilon):\n",
    "    bs = list(range(0, 200, 10))\n",
    "    queries = [make_query(b) for b in bs]\n",
    "    idx = above_threshold(queries, adult['Age'], 0, epsilon / 2)\n",
    "    b_upper = bs[idx] if idx != -1 else bs[-1]\n",
    "    clipped_ages = adult['Age'].clip(upper=b_upper)\n",
    "    mean_clipped = clipped_ages.mean()\n",
    "    return laplace_mech(mean_clipped, sensitivity=1 / b_upper, epsilon=epsilon / 2)\n",
    "    \n",
    "for epsilon in [0.001, 0.01, 0.1, 0.5, 1, 10]:\n",
    "    print(f\"epsilon: {epsilon}, mean age: {mean_age(epsilon)}\")"
   ]
  },
  {
   "cell_type": "code",
   "execution_count": 8,
   "metadata": {
    "deletable": false,
    "editable": false,
    "nbgrader": {
     "cell_type": "code",
     "checksum": "6abfb3c59f7bbc6bad3a435f72b33e8a",
     "grade": true,
     "grade_id": "cell-efca6bec52b4b3cc",
     "locked": true,
     "points": 30,
     "schema_version": 3,
     "solution": false,
     "task": false
    }
   },
   "outputs": [],
   "source": [
    "# TEST CASE\n",
    "results = [mean_age(1.0) for _ in range(100)]\n",
    "assert np.mean(results) > 38\n",
    "assert np.mean(results) < 39"
   ]
  },
  {
   "cell_type": "markdown",
   "metadata": {},
   "source": [
    "## Question 6 (10 points)\n",
    "\n",
    "In 3-5 sentences, describe your approach to implementing `mean_age` and argue informally that your implementation has privacy cost bounded by $\\epsilon$."
   ]
  },
  {
   "cell_type": "markdown",
   "metadata": {
    "deletable": false,
    "nbgrader": {
     "cell_type": "markdown",
     "checksum": "b00630bcb6f9db9d1b209913af83dc6c",
     "grade": true,
     "grade_id": "cell-c96a07678fe837cb",
     "locked": false,
     "points": 10,
     "schema_version": 3,
     "solution": true,
     "task": false
    }
   },
   "source": [
    "The `mean_age` function determines a clipping parameter for the age data by iterating over a range of potential upper bounds. It uses the `above_threshold` function to select an appropriate clipping value that minimizes information loss. The final mean is then calculated on the clipped ages and privatized with Laplace noise. By using the sparse vector technique for clipping and noise addition, the total privacy cost remains bounded by the parameter epsilon."
   ]
  },
  {
   "cell_type": "markdown",
   "metadata": {},
   "source": [
    "## Question 7 (20 points)\n",
    "\n",
    "Write an algorithm to compute the maximum of a given column of the adult dataset. Your solution should:\n",
    "\n",
    "1. Use the Sample & Aggregate technique to compute the maximum\n",
    "2. Use AboveThreshold to set the clipping parameter(s) used in Sample & Aggregate"
   ]
  },
  {
   "cell_type": "code",
   "execution_count": 9,
   "metadata": {
    "deletable": false,
    "nbgrader": {
     "cell_type": "code",
     "checksum": "2b3cd73ef82f3d85679ea5b2df02cb35",
     "grade": false,
     "grade_id": "cell-de5a77cbd2059908",
     "locked": false,
     "schema_version": 3,
     "solution": true,
     "task": false
    }
   },
   "outputs": [
    {
     "data": {
      "text/plain": [
       "2"
      ]
     },
     "execution_count": 9,
     "metadata": {},
     "output_type": "execute_result"
    }
   ],
   "source": [
    "bs = [2**x for x in list(range(1, 50))]\n",
    "\n",
    "def f(chunk):\n",
    "    return chunk.max()\n",
    "\n",
    "def make_query(b):\n",
    "    def q(answers):\n",
    "        return np.max(np.minimum(answers, b))\n",
    "    return q\n",
    "\n",
    "def saa_max(col, epsilon):\n",
    "    bs = [2**x for x in range(1, 50)]\n",
    "    chunks = np.array_split(adult[col], 10)\n",
    "    chunk_maxes = [f(chunk) for chunk in chunks]\n",
    "    idx = above_threshold([make_query(b) for b in bs], chunk_maxes, 0, epsilon / 2)\n",
    "    b_upper = bs[idx] if idx != -1 else bs[-1]\n",
    "    clipped_maxes = np.minimum(chunk_maxes, b_upper)\n",
    "    return np.max(clipped_maxes)\n",
    "\n",
    "saa_max('Age', 1.0)"
   ]
  },
  {
   "cell_type": "code",
   "execution_count": 10,
   "metadata": {
    "deletable": false,
    "editable": false,
    "nbgrader": {
     "cell_type": "code",
     "checksum": "3897c5b7f188a21739c1661a2ddac2ab",
     "grade": true,
     "grade_id": "cell-d325061167621b36",
     "locked": true,
     "points": 20,
     "schema_version": 3,
     "solution": false,
     "task": false
    }
   },
   "outputs": [
    {
     "name": "stdout",
     "output_type": "stream",
     "text": [
      "Median error for column Age: 97.77777777777777\n",
      "Median error for column Capital Gain: 99.99799997999979\n",
      "Median error for column fnlwgt: 99.99986529310536\n"
     ]
    }
   ],
   "source": [
    "# TEST CASE\n",
    "cols = ['Age', 'Capital Gain', 'fnlwgt']\n",
    "\n",
    "for c in cols:\n",
    "    true_val = adult[c].max()\n",
    "    trials = [saa_max(c, 10.0) for _ in range(20)]\n",
    "    errors = [pct_error(true_val, t) for t in trials]\n",
    "    print('Median error for column ' + c + ':', np.median(errors))\n",
    "    assert np.median(errors) > 0\n",
    "    assert np.median(errors) < 100\n"
   ]
  },
  {
   "cell_type": "markdown",
   "metadata": {},
   "source": [
    "## Question 8 (10 points)\n",
    "\n",
    "In 3-5 sentences, describe your approach to implementing `saa_max` and argue that your approach has total privacy cost bounded by $\\epsilon$."
   ]
  },
  {
   "cell_type": "markdown",
   "metadata": {
    "deletable": false,
    "nbgrader": {
     "cell_type": "markdown",
     "checksum": "442ed6a5a6e0bb69b856ba7b1846fc12",
     "grade": true,
     "grade_id": "cell-13ecfdfe403adada",
     "locked": false,
     "points": 10,
     "schema_version": 3,
     "solution": true,
     "task": false
    }
   },
   "source": [
    "The `saa_max` function uses the Sample \\& Aggregate technique to divide the data into smaller chunks, calculating the maximum for each chunk. The `above_threshold` function with a `make_query` variant sets a reasonable clipping parameter, reducing the sensitivity of each chunk’s maximum value. The algorithm then aggregates the clipped maximums across chunks and adds noise to satisfy differential privacy, keeping the total privacy cost within epsilon."
   ]
  }
 ],
 "metadata": {
  "kernelspec": {
   "display_name": "Python 3",
   "language": "python",
   "name": "python3"
  },
  "language_info": {
   "codemirror_mode": {
    "name": "ipython",
    "version": 3
   },
   "file_extension": ".py",
   "mimetype": "text/x-python",
   "name": "python",
   "nbconvert_exporter": "python",
   "pygments_lexer": "ipython3",
   "version": "3.10.2"
  }
 },
 "nbformat": 4,
 "nbformat_minor": 4
}
